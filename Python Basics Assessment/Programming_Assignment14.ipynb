{
 "cells": [
  {
   "cell_type": "markdown",
   "id": "a95e60c2",
   "metadata": {},
   "source": [
    "# Define a class with a generator which can iterate the numbers, which are divisible by 7, between a given range 0 and n."
   ]
  },
  {
   "cell_type": "code",
   "execution_count": 39,
   "id": "9f0de73e",
   "metadata": {},
   "outputs": [
    {
     "name": "stdout",
     "output_type": "stream",
     "text": [
      "0\n",
      "7\n",
      "14\n",
      "21\n",
      "28\n",
      "35\n",
      "42\n",
      "49\n",
      "56\n",
      "63\n",
      "70\n",
      "77\n",
      "84\n",
      "91\n",
      "98\n"
     ]
    }
   ],
   "source": [
    "class Generator:\n",
    "    def __init__(self):\n",
    "        pass\n",
    "        \n",
    "    def iter(self,n):\n",
    "        for i in range(0,n):\n",
    "            if i%7==0:\n",
    "                print(i)\n",
    "I=Generator()\n",
    "I.iter(99)"
   ]
  },
  {
   "cell_type": "markdown",
   "id": "8d3f4261",
   "metadata": {},
   "source": [
    "# 2Write a program to compute the frequency of the words from the input. The output should output after sorting the key alphanumerically. \n",
    "## Suppose the following input is supplied to the program: New to Python or choosing between Python 2 and Python 3? Read Python 2 or Python 3. \n",
    "## Then, the output should be:\n",
    "## 2:2  \n",
    "## 3.:1\n",
    "## 3?:1\n",
    "## New:1\n",
    "## Python:5\n",
    "## Read:1\n",
    "## and:1\n",
    "## between:1\n",
    "## choosing:1\n",
    "## or:2\n",
    "## to:1"
   ]
  },
  {
   "cell_type": "code",
   "execution_count": 5,
   "id": "289d739d",
   "metadata": {},
   "outputs": [
    {
     "name": "stdout",
     "output_type": "stream",
     "text": [
      "New to Python or choosing between Python 2 and Python 3? Read Python 2 or Python 3.\n",
      "2 :2\n",
      "3. :1\n",
      "3? :1\n",
      "New :1\n",
      "Python :5\n",
      "Read :1\n",
      "and :1\n",
      "between :1\n",
      "choosing :1\n",
      "or :2\n",
      "to :1\n"
     ]
    }
   ],
   "source": [
    "s=input().split()\n",
    "w=sorted(set(s))\n",
    "for i in w:\n",
    "    print(f\"{i} :{s.count(i)}\")"
   ]
  },
  {
   "cell_type": "markdown",
   "id": "4a331177",
   "metadata": {},
   "source": [
    "# 3.Define a class Person and its two child classes: Male and Female. All classes have a method \"getGender\" which can print \"Male\" for Male class and \"Female\" for Female class."
   ]
  },
  {
   "cell_type": "code",
   "execution_count": 46,
   "id": "5dd2503c",
   "metadata": {},
   "outputs": [
    {
     "name": "stdout",
     "output_type": "stream",
     "text": [
      "Male\n",
      "Female\n"
     ]
    }
   ],
   "source": [
    "class Person:\n",
    "     def getGender(self):\n",
    "        return \"None\"\n",
    "class Male(Person):\n",
    "    def getGender(self):\n",
    "        return \"Male\"\n",
    "class Female(Person):\n",
    "    def getGender(self):\n",
    "         return \"Female\"\n",
    "objMale = Male()\n",
    "objFemale= Female()\n",
    "print(objMale.getGender())\n",
    "print(objFemale.getGender())"
   ]
  },
  {
   "cell_type": "markdown",
   "id": "06499077",
   "metadata": {},
   "source": [
    "# 3. Please write a program to generate all sentences where subject is in [\"I\", \"You\"] and verb is in [\"Play\", \"Love\"] and the object is in [\"Hockey\",\"Football\"]."
   ]
  },
  {
   "cell_type": "code",
   "execution_count": 48,
   "id": "e029ff80",
   "metadata": {},
   "outputs": [
    {
     "name": "stdout",
     "output_type": "stream",
     "text": [
      "I Play Hockey\n",
      "I Play Football\n",
      "I Love Hockey\n",
      "I Love Football\n",
      "You Play Hockey\n",
      "You Play Football\n",
      "You Love Hockey\n",
      "You Love Football\n"
     ]
    }
   ],
   "source": [
    "subject=[\"I\", \"You\"]\n",
    "verb=[\"Play\", \"Love\"]\n",
    "obj=[\"Hockey\",\"Football\"]\n",
    "\n",
    "# Use list comprehension instead of looping over each of the predicates\n",
    "sentence_list = [(sub+\" \"+ vb + \" \" + ob) for sub in subject for vb in verb for ob in obj]\n",
    "for sentence in sentence_list:\n",
    "    print(sentence)"
   ]
  },
  {
   "cell_type": "markdown",
   "id": "63330c58",
   "metadata": {},
   "source": [
    "# 5. Please write a program to compress and decompress the string \"hello world!hello world!hello world!hello world!\"."
   ]
  },
  {
   "cell_type": "code",
   "execution_count": 49,
   "id": "9d06f0ff",
   "metadata": {},
   "outputs": [
    {
     "name": "stdout",
     "output_type": "stream",
     "text": [
      "b'x\\x9c\\xcbH\\xcd\\xc9\\xc9W(\\xcf/\\xcaIQ\\xcc \\x82\\r\\x00\\xbd[\\x11\\xf5'\n",
      "b'hello world!hello world!hello world!hello world!'\n"
     ]
    }
   ],
   "source": [
    "import zlib\n",
    "s = 'hello world!hello world!hello world!hello world!'\n",
    "# In Python 3 zlib.compress() accepts only DataType \n",
    "y = bytes(s, 'utf-8')\n",
    "x = zlib.compress(y)\n",
    "print(x)\n",
    "print(zlib.decompress(x))"
   ]
  },
  {
   "cell_type": "markdown",
   "id": "35a34f48",
   "metadata": {},
   "source": [
    "# 6.Please write a binary search function which searches an item in a sorted list. The function should return the index of element to be searched in the list."
   ]
  },
  {
   "cell_type": "code",
   "execution_count": 58,
   "id": "13c91a06",
   "metadata": {},
   "outputs": [
    {
     "name": "stdout",
     "output_type": "stream",
     "text": [
      "enter the elements with separate by comma:3,4,5,6,7,82,1\n",
      "Sorted listed is:\n",
      "['1', '3', '4', '5', '6', '7', '82']\n",
      "enter the numeric element to search element in list or not4\n",
      "First element 4 present at 2th index position in list\n"
     ]
    }
   ],
   "source": [
    "l= input(\"enter the elements with separate by comma:\").split(\",\")\n",
    "l1=sorted(l)\n",
    "print(\"Sorted listed is:\")\n",
    "print(l1)\n",
    "e=int(input(\"enter the numeric element to search element in list or not\"))\n",
    "for i in range(len(l1)):\n",
    "    if(e ==int(l1[i]) and l1[i] in '01234567890'):\n",
    "        print(f\"First element {e} present at {i}th index position in list\")\n",
    "        break\n",
    "else:\n",
    "    print(f\"element {e} not in list\")\n",
    "       "
   ]
  }
 ],
 "metadata": {
  "kernelspec": {
   "display_name": "Python 3 (ipykernel)",
   "language": "python",
   "name": "python3"
  },
  "language_info": {
   "codemirror_mode": {
    "name": "ipython",
    "version": 3
   },
   "file_extension": ".py",
   "mimetype": "text/x-python",
   "name": "python",
   "nbconvert_exporter": "python",
   "pygments_lexer": "ipython3",
   "version": "3.9.12"
  }
 },
 "nbformat": 4,
 "nbformat_minor": 5
}
