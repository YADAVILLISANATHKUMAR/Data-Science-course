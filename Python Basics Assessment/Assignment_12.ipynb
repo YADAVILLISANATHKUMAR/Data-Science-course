{
 "cells": [
  {
   "cell_type": "markdown",
   "id": "3565fd15",
   "metadata": {},
   "source": [
    "# 1. In what modes should the PdfFileReader() and PdfFileWriter() File objects will be opened?"
   ]
  },
  {
   "cell_type": "markdown",
   "id": "bb917fc4",
   "metadata": {},
   "source": [
    "PdfFileReader() needs to be opened in read-binary mode by passing 'rb' as the second argument to open(). Likewise, the File object passed to PdfFileWriter() needs to be opened in write-binary mode with 'wb'"
   ]
  },
  {
   "cell_type": "markdown",
   "id": "ee5835b5",
   "metadata": {},
   "source": [
    "# 2. From a PdfFileReader object, how do you get a Page object for page 5?"
   ]
  },
  {
   "cell_type": "markdown",
   "id": "c55a47d2",
   "metadata": {},
   "source": [
    "Calling getPage(4) will return a Page object for pdf file or book , since page 0 is the first page."
   ]
  },
  {
   "cell_type": "markdown",
   "id": "f3d9a9b4",
   "metadata": {},
   "source": [
    "# 3. What PdfFileReader variable stores the number of pages in the PDF document?"
   ]
  },
  {
   "cell_type": "markdown",
   "id": "3f4c1ace",
   "metadata": {},
   "source": [
    "The numPages variable stores an integer of the number of pages in the PdfFileReader object."
   ]
  },
  {
   "cell_type": "markdown",
   "id": "50b59d2c",
   "metadata": {},
   "source": [
    "# 4. If a PdfFileReader object’s PDF is encrypted with the password swordfish, what must you do before you can obtain Page objects from it? "
   ]
  },
  {
   "cell_type": "markdown",
   "id": "66fca973",
   "metadata": {},
   "source": [
    "  Call decrypt('swordfish') "
   ]
  },
  {
   "cell_type": "markdown",
   "id": "874a9b10",
   "metadata": {},
   "source": [
    "# 5. What methods do you use to rotate a page?"
   ]
  },
  {
   "cell_type": "markdown",
   "id": "6ad3027a",
   "metadata": {},
   "source": [
    "The rotateClockwise() and rotateCounterClockwise() methods and  The degrees to rotate is passed as an integer argument."
   ]
  },
  {
   "cell_type": "markdown",
   "id": "9e8953c5",
   "metadata": {},
   "source": [
    "# 6. What is the difference between a Run object and a Paragraph object?"
   ]
  },
  {
   "cell_type": "markdown",
   "id": "f3f24836",
   "metadata": {},
   "source": [
    "new Paragraph objects can be added only to the end of the document, and new Run objects can be added only to the end of a Paragraph object."
   ]
  },
  {
   "cell_type": "markdown",
   "id": "4594b3e1",
   "metadata": {},
   "source": [
    "# 7. How do you obtain a list of Paragraph objects for a Document object that’s stored in a variable named doc?"
   ]
  },
  {
   "cell_type": "markdown",
   "id": "654e5a52",
   "metadata": {},
   "source": [
    "We obtain a list of Paragraph objects for a Document object that’s stored in a variable named doc by \n",
    "doc = docx.Document('demo.docx') .\n",
    "doc.paragraphs[0].text gets Document Title. \n"
   ]
  },
  {
   "cell_type": "markdown",
   "id": "cc0aefea",
   "metadata": {},
   "source": [
    "# 8. What type of object has bold, underline, italic, strike, and outline variables?"
   ]
  },
  {
   "cell_type": "markdown",
   "id": "aec12629",
   "metadata": {},
   "source": [
    "A document contains multiple paragraphs. A paragraph begins on a new line and contains multiple runs. Runs are contiguous groups of characters within a paragraph."
   ]
  },
  {
   "cell_type": "markdown",
   "id": "aae7289a",
   "metadata": {},
   "source": [
    "# 9. What is the difference between False, True, and None for the bold variable?"
   ]
  },
  {
   "cell_type": "markdown",
   "id": "88f3f290",
   "metadata": {},
   "source": [
    "True means the property is “on”, False means it is “off”. Conceptually, the None value means “inherit”. A run exists in the style inheritance hierarchy and by default inherits its character formatting from that hierarchy."
   ]
  },
  {
   "cell_type": "markdown",
   "id": "49ac82a3",
   "metadata": {},
   "source": [
    "# 10. How do you create a Document object for a new Word document?"
   ]
  },
  {
   "cell_type": "markdown",
   "id": "0d2f528f",
   "metadata": {},
   "source": [
    "We can create a Document object for a new Word document as\n",
    "doc = docx.Document('new_word_document.docx') .\n",
    " "
   ]
  },
  {
   "cell_type": "markdown",
   "id": "8e3b7047",
   "metadata": {},
   "source": [
    "# 11.How do you add a paragraph with the text &#39;Hello, there!&#39; to a Document object stored in a variable named doc? "
   ]
  },
  {
   "cell_type": "markdown",
   "id": "4e4dd040",
   "metadata": {},
   "source": [
    "doc.add_paragraph('Hello there!')"
   ]
  },
  {
   "cell_type": "markdown",
   "id": "5da7c288",
   "metadata": {},
   "source": [
    "# 12. What integers represent the levels of headings available in Word documents?"
   ]
  },
  {
   "cell_type": "markdown",
   "id": "d18db4f1",
   "metadata": {},
   "source": [
    "The integers 0, 1, 2, 3, and 4 represent the levels of headings available in Word documents"
   ]
  }
 ],
 "metadata": {
  "kernelspec": {
   "display_name": "Python 3 (ipykernel)",
   "language": "python",
   "name": "python3"
  },
  "language_info": {
   "codemirror_mode": {
    "name": "ipython",
    "version": 3
   },
   "file_extension": ".py",
   "mimetype": "text/x-python",
   "name": "python",
   "nbconvert_exporter": "python",
   "pygments_lexer": "ipython3",
   "version": "3.9.12"
  }
 },
 "nbformat": 4,
 "nbformat_minor": 5
}
