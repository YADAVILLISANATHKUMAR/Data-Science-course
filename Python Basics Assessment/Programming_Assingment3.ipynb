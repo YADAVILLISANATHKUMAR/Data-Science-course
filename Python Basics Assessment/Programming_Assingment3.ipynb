{
 "cells": [
  {
   "cell_type": "markdown",
   "id": "3f65f908",
   "metadata": {},
   "source": [
    "1.\tWrite a Python Program to Check if a Number is Positive, Negative or Zero?"
   ]
  },
  {
   "cell_type": "code",
   "execution_count": 11,
   "id": "9741d643",
   "metadata": {},
   "outputs": [
    {
     "name": "stdout",
     "output_type": "stream",
     "text": [
      "enter the number to check its Positive, Negative or Zero : 2\n",
      "2 is positive number\n"
     ]
    }
   ],
   "source": [
    "number =int(input(\"enter the number to check its Positive, Negative or Zero : \"))\n",
    "def checkNumber(number):\n",
    "    if(number == 0):\n",
    "        print(\"Number is zero \")\n",
    "    elif(number < 0):\n",
    "        print (number ,\" is negative number \")\n",
    "    else:\n",
    "        print(number ,\"is positive number\")\n",
    "checkNumber(number)        "
   ]
  },
  {
   "cell_type": "markdown",
   "id": "f13422b4",
   "metadata": {},
   "source": [
    "2.\tWrite a Python Program to Check if a Number is Odd or Even?"
   ]
  },
  {
   "cell_type": "code",
   "execution_count": 13,
   "id": "c53bb5f2",
   "metadata": {},
   "outputs": [
    {
     "name": "stdout",
     "output_type": "stream",
     "text": [
      "enter the number is even or odd : 2\n",
      "2  is even number \n"
     ]
    }
   ],
   "source": [
    "number =int(input(\"enter the number is even or odd : \"))\n",
    "def EvenOddNumber(number):\n",
    "    if(number %2 ==0):\n",
    "        print(number,\" is even number \")\n",
    "\n",
    "    else:\n",
    "        print(number ,\"is odd number\")\n",
    "EvenOddNumber(number)        "
   ]
  },
  {
   "cell_type": "markdown",
   "id": "4e100bfc-9aad-4cbf-b68b-6aeb1c6ac7d6",
   "metadata": {},
   "source": [
    "\n",
    "3.\tWrite a Python Program to Check Leap Year?\n"
   ]
  },
  {
   "cell_type": "code",
   "execution_count": 20,
   "id": "66d4d248",
   "metadata": {
    "scrolled": true,
    "tags": []
   },
   "outputs": [
    {
     "name": "stdout",
     "output_type": "stream",
     "text": [
      "enter the year to check leap year or not  : 1700\n",
      "1700 not a leap year\n"
     ]
    }
   ],
   "source": [
    "year =int(input(\"enter the year to check leap year or not  : \"))\n",
    "def CheckLeapYear(year):\n",
    "    # to check leap year for century year i.e 2000,1600 \n",
    "    if(year %400 == 0 and year% 100 ==0):\n",
    "        print(year,\"leap year\")\n",
    "    # to check leap year for non  century year i.e 2004,2016 ,2020\n",
    "    elif(year % 4 == 0 and year % 100 != 0) :\n",
    "         print(year,\"leap year\")\n",
    "    else:\n",
    "        print(year,\"not a leap year\")   \n",
    "CheckLeapYear(year)       \n",
    "    "
   ]
  },
  {
   "cell_type": "markdown",
   "id": "6a5101b6",
   "metadata": {},
   "source": [
    "4.\tWrite a Python Program to Check Prime Number?"
   ]
  },
  {
   "cell_type": "code",
   "execution_count": 5,
   "id": "fc4a8cc7",
   "metadata": {},
   "outputs": [
    {
     "name": "stdin",
     "output_type": "stream",
     "text": [
      "enter the number to check  prime or not :  2\n"
     ]
    },
    {
     "name": "stdout",
     "output_type": "stream",
     "text": [
      "2  is prime number\n"
     ]
    }
   ],
   "source": [
    "number =int(input(\"enter the number to check  prime or not : \"))\n",
    "  \n",
    "def checkPrime(number):\n",
    "    if number >1:\n",
    "        for i in range(2,number):\n",
    "            if(number % i == 0):\n",
    "                print(number,\" is not a prime number\")\n",
    "                break\n",
    "        else:\n",
    "            print(number,\" is prime number\")\n",
    "    else:\n",
    "        print(number,\"is not a prime number\")\n",
    "checkPrime(number)        "
   ]
  },
  {
   "cell_type": "markdown",
   "id": "f1cc992d-4722-4acb-b50e-1f0f9432a296",
   "metadata": {},
   "source": [
    "5.\tWrite a Python Program to Print all Prime Numbers in an Interval of 1-10000?"
   ]
  },
  {
   "cell_type": "code",
   "execution_count": 24,
   "id": "d97ea4b4-69ae-4695-ac5a-cfe4026b03cd",
   "metadata": {},
   "outputs": [
    {
     "name": "stdin",
     "output_type": "stream",
     "text": [
      "enter the number to get prime number with in given number :  1\n",
      "enter the number to get prime number with in given number :  1000\n"
     ]
    },
    {
     "name": "stdout",
     "output_type": "stream",
     "text": [
      "2  is prime number\n",
      "3  is prime number\n",
      "5  is prime number\n",
      "7  is prime number\n",
      "11  is prime number\n",
      "13  is prime number\n",
      "17  is prime number\n",
      "19  is prime number\n",
      "23  is prime number\n",
      "29  is prime number\n",
      "31  is prime number\n",
      "37  is prime number\n",
      "41  is prime number\n",
      "43  is prime number\n",
      "47  is prime number\n",
      "53  is prime number\n",
      "59  is prime number\n",
      "61  is prime number\n",
      "67  is prime number\n",
      "71  is prime number\n",
      "73  is prime number\n",
      "79  is prime number\n",
      "83  is prime number\n",
      "89  is prime number\n",
      "97  is prime number\n",
      "101  is prime number\n",
      "103  is prime number\n",
      "107  is prime number\n",
      "109  is prime number\n",
      "113  is prime number\n",
      "127  is prime number\n",
      "131  is prime number\n",
      "137  is prime number\n",
      "139  is prime number\n",
      "149  is prime number\n",
      "151  is prime number\n",
      "157  is prime number\n",
      "163  is prime number\n",
      "167  is prime number\n",
      "173  is prime number\n",
      "179  is prime number\n",
      "181  is prime number\n",
      "191  is prime number\n",
      "193  is prime number\n",
      "197  is prime number\n",
      "199  is prime number\n",
      "211  is prime number\n",
      "223  is prime number\n",
      "227  is prime number\n",
      "229  is prime number\n",
      "233  is prime number\n",
      "239  is prime number\n",
      "241  is prime number\n",
      "251  is prime number\n",
      "257  is prime number\n",
      "263  is prime number\n",
      "269  is prime number\n",
      "271  is prime number\n",
      "277  is prime number\n",
      "281  is prime number\n",
      "283  is prime number\n",
      "293  is prime number\n",
      "307  is prime number\n",
      "311  is prime number\n",
      "313  is prime number\n",
      "317  is prime number\n",
      "331  is prime number\n",
      "337  is prime number\n",
      "347  is prime number\n",
      "349  is prime number\n",
      "353  is prime number\n",
      "359  is prime number\n",
      "367  is prime number\n",
      "373  is prime number\n",
      "379  is prime number\n",
      "383  is prime number\n",
      "389  is prime number\n",
      "397  is prime number\n",
      "401  is prime number\n",
      "409  is prime number\n",
      "419  is prime number\n",
      "421  is prime number\n",
      "431  is prime number\n",
      "433  is prime number\n",
      "439  is prime number\n",
      "443  is prime number\n",
      "449  is prime number\n",
      "457  is prime number\n",
      "461  is prime number\n",
      "463  is prime number\n",
      "467  is prime number\n",
      "479  is prime number\n",
      "487  is prime number\n",
      "491  is prime number\n",
      "499  is prime number\n",
      "503  is prime number\n",
      "509  is prime number\n",
      "521  is prime number\n",
      "523  is prime number\n",
      "541  is prime number\n",
      "547  is prime number\n",
      "557  is prime number\n",
      "563  is prime number\n",
      "569  is prime number\n",
      "571  is prime number\n",
      "577  is prime number\n",
      "587  is prime number\n",
      "593  is prime number\n",
      "599  is prime number\n",
      "601  is prime number\n",
      "607  is prime number\n",
      "613  is prime number\n",
      "617  is prime number\n",
      "619  is prime number\n",
      "631  is prime number\n",
      "641  is prime number\n",
      "643  is prime number\n",
      "647  is prime number\n",
      "653  is prime number\n",
      "659  is prime number\n",
      "661  is prime number\n",
      "673  is prime number\n",
      "677  is prime number\n",
      "683  is prime number\n",
      "691  is prime number\n",
      "701  is prime number\n",
      "709  is prime number\n",
      "719  is prime number\n",
      "727  is prime number\n",
      "733  is prime number\n",
      "739  is prime number\n",
      "743  is prime number\n",
      "751  is prime number\n",
      "757  is prime number\n",
      "761  is prime number\n",
      "769  is prime number\n",
      "773  is prime number\n",
      "787  is prime number\n",
      "797  is prime number\n",
      "809  is prime number\n",
      "811  is prime number\n",
      "821  is prime number\n",
      "823  is prime number\n",
      "827  is prime number\n",
      "829  is prime number\n",
      "839  is prime number\n",
      "853  is prime number\n",
      "857  is prime number\n",
      "859  is prime number\n",
      "863  is prime number\n",
      "877  is prime number\n",
      "881  is prime number\n",
      "883  is prime number\n",
      "887  is prime number\n",
      "907  is prime number\n",
      "911  is prime number\n",
      "919  is prime number\n",
      "929  is prime number\n",
      "937  is prime number\n",
      "941  is prime number\n",
      "947  is prime number\n",
      "953  is prime number\n",
      "967  is prime number\n",
      "971  is prime number\n",
      "977  is prime number\n",
      "983  is prime number\n",
      "991  is prime number\n",
      "997  is prime number\n"
     ]
    }
   ],
   "source": [
    "low =int(input(\"enter the number to get prime number with in given number : \"))\n",
    "high=int(input(\"enter the number to get prime number with in given number : \"))\n",
    "  \n",
    "def PrimeWithInRange(low,high):\n",
    "    for i in range(low,high+1):\n",
    "        if i>1:\n",
    "            for j in range(2,i):\n",
    "                if(i%j == 0):\n",
    "                    \n",
    "                    break\n",
    "            else:\n",
    "                print(i,\" is prime number\")\n",
    "PrimeWithInRange(low,high)        "
   ]
  },
  {
   "cell_type": "code",
   "execution_count": null,
   "id": "72c1dba1-e9ce-4dea-b8c3-8d4ffb259793",
   "metadata": {},
   "outputs": [],
   "source": []
  }
 ],
 "metadata": {
  "kernelspec": {
   "display_name": "Python 3 (ipykernel)",
   "language": "python",
   "name": "python3"
  },
  "language_info": {
   "codemirror_mode": {
    "name": "ipython",
    "version": 3
   },
   "file_extension": ".py",
   "mimetype": "text/x-python",
   "name": "python",
   "nbconvert_exporter": "python",
   "pygments_lexer": "ipython3",
   "version": "3.9.12"
  }
 },
 "nbformat": 4,
 "nbformat_minor": 5
}
