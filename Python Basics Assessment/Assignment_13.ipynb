{
 "cells": [
  {
   "cell_type": "markdown",
   "id": "f529115d",
   "metadata": {},
   "source": [
    "# 1. What advantages do Excel spreadsheets have over CSV spreadsheets?"
   ]
  },
  {
   "cell_type": "markdown",
   "id": "4dc63e03",
   "metadata": {},
   "source": [
    "Excel spreadsheets is more superior when compared with the CSV spreadsheets file format. thus, CSV consumes less amount of file size when the user is importing data, it is a much faster format compared to excel. CSV does not manipulate data and stores it as-is. Excel also allows the user the add-in feature.\n",
    "\n",
    "CSV and Excel or . xls are two different file extensions containing data. The difference is that in CSV or comma-separated values, the data is in text format separated by commas. While in Excel or xls., information is in tabular form in rows and columns.\n",
    "\n",
    "In Excel, spreadsheets can have values of data types other than strings; cells can have different fonts, sizes, or color settings; cells can have varying widths and heights; adjacent cells can be merged; and you can embed images and charts.\n",
    "\n"
   ]
  },
  {
   "cell_type": "markdown",
   "id": "4195a2a9",
   "metadata": {},
   "source": [
    "# 2.What do you pass to csv.reader() and csv.writer() to create reader and writer objects?"
   ]
  },
  {
   "cell_type": "markdown",
   "id": "7cce0a5d",
   "metadata": {},
   "source": [
    "To read data from CSV files ,we must use the reader function to generate a reader object.\n",
    "\n",
    "The reader function is developed to take each row of the file and make a list of all columns. Then, we have to choose the column we want the variable data for.In csv.reader() we pass reference of file path with read as text mode(rt).\n",
    "\n",
    "\n"
   ]
  },
  {
   "cell_type": "code",
   "execution_count": 1,
   "id": "2964c918",
   "metadata": {},
   "outputs": [
    {
     "name": "stdout",
     "output_type": "stream",
     "text": [
      "['hi']\n",
      "['hello']\n",
      "['how are you']\n"
     ]
    }
   ],
   "source": [
    "import csv\n",
    "with open('E:/New folder/sample.csv','rt')as f:\n",
    "    data = csv.reader(f)\n",
    "    for row in data:\n",
    "        print(row)"
   ]
  },
  {
   "cell_type": "markdown",
   "id": "2f948344",
   "metadata": {},
   "source": [
    "When we have a set of data that you would like to store in a CSV file we have to use writer() function. To iterate the data over the rows(lines), we have to use the writerow() function.\n",
    "\n",
    "In csv.writer() we need to pass file name with set of other parameters dialect and fmtparam.\n",
    "\n",
    "dialect\t is  (optional) Dialect refers to the different ways of formatting the CSV document. By default, the csv module uses the same format as Microsoft Excel. We will discuss dialect in detail later in this post.\n",
    "\n",
    "fmtparam is (optional) Formatting parameters, work same as the reader()'s function."
   ]
  },
  {
   "cell_type": "code",
   "execution_count": 2,
   "id": "13814825",
   "metadata": {},
   "outputs": [],
   "source": [
    "import csv\n",
    "\n",
    "with open('E:/New folder/writeData.csv', mode='w') as file:\n",
    "    writer = csv.writer(file, delimiter=',', quotechar='\"', quoting=csv.QUOTE_MINIMAL)\n",
    "\n",
    "    #way to write to csv file\n",
    "    writer.writerow(['Programming language', 'Designed by', 'Appeared', 'Extension'])\n",
    "    writer.writerow(['Python', 'Guido van Rossum', '1991', '.py'])\n",
    "    writer.writerow(['Java', 'James Gosling', '1995', '.java'])\n",
    "    writer.writerow(['C++', 'Bjarne Stroustrup', '1985', '.cpp'])"
   ]
  },
  {
   "cell_type": "markdown",
   "id": "1604c445",
   "metadata": {},
   "source": [
    "# 3. What modes do File objects for reader and writer objects need to be opened in?"
   ]
  },
  {
   "cell_type": "markdown",
   "id": "29ba0765",
   "metadata": {},
   "source": [
    "In reader method we pass 'rt' mode used for read the file and In writer method we pass 'w' mode for write the file ."
   ]
  },
  {
   "cell_type": "code",
   "execution_count": 3,
   "id": "9528efe1",
   "metadata": {},
   "outputs": [
    {
     "name": "stdout",
     "output_type": "stream",
     "text": [
      "['hi']\n",
      "['hello']\n",
      "['how are you']\n"
     ]
    }
   ],
   "source": [
    "# example for reader method \n",
    "import csv\n",
    "with open('E:/New folder/sample.csv','rt')as f:\n",
    "    data = csv.reader(f)\n",
    "    for row in data:\n",
    "        print(row)"
   ]
  },
  {
   "cell_type": "code",
   "execution_count": 5,
   "id": "4251f30e",
   "metadata": {},
   "outputs": [],
   "source": [
    "# example for writer method\n",
    "\n",
    "import csv\n",
    "\n",
    "with open('E:/New folder/writeData1.csv', mode='w') as file:\n",
    "    writer = csv.writer(file, delimiter=',', quotechar='\"', quoting=csv.QUOTE_MINIMAL)\n",
    "\n",
    "    #way to write to csv file\n",
    "    writer.writerow(['Programming language', 'Designed by', 'Appeared', 'Extension'])\n",
    "    writer.writerow(['Python', 'Guido van Rossum', '1991', '.py'])\n",
    "    writer.writerow(['Java', 'James Gosling', '1995', '.java'])\n",
    "    writer.writerow(['C++', 'Bjarne Stroustrup', '1985', '.cpp'])"
   ]
  },
  {
   "cell_type": "markdown",
   "id": "c6490b25",
   "metadata": {},
   "source": [
    "# 4. What method takes a list argument and writes it to a CSV file?"
   ]
  },
  {
   "cell_type": "markdown",
   "id": "70ce033b",
   "metadata": {},
   "source": [
    "writerows() method takes a list argument and writes it to a CSV file"
   ]
  },
  {
   "cell_type": "code",
   "execution_count": 6,
   "id": "94b7cf7e",
   "metadata": {},
   "outputs": [],
   "source": [
    "import csv\n",
    "RESULTS = [\n",
    "    ['apple','cherry','orange','pineapple','strawberry']\n",
    "]\n",
    "with open('E:/New folder/output.csv','w') as result_file:\n",
    "    wr = csv.writer(result_file, dialect='excel')\n",
    "    wr.writerows(RESULTS)\n"
   ]
  },
  {
   "cell_type": "markdown",
   "id": "9158e5fe",
   "metadata": {},
   "source": [
    "# 5.What do the keyword arguments delimiter and line terminator do?"
   ]
  },
  {
   "cell_type": "markdown",
   "id": "c412971c",
   "metadata": {},
   "source": [
    "The delimiter is the character that appears between cells on a row. By default, the delimiter for a CSV file is a comma. The line terminator is the character that comes at the end of a row. By default, the line terminator is a newline."
   ]
  },
  {
   "cell_type": "markdown",
   "id": "d9ae5dd6",
   "metadata": {},
   "source": [
    "# 6. What function takes a string of JSON data and returns a Python data structure?"
   ]
  },
  {
   "cell_type": "markdown",
   "id": "73f33109",
   "metadata": {},
   "source": [
    "JSONDecoder() function takes a string of JSON data and returns a Python data structure"
   ]
  },
  {
   "cell_type": "code",
   "execution_count": 14,
   "id": "f0ce17f1",
   "metadata": {},
   "outputs": [
    {
     "name": "stdout",
     "output_type": "stream",
     "text": [
      "{'colour': ['red', 'yellow']}\n",
      "<class 'dict'>\n"
     ]
    }
   ],
   "source": [
    "import json\n",
    "# import JSONDecoder class from json\n",
    "from json.decoder import JSONDecoder\n",
    "colour_string = '{ \"colour\": [\"red\", \"yellow\"]}'\n",
    "# directly called decode method of JSON\n",
    "print(JSONDecoder().decode(colour_string))\n",
    "print(type(JSONDecoder().decode(colour_string)))"
   ]
  },
  {
   "cell_type": "markdown",
   "id": "246a6725",
   "metadata": {},
   "source": [
    "# 7. What function takes a Python data structure and returns a string of JSON data?"
   ]
  },
  {
   "cell_type": "markdown",
   "id": "ad1a3b39",
   "metadata": {},
   "source": [
    "json.dumps() function takes a Python data structure and returns a string of JSON data"
   ]
  },
  {
   "cell_type": "code",
   "execution_count": 13,
   "id": "4e777b21",
   "metadata": {},
   "outputs": [
    {
     "name": "stdout",
     "output_type": "stream",
     "text": [
      "{\"name\": \"Sanath\", \"age\": 24, \"city\": \"Kakinada\"}\n",
      "<class 'str'>\n"
     ]
    }
   ],
   "source": [
    "import json\n",
    "\n",
    "# some JSON:\n",
    "x =  { \"name\":\"Sanath\", \"age\":24, \"city\":\"Kakinada\"}\n",
    "\n",
    "# parse x:\n",
    "y = json.dumps(x)\n",
    "\n",
    "# the result is a Python dictionary:\n",
    "print(y)\n",
    "print(type(y))"
   ]
  }
 ],
 "metadata": {
  "kernelspec": {
   "display_name": "Python 3 (ipykernel)",
   "language": "python",
   "name": "python3"
  },
  "language_info": {
   "codemirror_mode": {
    "name": "ipython",
    "version": 3
   },
   "file_extension": ".py",
   "mimetype": "text/x-python",
   "name": "python",
   "nbconvert_exporter": "python",
   "pygments_lexer": "ipython3",
   "version": "3.9.12"
  }
 },
 "nbformat": 4,
 "nbformat_minor": 5
}
