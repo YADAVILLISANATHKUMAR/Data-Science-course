{
 "cells": [
  {
   "cell_type": "markdown",
   "id": "74d10057",
   "metadata": {},
   "source": [
    "# 1. Write a Python Program to Display Fibonacci Sequence Using Recursion?"
   ]
  },
  {
   "cell_type": "code",
   "execution_count": 9,
   "id": "81c29d27",
   "metadata": {},
   "outputs": [
    {
     "name": "stdout",
     "output_type": "stream",
     "text": [
      "Enter the range to display Fibonacci sequence10\n",
      "first 10 Fibonacci sequence are :\n",
      "0 1 1 2 3 5 8 13 21 34 "
     ]
    }
   ],
   "source": [
    "def recurFib(n):\n",
    "    if n<=1:\n",
    "        return n\n",
    "    else:\n",
    "        return(recurFib(n-1)+recurFib(n-2))\n",
    "nterms = int(input(\"Enter the range to display Fibonacci sequence\"))\n",
    "if nterms <= 0:\n",
    "    print(\"Plese enter a positive integer\")\n",
    "else:\n",
    "    print(f\"first {nterms} Fibonacci sequence are :\")\n",
    "    for i in range(nterms):\n",
    "        print(recurFib(i),end=\" \")"
   ]
  },
  {
   "cell_type": "markdown",
   "id": "cae10222",
   "metadata": {},
   "source": [
    "# 2.Write a Python Program to Find Factorial of Number Using Recursion?"
   ]
  },
  {
   "cell_type": "code",
   "execution_count": 11,
   "id": "551166ba",
   "metadata": {
    "scrolled": true
   },
   "outputs": [
    {
     "name": "stdout",
     "output_type": "stream",
     "text": [
      "enter the number to calculate its factorial number:5\n",
      "Factorial of 5 is :  120\n"
     ]
    }
   ],
   "source": [
    "def factorial(n):\n",
    "    if (n==1 or n==0):\n",
    "        return 1\n",
    "    else:\n",
    "        return (n * factorial(n - 1))\n",
    "\n",
    "num = int(input(\"enter the number to calculate its factorial number:\"))\n",
    "\n",
    "print(f\"Factorial of {num} is : \",factorial(num))\n"
   ]
  },
  {
   "cell_type": "markdown",
   "id": "10261730",
   "metadata": {},
   "source": [
    "# 3. Write a Python Program to calculate your Body Mass Index?\n"
   ]
  },
  {
   "cell_type": "code",
   "execution_count": 26,
   "id": "172fe77b",
   "metadata": {},
   "outputs": [
    {
     "name": "stdout",
     "output_type": "stream",
     "text": [
      "Enter the height in feet: 5.7\n",
      "Enter the weight in kg: 56\n",
      "Your Body Mass Index is 18.554564973838108\n",
      " You are healthy.\n"
     ]
    }
   ],
   "source": [
    "# asking for input from the users  \n",
    "height = float(input(\"Enter the height in feet: \"))  \n",
    "weight = float(input(\"Enter the weight in kg: \"))  \n",
    "# defining a function for BMI  \n",
    "#BMI = weight in kg /height in meters square \n",
    "bmi = weight / ((height/3.281)**2) \n",
    "#bmi = weight / height\n",
    "# printing the BMI  \n",
    "print(\"Your Body Mass Index is\", bmi)  \n",
    "\"\"\"\n",
    "Under 18.5\tUnderweight\n",
    "18.5 - 24.9\tNormal\n",
    "25 - 29.9\tOverweight\n",
    "30 and over\tObese\n",
    "\"\"\"\n",
    "if bmi <= 18.5:  \n",
    "    print(\" You are underweight.\")  \n",
    "elif bmi <= 24.9:  \n",
    "    print(\" You are healthy.\")  \n",
    "elif bmi <= 29.9:  \n",
    "    the_print(\"You are over weight.\")  \n",
    "else:  \n",
    "    print(\" You are obese.\")  "
   ]
  },
  {
   "cell_type": "markdown",
   "id": "c59bcd94",
   "metadata": {},
   "source": [
    "# 4. Write a Python Program to calculate the natural logarithm of any number?"
   ]
  },
  {
   "cell_type": "code",
   "execution_count": 56,
   "id": "2261959c",
   "metadata": {},
   "outputs": [
    {
     "name": "stdout",
     "output_type": "stream",
     "text": [
      "Enter the number: 10\n",
      "the natural logarithm of 10.0 is: 2.302585092994046\n"
     ]
    }
   ],
   "source": [
    "import math\n",
    "number = float(input(\"Enter the number: \"))\n",
    "if(number>0):\n",
    "    \n",
    "    value = math.log(number)\n",
    "    print(f\"the natural logarithm of {number} is:\",value)\n",
    "else :\n",
    "    print(\"enter number greather than 0 to find  the natural logarithm \")\n",
    "\n"
   ]
  },
  {
   "cell_type": "markdown",
   "id": "5eb815c4",
   "metadata": {},
   "source": [
    "# 5. Write a Python Program for cube sum of first n natural numbers?\n"
   ]
  },
  {
   "cell_type": "code",
   "execution_count": 60,
   "id": "08c01fd6",
   "metadata": {},
   "outputs": [
    {
     "name": "stdout",
     "output_type": "stream",
     "text": [
      "enter number for cube sum of first n natural numbers : 10\n",
      "sum of cubes of first 10 natural numbers is 3025\n"
     ]
    }
   ],
   "source": [
    "def CubeSum(n):\n",
    "    l=0\n",
    "    for i in range(n+1):\n",
    "        l+=i**3\n",
    "    return l\n",
    "n=int(input(\"enter number for cube sum of first n natural numbers : \"))\n",
    "print(f\"sum of cubes of first {n} natural numbers is {CubeSum(n)}\")"
   ]
  },
  {
   "cell_type": "code",
   "execution_count": null,
   "id": "d50475d5",
   "metadata": {},
   "outputs": [],
   "source": []
  }
 ],
 "metadata": {
  "kernelspec": {
   "display_name": "Python 3 (ipykernel)",
   "language": "python",
   "name": "python3"
  },
  "language_info": {
   "codemirror_mode": {
    "name": "ipython",
    "version": 3
   },
   "file_extension": ".py",
   "mimetype": "text/x-python",
   "name": "python",
   "nbconvert_exporter": "python",
   "pygments_lexer": "ipython3",
   "version": "3.9.12"
  }
 },
 "nbformat": 4,
 "nbformat_minor": 5
}
