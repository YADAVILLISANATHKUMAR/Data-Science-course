{
 "cells": [
  {
   "cell_type": "markdown",
   "id": "53e7aa5c",
   "metadata": {},
   "source": [
    "# 1.Find out all the types of error that we have encountered in our lecture and why? Also include the examples."
   ]
  },
  {
   "cell_type": "markdown",
   "id": "a9c115f7",
   "metadata": {},
   "source": [
    "## some of  types of error we get coding  in are \n",
    "\n",
    "### 1.TypeError: sum_of_values() takes 2 positional arguments but 3 were given. \n",
    " we get this error because we pass two passing  parameters but  we took  three positional arguments .we can correct by takes two positional arguments \n",
    " \n",
    "\n"
   ]
  },
  {
   "cell_type": "code",
   "execution_count": 5,
   "id": "3c486fe9",
   "metadata": {},
   "outputs": [
    {
     "ename": "TypeError",
     "evalue": "sum_of_values() takes 2 positional arguments but 3 were given",
     "output_type": "error",
     "traceback": [
      "\u001b[1;31m---------------------------------------------------------------------------\u001b[0m",
      "\u001b[1;31mTypeError\u001b[0m                                 Traceback (most recent call last)",
      "Input \u001b[1;32mIn [5]\u001b[0m, in \u001b[0;36m<cell line: 4>\u001b[1;34m()\u001b[0m\n\u001b[0;32m      2\u001b[0m \u001b[38;5;28;01mdef\u001b[39;00m \u001b[38;5;21msum_of_values\u001b[39m(x, y):\n\u001b[0;32m      3\u001b[0m     \u001b[38;5;28mprint\u001b[39m(x\u001b[38;5;241m+\u001b[39my)\n\u001b[1;32m----> 4\u001b[0m \u001b[43msum_of_values\u001b[49m\u001b[43m(\u001b[49m\u001b[38;5;241;43m22.2\u001b[39;49m\u001b[43m,\u001b[49m\u001b[43m \u001b[49m\u001b[38;5;241;43m33\u001b[39;49m\u001b[43m,\u001b[49m\u001b[43m \u001b[49m\u001b[38;5;241;43m444\u001b[39;49m\u001b[43m)\u001b[49m\n",
      "\u001b[1;31mTypeError\u001b[0m: sum_of_values() takes 2 positional arguments but 3 were given"
     ]
    }
   ],
   "source": [
    "# error code\n",
    "def sum_of_values(x, y):\n",
    "    print(x+y)\n",
    "sum_of_values(22.2, 33, 444)\n",
    "   "
   ]
  },
  {
   "cell_type": "code",
   "execution_count": 6,
   "id": "8f392fe1",
   "metadata": {},
   "outputs": [
    {
     "name": "stdout",
     "output_type": "stream",
     "text": [
      "55.2\n"
     ]
    }
   ],
   "source": [
    "def sum_of_values(x, y):\n",
    "    print(x+y)\n",
    "\n",
    "sum_of_values(22.2,33)\n"
   ]
  },
  {
   "cell_type": "markdown",
   "id": "346bb096",
   "metadata": {},
   "source": [
    "### 2.invalid literal for int() with base 10: '50.22'\n",
    " we get this error because string which taken  in float format we cannot directly  convert into int before that we have to convert into float after we can convert into int\n",
    " \n",
    " "
   ]
  },
  {
   "cell_type": "code",
   "execution_count": 20,
   "id": "5220e554",
   "metadata": {},
   "outputs": [
    {
     "data": {
      "text/plain": [
       "' String to integer\\nA = \"50.22\" # entering float\\nprint(f\"data type before: {type(A)}, value of A: {A}\")\\nA = int(A) # trying to convert into integer\\nprint(f\"data type after: {type(A)}, value of A: {A}\")\\n \\n'"
      ]
     },
     "execution_count": 20,
     "metadata": {},
     "output_type": "execute_result"
    }
   ],
   "source": [
    "# error code\n",
    "\"\"\" String to integer\n",
    "A = \"50.22\" # entering float\n",
    "print(f\"data type before: {type(A)}, value of A: {A}\")\n",
    "A = int(A) # trying to convert into integer\n",
    "print(f\"data type after: {type(A)}, value of A: {A}\")\n",
    " \n",
    "\"\"\"\n"
   ]
  },
  {
   "cell_type": "code",
   "execution_count": 8,
   "id": "01c2131b",
   "metadata": {},
   "outputs": [
    {
     "name": "stdout",
     "output_type": "stream",
     "text": [
      "data type before: <class 'str'>, value of A: 50.22\n",
      "data type after: <class 'float'>, value of A: 50.22\n",
      "data type after: <class 'int'>, value of A: 50\n"
     ]
    }
   ],
   "source": [
    "A = \"50.22\" # entering float\n",
    "print(f\"data type before: {type(A)}, value of A: {A}\")\n",
    "A = float(A) # trying to convert into float\n",
    "print(f\"data type after: {type(A)}, value of A: {A}\")\n",
    "A =int(A)# trying to convert into float\n",
    "print(f\"data type after: {type(A)}, value of A: {A}\")"
   ]
  },
  {
   "cell_type": "markdown",
   "id": "503ed22c",
   "metadata": {},
   "source": [
    "### 3.ValueError: invalid literal for int() with base 10: '10.2"
   ]
  },
  {
   "cell_type": "markdown",
   "id": "648ee392",
   "metadata": {},
   "source": [
    "this error we get because we trying to add integer and floating values but we took  float values in place of int value. we can correct it by taking only integer type values in int type variable ."
   ]
  },
  {
   "cell_type": "code",
   "execution_count": 21,
   "id": "c296930b",
   "metadata": {},
   "outputs": [
    {
     "data": {
      "text/plain": [
       "'A = float(input(\"Enter value of A: \"))\\nB = int(input(\"Enter value of B: \")) # 10.2 is float but converting to int\\n\\nprint(f\"Sum of A and B is: {A+B}\")\\n'"
      ]
     },
     "execution_count": 21,
     "metadata": {},
     "output_type": "execute_result"
    }
   ],
   "source": [
    "\"\"\"A = float(input(\"Enter value of A: \"))\n",
    "B = int(input(\"Enter value of B: \")) # 10.2 is float but converting to int\n",
    "\n",
    "print(f\"Sum of A and B is: {A+B}\")\n",
    "\"\"\""
   ]
  },
  {
   "cell_type": "code",
   "execution_count": 12,
   "id": "2c18428d",
   "metadata": {},
   "outputs": [
    {
     "name": "stdout",
     "output_type": "stream",
     "text": [
      "Enter value of A: 1\n",
      "Enter value of B: 1\n",
      "Sum of A and B is: 2.0\n"
     ]
    }
   ],
   "source": [
    "A = float(input(\"Enter value of A: \"))\n",
    "B = int(input(\"Enter value of B: \")) # 10.2 is float but converting to int\n",
    "\n",
    "print(f\"Sum of A and B is: {A+B}\")"
   ]
  },
  {
   "cell_type": "markdown",
   "id": "692ae9e6",
   "metadata": {},
   "source": [
    "### 4.'int' object is not callable"
   ]
  },
  {
   "cell_type": "markdown",
   "id": "77e8d501",
   "metadata": {},
   "source": [
    "we get this because  error occurs when you declare a variable and name it with a built-in function and we can  correct it by not using reversed keyword or built in functions as Variable names."
   ]
  },
  {
   "cell_type": "code",
   "execution_count": 18,
   "id": "7709eab9",
   "metadata": {},
   "outputs": [
    {
     "data": {
      "text/plain": [
       "'print =12\\nprint(print)'"
      ]
     },
     "execution_count": 18,
     "metadata": {},
     "output_type": "execute_result"
    }
   ],
   "source": [
    "# error code\n",
    "\"\"\"print =12\n",
    "print(print)\"\"\""
   ]
  },
  {
   "cell_type": "code",
   "execution_count": 24,
   "id": "99669feb",
   "metadata": {},
   "outputs": [],
   "source": [
    "del print # we need delete variable because we used print reversed keyword as variable name"
   ]
  },
  {
   "cell_type": "code",
   "execution_count": 25,
   "id": "d4799e28",
   "metadata": {},
   "outputs": [
    {
     "name": "stdout",
     "output_type": "stream",
     "text": [
      "12\n"
     ]
    }
   ],
   "source": [
    "a =12\n",
    "print(a)"
   ]
  },
  {
   "cell_type": "markdown",
   "id": "3887ecc2",
   "metadata": {},
   "source": [
    "### 5.NameError: name 'Ten' is not defined"
   ]
  },
  {
   "cell_type": "markdown",
   "id": "785c2982",
   "metadata": {},
   "source": [
    "we get this error because when we try to access a variable or function that is not defined or before it is defined. and we can correct by taking only with creating variable or function name"
   ]
  },
  {
   "cell_type": "code",
   "execution_count": 1,
   "id": "87c86aea",
   "metadata": {},
   "outputs": [
    {
     "ename": "NameError",
     "evalue": "name 'aa' is not defined",
     "output_type": "error",
     "traceback": [
      "\u001b[1;31m---------------------------------------------------------------------------\u001b[0m",
      "\u001b[1;31mNameError\u001b[0m                                 Traceback (most recent call last)",
      "Input \u001b[1;32mIn [1]\u001b[0m, in \u001b[0;36m<cell line: 3>\u001b[1;34m()\u001b[0m\n\u001b[0;32m      1\u001b[0m \u001b[38;5;66;03m#error code\u001b[39;00m\n\u001b[0;32m      2\u001b[0m a\u001b[38;5;241m=\u001b[39m\u001b[38;5;241m10\u001b[39m\n\u001b[1;32m----> 3\u001b[0m \u001b[38;5;28mprint\u001b[39m(\u001b[43maa\u001b[49m)\n",
      "\u001b[1;31mNameError\u001b[0m: name 'aa' is not defined"
     ]
    }
   ],
   "source": [
    "#error code\n",
    "a=10\n",
    "print(aa)"
   ]
  },
  {
   "cell_type": "code",
   "execution_count": 29,
   "id": "70b6932d",
   "metadata": {},
   "outputs": [
    {
     "name": "stdout",
     "output_type": "stream",
     "text": [
      "10\n"
     ]
    }
   ],
   "source": [
    "a=10 \n",
    "print(a)"
   ]
  },
  {
   "cell_type": "markdown",
   "id": "06c0f3d9",
   "metadata": {},
   "source": [
    "### 6.TypeError: cannot unpack non-iterable int object"
   ]
  },
  {
   "cell_type": "code",
   "execution_count": null,
   "id": "c1a74509",
   "metadata": {},
   "outputs": [],
   "source": [
    " occurs when we try to unpack an integer value. To solve the error, track down where the variable got assigned an integer and correct the assignment to an iterable"
   ]
  },
  {
   "cell_type": "code",
   "execution_count": 30,
   "id": "40d18759",
   "metadata": {},
   "outputs": [
    {
     "ename": "TypeError",
     "evalue": "cannot unpack non-iterable int object",
     "output_type": "error",
     "traceback": [
      "\u001b[1;31m---------------------------------------------------------------------------\u001b[0m",
      "\u001b[1;31mTypeError\u001b[0m                                 Traceback (most recent call last)",
      "Input \u001b[1;32mIn [30]\u001b[0m, in \u001b[0;36m<cell line: 1>\u001b[1;34m()\u001b[0m\n\u001b[1;32m----> 1\u001b[0m a,b,c\u001b[38;5;241m=\u001b[39m\u001b[38;5;241m10\u001b[39m\n",
      "\u001b[1;31mTypeError\u001b[0m: cannot unpack non-iterable int object"
     ]
    }
   ],
   "source": [
    "a,b,c=10"
   ]
  },
  {
   "cell_type": "code",
   "execution_count": 33,
   "id": "2d336d93",
   "metadata": {},
   "outputs": [
    {
     "name": "stdout",
     "output_type": "stream",
     "text": [
      "10 20 30\n"
     ]
    }
   ],
   "source": [
    "a,b,c=10,20,30\n",
    "print(a,b,c)"
   ]
  },
  {
   "cell_type": "markdown",
   "id": "0587d989",
   "metadata": {},
   "source": [
    "###  7. SyntaxError: Missing parentheses in call to 'print'. Did you mean print(\"Good Evening\")?"
   ]
  },
  {
   "cell_type": "code",
   "execution_count": null,
   "id": "0427566f",
   "metadata": {},
   "outputs": [],
   "source": [
    "This error we get because missing parenthesis in call to print .we can correct by open and closed parenthesis to print statement"
   ]
  },
  {
   "cell_type": "code",
   "execution_count": 2,
   "id": "6bc9c375",
   "metadata": {},
   "outputs": [
    {
     "ename": "SyntaxError",
     "evalue": "Missing parentheses in call to 'print'. Did you mean print(\"Hello\")? (3583445538.py, line 1)",
     "output_type": "error",
     "traceback": [
      "\u001b[1;36m  Input \u001b[1;32mIn [2]\u001b[1;36m\u001b[0m\n\u001b[1;33m    print \"Hello\"\u001b[0m\n\u001b[1;37m          ^\u001b[0m\n\u001b[1;31mSyntaxError\u001b[0m\u001b[1;31m:\u001b[0m Missing parentheses in call to 'print'. Did you mean print(\"Hello\")?\n"
     ]
    }
   ],
   "source": [
    "print \"Hello\""
   ]
  },
  {
   "cell_type": "code",
   "execution_count": 3,
   "id": "a9907c70",
   "metadata": {},
   "outputs": [
    {
     "name": "stdout",
     "output_type": "stream",
     "text": [
      "Hello\n"
     ]
    }
   ],
   "source": [
    "print(\"Hello\")"
   ]
  },
  {
   "cell_type": "markdown",
   "id": "d03c847d",
   "metadata": {},
   "source": [
    "### 8.SyntaxError: EOL while scanning string literal"
   ]
  },
  {
   "cell_type": "markdown",
   "id": "c80b6011",
   "metadata": {},
   "source": [
    ".An EOL ( End of Line ) error indicates that the Python interpreter expected a particular character or set of characters to have occurred in a specific line of code, but that those characters were not found before the end of the line . This results in Python stopping the program execution and throwing a syntax error . \n",
    " "
   ]
  },
  {
   "cell_type": "code",
   "execution_count": 6,
   "id": "61d8ab99",
   "metadata": {},
   "outputs": [
    {
     "ename": "SyntaxError",
     "evalue": "EOL while scanning string literal (2830358741.py, line 2)",
     "output_type": "error",
     "traceback": [
      "\u001b[1;36m  Input \u001b[1;32mIn [6]\u001b[1;36m\u001b[0m\n\u001b[1;33m    print(\"Good\u001b[0m\n\u001b[1;37m                ^\u001b[0m\n\u001b[1;31mSyntaxError\u001b[0m\u001b[1;31m:\u001b[0m EOL while scanning string literal\n"
     ]
    }
   ],
   "source": [
    "#error code\n",
    "print(\"Good \n",
    "Evening\")"
   ]
  },
  {
   "cell_type": "code",
   "execution_count": 7,
   "id": "89217f05",
   "metadata": {},
   "outputs": [
    {
     "name": "stdout",
     "output_type": "stream",
     "text": [
      "Good Morning\n"
     ]
    }
   ],
   "source": [
    "print(\"Good Morning\")"
   ]
  },
  {
   "cell_type": "markdown",
   "id": "8cc1d579",
   "metadata": {},
   "source": [
    "### 9.SyntaxError: can't assign to operator"
   ]
  },
  {
   "cell_type": "markdown",
   "id": "c2e71719",
   "metadata": {},
   "source": [
    "cannot assign to operator error is raised when you try to evaluate a mathematical statement before an assignment operator. To fix this error, make sure all your variable names appear on the left hand side of an assignment operator and all your mathematical statements appear on the right."
   ]
  },
  {
   "cell_type": "code",
   "execution_count": 8,
   "id": "713f89f9",
   "metadata": {},
   "outputs": [
    {
     "ename": "SyntaxError",
     "evalue": "cannot assign to operator (3233676554.py, line 1)",
     "output_type": "error",
     "traceback": [
      "\u001b[1;36m  Input \u001b[1;32mIn [8]\u001b[1;36m\u001b[0m\n\u001b[1;33m    Varia%ble =10\u001b[0m\n\u001b[1;37m    ^\u001b[0m\n\u001b[1;31mSyntaxError\u001b[0m\u001b[1;31m:\u001b[0m cannot assign to operator\n"
     ]
    }
   ],
   "source": [
    "Varia%ble =10"
   ]
  },
  {
   "cell_type": "code",
   "execution_count": 11,
   "id": "2bcf244a",
   "metadata": {},
   "outputs": [
    {
     "name": "stdout",
     "output_type": "stream",
     "text": [
      "10\n"
     ]
    }
   ],
   "source": [
    "variable =10\n",
    "print(variable)"
   ]
  },
  {
   "cell_type": "markdown",
   "id": "826fc950",
   "metadata": {},
   "source": [
    "# 2.Take input A and B and print their sum, mul, div, square of the nos.\n"
   ]
  },
  {
   "cell_type": "code",
   "execution_count": 39,
   "id": "cd01ad09",
   "metadata": {},
   "outputs": [
    {
     "name": "stdout",
     "output_type": "stream",
     "text": [
      "Enter first Number : 10\n",
      "Enter Second Number: 5\n",
      "The sum of  of 10 and 5 is  15\n",
      "The muitpliy of  of 10 and 5 is  50\n",
      "The division of number of 10 and 5 is  2.0\n",
      "The square of 10  is 100\n",
      "The square of 5  is 25\n"
     ]
    }
   ],
   "source": [
    "a = int(input(\"Enter first Number : \" ))\n",
    "b = int(input(\"Enter Second Number: \"))\n",
    "\n",
    "sum = a + b\n",
    "mul = a * b\n",
    "div = a / b\n",
    "squareOfA = a**2\n",
    "squareOfB = b**2\n",
    "\n",
    "\n",
    "print(f'The sum of  of {a} and {b} is ',a+b)\n",
    "print(f'The muitpliy of  of {a} and {b} is ',a*b)\n",
    "print(f'The division of number of {a} and {b} is ',a/b)\n",
    "print(f'The square of {a}  is',a**2)\n",
    "print(f'The square of {b}  is',b**2)\n",
    "\n"
   ]
  },
  {
   "cell_type": "markdown",
   "id": "5099c73f",
   "metadata": {},
   "source": [
    "# 3.How many reserve keywords are there in python and why we should not use them as a variable name."
   ]
  },
  {
   "cell_type": "markdown",
   "id": "09ef786c",
   "metadata": {},
   "source": [
    "In python we have 33 reserved keywords such as None,del,import,return,True ,elif,in,try,and,else,is,while,as,except,lambda,with\n",
    "assert,finally,nonlocal,yield,break,for,not,class,form,or,continue,global,pass.\n"
   ]
  },
  {
   "cell_type": "markdown",
   "id": "a68b1d53",
   "metadata": {},
   "source": [
    "# 4.Create email ids with the user inputs. in the following format - lastname.firstname@gmail.com"
   ]
  },
  {
   "cell_type": "code",
   "execution_count": 3,
   "id": "702c240c",
   "metadata": {},
   "outputs": [
    {
     "name": "stdout",
     "output_type": "stream",
     "text": [
      "Enter first Name : Sanath Kumar\n",
      "Enter Last Name : Yadavilli\n",
      " \n",
      "email:Yadavilli.Sanath Kumar@gmail.com \n"
     ]
    }
   ],
   "source": [
    "first_name = (input(\"Enter first Name : \" ))\n",
    "last_name  = (input(\"Enter Last Name : \" ))\n",
    "\n",
    "print(f\"\"\" \n",
    "email:{last_name}.{first_name}@gmail.com \"\"\")"
   ]
  },
  {
   "cell_type": "markdown",
   "id": "b1178ec3",
   "metadata": {},
   "source": [
    "# 5.Try to print the following lines - \n",
    "  - Hi I'm Sunny\n",
    "  - My address is 22\\3 \n",
    "  - I earn 20$ daily."
   ]
  },
  {
   "cell_type": "code",
   "execution_count": 33,
   "id": "32d2f692",
   "metadata": {},
   "outputs": [
    {
     "name": "stdout",
     "output_type": "stream",
     "text": [
      "Hi I'm Sunny\n"
     ]
    }
   ],
   "source": [
    "print(\"Hi I'm Sunny\")"
   ]
  },
  {
   "cell_type": "code",
   "execution_count": 34,
   "id": "be00f1e6",
   "metadata": {},
   "outputs": [
    {
     "name": "stdout",
     "output_type": "stream",
     "text": [
      "My address is 22\\3 \n"
     ]
    }
   ],
   "source": [
    "print(\"My address is 22\\\\3 \")"
   ]
  },
  {
   "cell_type": "code",
   "execution_count": 35,
   "id": "a5198add",
   "metadata": {},
   "outputs": [
    {
     "name": "stdout",
     "output_type": "stream",
     "text": [
      "I earn 20$ daily\n"
     ]
    }
   ],
   "source": [
    "print(\"I earn 20$ daily\")"
   ]
  },
  {
   "cell_type": "markdown",
   "id": "b8c1ed1c",
   "metadata": {},
   "source": [
    "# 6.Take user input (name, address, date of birth etc) to fill a form for your college and print their email IDs"
   ]
  },
  {
   "cell_type": "code",
   "execution_count": 2,
   "id": "20076463",
   "metadata": {},
   "outputs": [
    {
     "name": "stdout",
     "output_type": "stream",
     "text": [
      "Enter First Name : Sanath Kumar\n",
      "Enter Last Name : Yadavilli\n",
      "Enter addres: Kakinada\n",
      "Enter dd/mm/yyyy:01/08/1998\n",
      "\n",
      "\n",
      "first_name:Sanath Kumar\n",
      "\n",
      "last_name:Yadavilli\n",
      "\n",
      "address_name:Kakinada\n",
      "\n",
      "Date Of Birth:01/08/1998 \n",
      "\n",
      "email:Sanath Kumar.Yadavilli@gmail.com \n"
     ]
    }
   ],
   "source": [
    "first_name = (input(\"Enter First Name : \" ))\n",
    "last_name  = (input(\"Enter Last Name : \" ))\n",
    "address_name = (input(\"Enter addres: \"))\n",
    "DateOfBirth=(input(\"Enter dd/mm/yyyy:\"))\n",
    "\n",
    "print(f\"\"\"\n",
    "\n",
    "first_name:{first_name}\n",
    "\n",
    "last_name:{last_name}\n",
    "\n",
    "address_name:{address_name}\n",
    "\n",
    "Date Of Birth:{DateOfBirth} \n",
    "\n",
    "email:{first_name}.{last_name}@gmail.com \"\"\")\n"
   ]
  },
  {
   "cell_type": "markdown",
   "id": "a24d1caa",
   "metadata": {},
   "source": [
    "# 7. Convert the following - \n",
    "  - \"22.4\" into integer\n",
    "  - \"22\" into complex no."
   ]
  },
  {
   "cell_type": "code",
   "execution_count": 37,
   "id": "f0b5e0e5",
   "metadata": {},
   "outputs": [
    {
     "name": "stdout",
     "output_type": "stream",
     "text": [
      "22.4\n",
      "<class 'str'>\n",
      "22.4\n",
      "<class 'float'>\n",
      "22\n",
      "<class 'int'>\n"
     ]
    }
   ],
   "source": [
    "#\"22.4\" into integer\n",
    "string = \"22.4\"\n",
    "print(string)\n",
    "print(type(string))\n",
    "Float = float(string)\n",
    "print(Float)\n",
    "print(type(Float))\n",
    "Int = int(Float)\n",
    "print(Int)\n",
    "print(type(Int))"
   ]
  },
  {
   "cell_type": "code",
   "execution_count": 38,
   "id": "340bc527",
   "metadata": {},
   "outputs": [
    {
     "name": "stdout",
     "output_type": "stream",
     "text": [
      "22\n",
      "<class 'str'>\n",
      "(22+0j)\n",
      "<class 'complex'>\n"
     ]
    }
   ],
   "source": [
    "#\"22\" into complex no.\n",
    "StringValue =\"22\"\n",
    "print(StringValue)\n",
    "print((type(StringValue)))\n",
    "complexValue =complex(StringValue)\n",
    "print(complexValue)\n",
    "print(type(complexValue))"
   ]
  }
 ],
 "metadata": {
  "kernelspec": {
   "display_name": "Python 3 (ipykernel)",
   "language": "python",
   "name": "python3"
  },
  "language_info": {
   "codemirror_mode": {
    "name": "ipython",
    "version": 3
   },
   "file_extension": ".py",
   "mimetype": "text/x-python",
   "name": "python",
   "nbconvert_exporter": "python",
   "pygments_lexer": "ipython3",
   "version": "3.9.12"
  }
 },
 "nbformat": 4,
 "nbformat_minor": 5
}
