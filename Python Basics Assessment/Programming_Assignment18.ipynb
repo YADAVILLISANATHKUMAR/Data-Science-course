{
 "cells": [
  {
   "cell_type": "markdown",
   "id": "7d47a4cc",
   "metadata": {},
   "source": [
    "# 1.Create a function that takes a list of non-negative integers and strings and return a new list without the strings.\n",
    "## Examples\n",
    "## filter_list([1, 2, 'a', 'b']) ➞ [1, 2]\n",
    "## filter_list([1, 'a', 'b', 0, 15]) ➞ [1, 0, 15]\n",
    "## filter_list([1, 2, 'aasf', '1', '123', 123]) ➞ [1, 2, 123]"
   ]
  },
  {
   "cell_type": "code",
   "execution_count": 2,
   "id": "54b5b51a",
   "metadata": {},
   "outputs": [
    {
     "data": {
      "text/plain": [
       "[1, 2]"
      ]
     },
     "execution_count": 2,
     "metadata": {},
     "output_type": "execute_result"
    }
   ],
   "source": [
    "def filter_list(l):\n",
    "    fl=[]\n",
    "    if(len(l) >0):\n",
    "        for i in l:\n",
    "            if(type(i) == int):\n",
    "                fl.append(i)\n",
    "    return fl\n",
    "l=[1,2,'a','b']\n",
    "filter_list(l)"
   ]
  },
  {
   "cell_type": "markdown",
   "id": "39f85c27",
   "metadata": {},
   "source": [
    "# 2.The 'Reverser' takes a string as input and returns that string in reverse order, with the opposite case.\n",
    "## Examples\n",
    "## reverse('Hello World') ➞ 'DLROw OLLEh'\n",
    "## reverse('ReVeRsE') ➞ 'eSrEvEr'\n",
    "## reverse('Radar') ➞ 'RADAr'"
   ]
  },
  {
   "cell_type": "code",
   "execution_count": 3,
   "id": "f8f2780e",
   "metadata": {},
   "outputs": [
    {
     "name": "stdout",
     "output_type": "stream",
     "text": [
      "Hello world\n"
     ]
    },
    {
     "data": {
      "text/plain": [
       "'DLROW OLLEh'"
      ]
     },
     "execution_count": 3,
     "metadata": {},
     "output_type": "execute_result"
    }
   ],
   "source": [
    "method -1\n",
    "def reverse(s):\n",
    "    s1=''\n",
    "    for i in s:\n",
    "        if(i.isupper()):\n",
    "            s1 = s1+i.lower()\n",
    "        else:\n",
    "            s1 =s1 + i.upper()\n",
    "    return s1[::-1]\n",
    "s=input()\n",
    "reverse(s)"
   ]
  },
  {
   "cell_type": "code",
   "execution_count": 5,
   "id": "75309058",
   "metadata": {},
   "outputs": [
    {
     "name": "stdout",
     "output_type": "stream",
     "text": [
      "Hello World\n"
     ]
    },
    {
     "data": {
      "text/plain": [
       "'DLROw OLLEh'"
      ]
     },
     "execution_count": 5,
     "metadata": {},
     "output_type": "execute_result"
    }
   ],
   "source": [
    "def reverse(str):\n",
    "    str = str[::-1]\n",
    "    return str.swapcase()\n",
    "    \n",
    "s=input()\n",
    "reverse(s)"
   ]
  },
  {
   "cell_type": "markdown",
   "id": "f5ce8510",
   "metadata": {},
   "source": [
    "# 3 .You can assign variables from lists like this:\n",
    "## lst = [1, 2, 3, 4, 5, 6]\n",
    "## first = lst[0]\n",
    "## middle = lst[1:-1]\n",
    "## last = lst[-1]\n",
    "## print(first) ➞ outputs 1\n",
    "## print(middle) ➞ outputs [2, 3, 4, 5]\n",
    "## print(last) ➞ outputs 6\n",
    "## With Python 3, you can assign variables from lists in a much more succinct way. Create variables first, middle and last from the given list using destructuring assignment (check the Resources tab for some examples), where:\n",
    "## first ➞ 1\n",
    "## middle ➞ [2, 3, 4, 5]\n",
    "## last ➞ 6\n",
    "\n",
    "## Your task is to unpack the list writeyourcodehere into three variables, being first,middle, and last, with middle being everything in between the first and last element. Then print all three variables.\n"
   ]
  },
  {
   "cell_type": "code",
   "execution_count": 8,
   "id": "8345acf0",
   "metadata": {},
   "outputs": [
    {
     "name": "stdout",
     "output_type": "stream",
     "text": [
      "1\n",
      "[2, 3, 4]\n",
      "5\n"
     ]
    }
   ],
   "source": [
    "l=[1,2,3,4,5]\n",
    "first,*middle,last = l\n",
    "print(first)\n",
    "print(middle)\n",
    "print(last)"
   ]
  },
  {
   "cell_type": "markdown",
   "id": "6f7626cf",
   "metadata": {},
   "source": [
    "# 4. Write a function that calculates the factorial of a number recursively.\n",
    "## Examples\n",
    "## factorial(5) ➞ 120\n",
    "## factorial(3) ➞ 6\n",
    "## factorial(1) ➞ 1\n",
    "## factorial(0) ➞ 1\n"
   ]
  },
  {
   "cell_type": "code",
   "execution_count": 11,
   "id": "8cf5a95f",
   "metadata": {},
   "outputs": [
    {
     "name": "stdout",
     "output_type": "stream",
     "text": [
      "enter a number :5\n",
      "Factorial of 5 is 120\n"
     ]
    }
   ],
   "source": [
    "def factorial(n):     \n",
    "    if n == 0:\n",
    "        return 1  \n",
    "    else:\n",
    "        return n * factorial(n-1)\n",
    "\n",
    "num = int(input('enter a number :'))\n",
    "print(\"Factorial of\", num, \"is\", factorial(num))"
   ]
  },
  {
   "cell_type": "markdown",
   "id": "c857d392",
   "metadata": {},
   "source": [
    "# 5. Write a function that moves all elements of one type to the end of the list.Examples move_to_end([1, 3, 2, 4, 4, 1], 1) ➞ [3, 2, 4, 4, 1, 1]\n",
    "## Move all the 1s to the end of the array.\n",
    "## move_to_end([7, 8, 9, 1, 2, 3, 4], 9) ➞ [7, 8, 1, 2, 3, 4, 9]\n",
    "## move_to_end([\"a\", \"a\", \"a\", \"b\"], \"a\") ➞ [\"b\", \"a\", \"a\", \"a\"]"
   ]
  },
  {
   "cell_type": "code",
   "execution_count": 13,
   "id": "fd1de4fe",
   "metadata": {},
   "outputs": [
    {
     "data": {
      "text/plain": [
       "[7, 8, 1, 2, 3, 4, 9]"
      ]
     },
     "execution_count": 13,
     "metadata": {},
     "output_type": "execute_result"
    }
   ],
   "source": [
    "def move_to_end(l, n):\n",
    "    l1=[]\n",
    "    l2=[]\n",
    "    for i in l:\n",
    "        if(i==n):\n",
    "            l1.append(i)\n",
    "        else:\n",
    "            l2.append(i)\n",
    "    return l2+l1\n",
    "l=[7,8,9,1,2,3,4]\n",
    "move_to_end(l, 9)"
   ]
  },
  {
   "cell_type": "code",
   "execution_count": 14,
   "id": "46a05fa8",
   "metadata": {},
   "outputs": [
    {
     "data": {
      "text/plain": [
       "['b', 'a', 'a', 'a']"
      ]
     },
     "execution_count": 14,
     "metadata": {},
     "output_type": "execute_result"
    }
   ],
   "source": [
    "move_to_end([\"a\", \"a\", \"a\", \"b\"], \"a\") "
   ]
  }
 ],
 "metadata": {
  "kernelspec": {
   "display_name": "Python 3 (ipykernel)",
   "language": "python",
   "name": "python3"
  },
  "language_info": {
   "codemirror_mode": {
    "name": "ipython",
    "version": 3
   },
   "file_extension": ".py",
   "mimetype": "text/x-python",
   "name": "python",
   "nbconvert_exporter": "python",
   "pygments_lexer": "ipython3",
   "version": "3.9.12"
  }
 },
 "nbformat": 4,
 "nbformat_minor": 5
}
