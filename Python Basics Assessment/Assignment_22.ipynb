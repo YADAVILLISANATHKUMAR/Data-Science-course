{
 "cells": [
  {
   "cell_type": "markdown",
   "id": "8c425b00",
   "metadata": {},
   "source": [
    "# 1. What is the result of the code, and explain?\n",
    "## X = 'iNeuron' \n",
    "## def func(): print(X)\n",
    "\n",
    " ## func()"
   ]
  },
  {
   "cell_type": "code",
   "execution_count": 1,
   "id": "7b1bcedb",
   "metadata": {},
   "outputs": [
    {
     "name": "stdout",
     "output_type": "stream",
     "text": [
      "iNeuron\n"
     ]
    }
   ],
   "source": [
    "X = 'iNeuron'\n",
    "def func(): print(X)\n",
    "func()"
   ]
  },
  {
   "cell_type": "markdown",
   "id": "15d144b1",
   "metadata": {},
   "source": [
    "##  The global variables are accessible in side the functions in python. But we can not access function variable out side function. Since x is global variable we are able to print it in side the function solution : 'iNeuron'\n"
   ]
  },
  {
   "cell_type": "markdown",
   "id": "60639083",
   "metadata": {},
   "source": [
    "# 2. What is the result of the code, and explain?\n",
    "##  X = 'iNeuron' \n",
    "## def func(): X = 'NI!'\n",
    "\n",
    "## func() \n",
    "## print(X)"
   ]
  },
  {
   "cell_type": "code",
   "execution_count": 3,
   "id": "2a7eac8a",
   "metadata": {},
   "outputs": [
    {
     "name": "stdout",
     "output_type": "stream",
     "text": [
      "iNeuron\n"
     ]
    }
   ],
   "source": [
    "X = 'iNeuron'\n",
    "def func(): X = 'NI!'\n",
    "func() \n",
    "print(X)"
   ]
  },
  {
   "cell_type": "markdown",
   "id": "95d331a2",
   "metadata": {},
   "source": [
    "## The global variables are access in side the functions in python. But we can not access function variable out side function.Since x is golbal variable we are able to print it out side of the function solution = 'iNeuron'"
   ]
  },
  {
   "cell_type": "markdown",
   "id": "a90a10d7",
   "metadata": {},
   "source": [
    "# 3. What does this code print, and why?\n",
    "## X = 'iNeuron' \n",
    "## def func():\n",
    "### X = 'NI' \n",
    "### print(X)\n",
    "## func() \n",
    "## print(X)"
   ]
  },
  {
   "cell_type": "code",
   "execution_count": 5,
   "id": "ce4e413e",
   "metadata": {},
   "outputs": [
    {
     "name": "stdout",
     "output_type": "stream",
     "text": [
      "NI\n",
      "iNeuron\n"
     ]
    }
   ],
   "source": [
    "X = 'iNeuron'\n",
    "def func(): \n",
    "    X = 'NI' \n",
    "    print(X)\n",
    "func()\n",
    "print(X)"
   ]
  },
  {
   "cell_type": "markdown",
   "id": "2738b28c",
   "metadata": {},
   "source": [
    "## The global variables are access in side the functions in python. But we can not access function variable out side function. X is updated with 'NI' which is local to function and its immutable. its name space is with in the function solution = 'NI!', 'iNeuron'"
   ]
  },
  {
   "cell_type": "markdown",
   "id": "5087c467",
   "metadata": {},
   "source": [
    "# 4. What output does this code produce? Why?\n",
    "## X = 'iNeuron' \n",
    "## def func(): \n",
    "## global X\n",
    "## X = 'NI'\n",
    "## func() \n",
    "## print(X)"
   ]
  },
  {
   "cell_type": "code",
   "execution_count": 8,
   "id": "76bc2bda",
   "metadata": {},
   "outputs": [
    {
     "name": "stdout",
     "output_type": "stream",
     "text": [
      "NI\n"
     ]
    }
   ],
   "source": [
    "X = 'iNeuron'\n",
    "def func(): \n",
    "    global X \n",
    "    X = 'NI'\n",
    "func()\n",
    "print(X)"
   ]
  },
  {
   "cell_type": "markdown",
   "id": "87418851",
   "metadata": {},
   "source": [
    "## since the X in side function is made Global, it will be accesible out side of the function too. now X will have new value.\n"
   ]
  },
  {
   "cell_type": "markdown",
   "id": "b4694d0c",
   "metadata": {},
   "source": [
    "# 5. What about this code—what’s the output, and why?\n",
    "## X = 'iNeuron' \n",
    "## def func(): X = 'NI' \n",
    "## def nested(): \n",
    "## print(X) nested()\n",
    "\n",
    "##  func()\n",
    "## X"
   ]
  },
  {
   "cell_type": "code",
   "execution_count": 10,
   "id": "e7cfd6bf",
   "metadata": {},
   "outputs": [
    {
     "name": "stdout",
     "output_type": "stream",
     "text": [
      "iNeuron\n"
     ]
    },
    {
     "data": {
      "text/plain": [
       "'iNeuron'"
      ]
     },
     "execution_count": 10,
     "metadata": {},
     "output_type": "execute_result"
    }
   ],
   "source": [
    "X = 'iNeuron'\n",
    "def func(): \n",
    "    X = 'NI'\n",
    "def nested():\n",
    "    print(X)\n",
    "nested()\n",
    "func()\n",
    "X"
   ]
  },
  {
   "cell_type": "markdown",
   "id": "58fc414f",
   "metadata": {},
   "source": [
    "## the nested() function will print 'iNeuron', Then func() does not display anything, and x ='NI' is not accessible out side the function."
   ]
  },
  {
   "cell_type": "markdown",
   "id": "8d63ec15",
   "metadata": {},
   "source": [
    "# 6. How about this code: what is its output in Python 3, and explain?\n",
    "## def func(): \n",
    "## X = 'NI' \n",
    "## def nested(): \n",
    "## nonlocal X \n",
    "## X = 'Spam' \n",
    "## nested() \n",
    "## print(X)\n",
    "## func()"
   ]
  },
  {
   "cell_type": "code",
   "execution_count": 13,
   "id": "2d4031c6",
   "metadata": {},
   "outputs": [
    {
     "name": "stdout",
     "output_type": "stream",
     "text": [
      "spam\n"
     ]
    }
   ],
   "source": [
    "def func():\n",
    "    X = 'NI'\n",
    "    def nested():\n",
    "        nonlocal X\n",
    "        X = 'spam'\n",
    "    nested()\n",
    "    print(X)\n",
    "\n",
    "func()"
   ]
  },
  {
   "cell_type": "markdown",
   "id": "a217d077",
   "metadata": {},
   "source": [
    "## Nonlocal variables are used in nested functions whose local scope is not defined. This means that the variable can be neither in the local nor the global scope. it print the updated value from nested function"
   ]
  }
 ],
 "metadata": {
  "kernelspec": {
   "display_name": "Python 3 (ipykernel)",
   "language": "python",
   "name": "python3"
  },
  "language_info": {
   "codemirror_mode": {
    "name": "ipython",
    "version": 3
   },
   "file_extension": ".py",
   "mimetype": "text/x-python",
   "name": "python",
   "nbconvert_exporter": "python",
   "pygments_lexer": "ipython3",
   "version": "3.9.12"
  }
 },
 "nbformat": 4,
 "nbformat_minor": 5
}
