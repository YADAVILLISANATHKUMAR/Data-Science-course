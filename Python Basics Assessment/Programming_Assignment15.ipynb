{
 "cells": [
  {
   "cell_type": "markdown",
   "id": "77f9d7ae",
   "metadata": {},
   "source": [
    "# 1. Please write a program using generator to print the numbers which can be divisible by 5 and 7 between 0 and n in comma separated form while n is input by console. Example: If the following n is given as input to the program: 100 Then, the output of the program should be: 0,35,70"
   ]
  },
  {
   "cell_type": "code",
   "execution_count": 7,
   "id": "720bef96",
   "metadata": {},
   "outputs": [
    {
     "name": "stdout",
     "output_type": "stream",
     "text": [
      "enter n : 100\n",
      "0,35,70\n"
     ]
    }
   ],
   "source": [
    "def GenNumbers(n): \n",
    "    for i in range(n):\n",
    "        if(i%5==0 and i%7==0):\n",
    "            yield i\n",
    "n = int(input('enter n : '))\n",
    "num=[]\n",
    "for j  in GenNumbers(n):\n",
    "    num.append(str(j))\n",
    "print(','.join(num))\n"
   ]
  },
  {
   "cell_type": "markdown",
   "id": "ada0b98e",
   "metadata": {},
   "source": [
    "# 2. Please write a program using generator to print the even numbers between 0 and n in comma separated form while n is input by console. Example: If the following n is given as input to the program: 10 Then, the output of the program should be: 0,2,4,6,8,10"
   ]
  },
  {
   "cell_type": "code",
   "execution_count": 9,
   "id": "f6584c72",
   "metadata": {},
   "outputs": [
    {
     "name": "stdout",
     "output_type": "stream",
     "text": [
      "enter n : 10\n",
      "0,2,4,6,8\n"
     ]
    }
   ],
   "source": [
    "def GenNumbers(n): \n",
    "    for i in range(n):\n",
    "        if(i%2==0 ):\n",
    "            yield i\n",
    "n = int(input('enter n : '))\n",
    "num=[]\n",
    "for j  in GenNumbers(n):\n",
    "    num.append(str(j))\n",
    "print(','.join(num))\n"
   ]
  },
  {
   "cell_type": "markdown",
   "id": "431c65f9",
   "metadata": {},
   "source": [
    "# 3. The Fibonacci Sequence is computed based on the following formula:\n",
    "## f(n)=0 if n=0\n",
    "## f(n)=1 if n=1\n",
    "## f(n)=f(n-1)+f(n-2) if n&gt;1\n",
    "## Please write a program using list comprehension to print the Fibonacci Sequence in comma\n",
    "## separated form with a given n input by console.\n",
    "## Example:\n",
    "## If the following n is given as input to the program: 7\n",
    "\n",
    "## Then, the output of the program should be:\n",
    "## 0,1,1,2,3,5,8,13"
   ]
  },
  {
   "cell_type": "code",
   "execution_count": 11,
   "id": "aa2fdb72",
   "metadata": {},
   "outputs": [
    {
     "name": "stdout",
     "output_type": "stream",
     "text": [
      "Enter a number :7\n",
      "0,1,1,2,3,5,8,13\n"
     ]
    }
   ],
   "source": [
    "def fib(n):    \n",
    "    if n == 0: \n",
    "            return 0    \n",
    "    elif n == 1: \n",
    "            return 1    \n",
    "    else: \n",
    "            return fib(n-1)+fib(n-2)\n",
    "n=int(input('Enter a number :')) \n",
    "values = [str(fib(x)) for x in range(0, n+1)] \n",
    "print(\",\".join(values))"
   ]
  },
  {
   "cell_type": "markdown",
   "id": "913fe991",
   "metadata": {},
   "source": [
    "# 4.Assuming that we have some email addresses in the \"username@companyname.com\" format, please write program to print the user name of a given email address. Both user names and company names are composed of letters only. Example: If the following email address is given as input to the program: john@google.com Then, the output of the program should be: john"
   ]
  },
  {
   "cell_type": "code",
   "execution_count": 16,
   "id": "f5c39286",
   "metadata": {},
   "outputs": [
    {
     "name": "stdout",
     "output_type": "stream",
     "text": [
      "Enter the email address : john@google.com\n",
      "User name :  john\n"
     ]
    }
   ],
   "source": [
    "email = input(\"Enter the email address : \").split('@')\n",
    "print(\"User name : \",email[0])\n"
   ]
  },
  {
   "cell_type": "markdown",
   "id": "53140b54",
   "metadata": {},
   "source": [
    "# 5. Define a class named Shape and its subclass Square. The Square class has an init function which takes a length as argument. Both classes have a area function which can print the area of the shape where Shape's area is 0 by default."
   ]
  },
  {
   "cell_type": "code",
   "execution_count": 18,
   "id": "1f3edbf3",
   "metadata": {},
   "outputs": [
    {
     "name": "stdout",
     "output_type": "stream",
     "text": [
      "enter the lenght10\n",
      "100\n"
     ]
    }
   ],
   "source": [
    "class Shape(object):\n",
    "    def __init__(self):\n",
    "        pass\n",
    "\n",
    "    def area(self):\n",
    "        return 0\n",
    "\n",
    "class Square(Shape):\n",
    "    def __init__(self, l):\n",
    "        Shape.__init__(self)\n",
    "        self.length = l\n",
    "\n",
    "    def area(self):\n",
    "        return self.length*self.length\n",
    "l=int(input(\"enter the lenght\"))\n",
    "objSquare= Square(l)\n",
    "print(objSquare.area())"
   ]
  },
  {
   "cell_type": "code",
   "execution_count": null,
   "id": "9439ab00",
   "metadata": {},
   "outputs": [],
   "source": []
  }
 ],
 "metadata": {
  "kernelspec": {
   "display_name": "Python 3 (ipykernel)",
   "language": "python",
   "name": "python3"
  },
  "language_info": {
   "codemirror_mode": {
    "name": "ipython",
    "version": 3
   },
   "file_extension": ".py",
   "mimetype": "text/x-python",
   "name": "python",
   "nbconvert_exporter": "python",
   "pygments_lexer": "ipython3",
   "version": "3.9.12"
  }
 },
 "nbformat": 4,
 "nbformat_minor": 5
}
