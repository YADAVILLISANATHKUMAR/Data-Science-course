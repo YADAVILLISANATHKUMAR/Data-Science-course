{
 "cells": [
  {
   "cell_type": "markdown",
   "id": "5af0878e",
   "metadata": {},
   "source": [
    "# 1. How do you distinguish between shutil.copy() and shutil.copytree()?"
   ]
  },
  {
   "cell_type": "markdown",
   "id": "18ea0b0d",
   "metadata": {},
   "source": [
    "The shutil.copy() function will copy a single file, while shutil.copytree() will copy an entire folder, along with all its contents"
   ]
  },
  {
   "cell_type": "code",
   "execution_count": 64,
   "id": "9a8818cf",
   "metadata": {},
   "outputs": [
    {
     "name": "stdout",
     "output_type": "stream",
     "text": [
      "E:/New folder/images.png\n",
      "E:/New folder/Salesforce-Developer_2-3-Years.pdf\n",
      "E:/New folder/sample.txt\n"
     ]
    }
   ],
   "source": [
    "import os\n",
    "for r,d,f in os.walk(\"E:/New folder/\"):\n",
    "    for files in f:\n",
    "         if files in f:\n",
    "                print(os.path.join(r,files))"
   ]
  },
  {
   "cell_type": "code",
   "execution_count": 79,
   "id": "6f70ab19",
   "metadata": {},
   "outputs": [
    {
     "name": "stdout",
     "output_type": "stream",
     "text": [
      " before Copy the content of source to destination:\n",
      "File copied successfully.\n",
      " after Copy the content of source to destination:\n",
      "file already copied from source\n",
      "E:/New folder (2)/sample.txt\n"
     ]
    }
   ],
   "source": [
    "import shutil\n",
    " \n",
    "# Source path\n",
    "source = \"E:/New folder/sample.txt\"\n",
    "r1,d1,f1= source.split('/')\n",
    " \n",
    "# Destination path\n",
    "destination = \"E:/New folder (2)/\"\n",
    "def files(path):\n",
    "    for r,d,f in os.walk(path):\n",
    "        for files in f:\n",
    "            if files != f1:\n",
    "                print(\"file coping from source to destinaion\")\n",
    "                print(os.path.join(r,files))\n",
    "            else :\n",
    "                print(\"file already copied from source\")\n",
    "                print(os.path.join(r,files))\n",
    "print(\" before Copy the content of source to destination:\") \n",
    "files(source)\n",
    "files(destination)\n",
    "# Copy the content of\n",
    "# source to destination\n",
    " \n",
    "try:\n",
    "    shutil.copy(source, destination)\n",
    "    \n",
    "    print(\"File copied successfully.\")\n",
    "    print(\" after Copy the content of source to destination:\") \n",
    "    files(source)\n",
    "    files(destination)\n",
    " \n",
    "# If source and destination are same\n",
    "except shutil.SameFileError:\n",
    "    print(\"Source and destination represents the same file.\")\n",
    " \n",
    "# If there is any permission issue\n",
    "except PermissionError:\n",
    "    print(\"Permission denied.\")\n",
    " \n",
    "# For other errors\n",
    "except:\n",
    "    print(\"Error occurred while copying file.\")"
   ]
  },
  {
   "cell_type": "markdown",
   "id": "52d4019a",
   "metadata": {},
   "source": [
    "# 2. What function is used to rename files??"
   ]
  },
  {
   "cell_type": "markdown",
   "id": "b99085ff",
   "metadata": {},
   "source": [
    "The shutil.move() function is used for renaming files, as well as moving them"
   ]
  },
  {
   "cell_type": "markdown",
   "id": "e8e01c91",
   "metadata": {},
   "source": [
    "# 3. What is the difference between the delete functions in the send2trash and shutil modules?"
   ]
  },
  {
   "cell_type": "markdown",
   "id": "5075fd94",
   "metadata": {},
   "source": [
    "The send2trash functions will move a file or folder to the recycle bin, while shutil functions will permanently delete files and folders.\n",
    "\n"
   ]
  },
  {
   "cell_type": "markdown",
   "id": "5d81e7da",
   "metadata": {},
   "source": [
    "# 4.ZipFile objects have a close() method just like File objects’ close() method. What ZipFile method is equivalent to File objects’ open() method?\n"
   ]
  },
  {
   "cell_type": "markdown",
   "id": "700b2e94",
   "metadata": {},
   "source": [
    "\n",
    " The zipfile.ZipFile() function is equivalent to the open() function , the first argument is the filename, and the second argument is the mode to open the ZIP file in (read, write, or append)."
   ]
  },
  {
   "cell_type": "markdown",
   "id": "1b6af9f6",
   "metadata": {},
   "source": [
    "# 5.Create a programme that searches a folder tree for files with a certain file extension (such as .pdf or .jpg). Copy these files from whatever location they are in to a new folder."
   ]
  },
  {
   "cell_type": "code",
   "execution_count": 84,
   "id": "800e45fc",
   "metadata": {},
   "outputs": [
    {
     "name": "stdout",
     "output_type": "stream",
     "text": [
      "before copy file from source to destination\n",
      "File copied successfully.\n",
      "after copy file from source to destination\n",
      "E:/New folder (2)/Salesforce-Developer_2-3-Years.pdf\n"
     ]
    }
   ],
   "source": [
    "import shutil\n",
    " \n",
    "# Source path\n",
    "source = \"E:/New folder/Salesforce-Developer_2-3-Years.pdf\"\n",
    "r1,d1,f1= source.split('/')\n",
    "#print(f1)\n",
    "# Destination path\n",
    "destination = \"E:/New folder (2)/\"\n",
    " \n",
    "# Copy the content of\n",
    "# source to destination\n",
    "def files(file_path):\n",
    "    \n",
    "    for r,d,f in os.walk(file_path):\n",
    "        for files in f:\n",
    "            if(files == f1):\n",
    "                #print(files)\n",
    "                print(os.path.join(r,files))\n",
    "                break\n",
    "            else:\n",
    "                print(\"there is no  file from  destination which we copy from source\")\n",
    "                #print(os.path.join(r,files))\n",
    "\n",
    "try:\n",
    "    print(\"before copy file from source to destination\")\n",
    "    #files(source)\n",
    "    files(destination)\n",
    "    if (source.endswith('.jpg') or source.endswith('.pdf')):\n",
    "        shutil.copy(source, destination)\n",
    "        print(\"File copied successfully.\")\n",
    "        print(\"after copy file from source to destination\")\n",
    "        #files(source)\n",
    "        files(destination)\n",
    "    else:\n",
    "        print(\"There is no pdf or png file in  source folder .\")\n",
    "\n",
    "# If source and destination are same\n",
    "except shutil.SameFileError:\n",
    "    print(\"Source and destination represents the same file.\")\n",
    " \n",
    "# If there is any permission issue\n",
    "except PermissionError:\n",
    "    print(\"Permission denied.\")\n",
    " \n",
    "# For other errors\n",
    "except:\n",
    "    print(\"Error occurred while copying file.\")"
   ]
  },
  {
   "cell_type": "code",
   "execution_count": null,
   "id": "7af757cf",
   "metadata": {},
   "outputs": [],
   "source": []
  },
  {
   "cell_type": "code",
   "execution_count": null,
   "id": "f2b4122b",
   "metadata": {},
   "outputs": [],
   "source": []
  },
  {
   "cell_type": "code",
   "execution_count": null,
   "id": "23dc8713",
   "metadata": {},
   "outputs": [],
   "source": []
  },
  {
   "cell_type": "code",
   "execution_count": null,
   "id": "a5a9696a",
   "metadata": {},
   "outputs": [],
   "source": []
  }
 ],
 "metadata": {
  "kernelspec": {
   "display_name": "Python 3 (ipykernel)",
   "language": "python",
   "name": "python3"
  },
  "language_info": {
   "codemirror_mode": {
    "name": "ipython",
    "version": 3
   },
   "file_extension": ".py",
   "mimetype": "text/x-python",
   "name": "python",
   "nbconvert_exporter": "python",
   "pygments_lexer": "ipython3",
   "version": "3.9.12"
  }
 },
 "nbformat": 4,
 "nbformat_minor": 5
}
