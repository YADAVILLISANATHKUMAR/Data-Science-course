{
 "cells": [
  {
   "cell_type": "markdown",
   "metadata": {
    "id": "GT4IytkJMNa-"
   },
   "source": [
    "\n",
    "# 1. What is indentation error? Why indentation is important? Give one simple example?\n",
    "\n"
   ]
  },
  {
   "cell_type": "markdown",
   "metadata": {},
   "source": [
    "The indentation error can occur when the spaces or tabs are not placed properly. In Python programming Indentation refers to the spaces at the beginning of a code line and Where in other programming languages the indentation in code is for readability only, the indentation in Python is very important.Python uses indentation to indicate a block of code."
   ]
  },
  {
   "cell_type": "code",
   "execution_count": 34,
   "metadata": {},
   "outputs": [
    {
     "ename": "IndentationError",
     "evalue": "expected an indented block (3232350969.py, line 3)",
     "output_type": "error",
     "traceback": [
      "\u001b[1;36m  Input \u001b[1;32mIn [34]\u001b[1;36m\u001b[0m\n\u001b[1;33m    print(f\"{i} is {type(i)}\")\u001b[0m\n\u001b[1;37m    ^\u001b[0m\n\u001b[1;31mIndentationError\u001b[0m\u001b[1;31m:\u001b[0m expected an indented block\n"
     ]
    }
   ],
   "source": [
    "i=10\n",
    "if(type(i) == int):\n",
    "print(f\"{i} is {type(i)}\")    \n"
   ]
  },
  {
   "cell_type": "code",
   "execution_count": 35,
   "metadata": {},
   "outputs": [
    {
     "name": "stdout",
     "output_type": "stream",
     "text": [
      "type of 10 is <class 'int'>\n"
     ]
    }
   ],
   "source": [
    "i=10\n",
    "if(type(i) == int):\n",
    "    print(f\"type of {i} is {type(i)}\")    \n"
   ]
  },
  {
   "cell_type": "markdown",
   "metadata": {},
   "source": [
    "# 2. Correct the following code and write the comment where you made the correction?\n",
    "\n",
    "  \n",
    "  class_started = bool(input(\"Hey friend, is class started?: [0-False/1-True]\"))\n",
    "\n",
    "  if class_started:\n",
    "      print(\"Since class started...\")\n",
    "      print(\"Lets concentrate\")\n",
    "  else:\n",
    "      print(\"Since class is not started...\")\n",
    "      print(\"let's revise\")    \n",
    " \n"
   ]
  },
  {
   "cell_type": "code",
   "execution_count": 37,
   "metadata": {},
   "outputs": [
    {
     "name": "stdout",
     "output_type": "stream",
     "text": [
      "Hey friend, is class started?: [0-False/1-True]\n",
      "Since class is not started...\n",
      "let's revise\n"
     ]
    }
   ],
   "source": [
    "class_started = bool(input(\"Hey friend, is class started?: [0-False/1-True]\"))\n",
    "\n",
    "if class_started:\n",
    "    print(\"Since class started...\")\n",
    "    print(\"Lets concentrate\")\n",
    "else:\n",
    "    print(\"Since class is not started...\")\n",
    "    print(\"let's revise\")    "
   ]
  },
  {
   "cell_type": "markdown",
   "metadata": {},
   "source": [
    "The above code is no errors"
   ]
  },
  {
   "cell_type": "markdown",
   "metadata": {},
   "source": [
    "\n",
    "\n",
    "# 3. Use if else condition to verify that dataype of `input()` method in python is always string.\n",
    "\n"
   ]
  },
  {
   "cell_type": "code",
   "execution_count": 55,
   "metadata": {},
   "outputs": [
    {
     "name": "stdout",
     "output_type": "stream",
     "text": [
      "Enter the value: 10\n",
      "in input function the value 10 is <class 'str'>\n"
     ]
    }
   ],
   "source": [
    "# In Python, we use input() function to take input from the user.\n",
    "#Whatever we  enter as input, the input function converts it into a string even we take other type of data such as number,float ,boolean\n",
    "Input= (input(\"Enter the value: \")) # Python input method consider every data as string data type.\n",
    "if type(Input) == str:\n",
    "    print(f\"in input function the value {Input} is {type(Input)}\")\n",
    "else:\n",
    "    print(\"It's not a str\")   "
   ]
  },
  {
   "cell_type": "markdown",
   "metadata": {},
   "source": [
    "# 4. Take 3 variables and assign integer values to them. Find the largest variable, by only using the if and else conditions.\n",
    "\n"
   ]
  },
  {
   "cell_type": "code",
   "execution_count": 50,
   "metadata": {},
   "outputs": [
    {
     "name": "stdout",
     "output_type": "stream",
     "text": [
      "Enter a number:10\n",
      "Enter a number:5\n",
      "Enter a number:2\n",
      "a is greater among three numbers\n"
     ]
    }
   ],
   "source": [
    "a = int(input(\"Enter a number:\"))\n",
    "b = int(input(\"Enter a number:\"))\n",
    "c = int(input(\"Enter a number:\"))\n",
    "\n",
    "if (a>b):\n",
    "    if(a>c):\n",
    "        print(\"a is greater among three numbers\")\n",
    "    else:\n",
    "        print(\"c is greater among three numbers\")\n",
    "else:\n",
    "    if (b>c):\n",
    "        print(\"b is greater among three numbers\")\n",
    "    else:\n",
    "        print(\"c is greater than among three number\")        \n"
   ]
  },
  {
   "cell_type": "markdown",
   "metadata": {},
   "source": [
    "\n",
    "# 5. What would be the solution?\n",
    "    1. True\n",
    "    2. False\n",
    "\n",
    "    ```python\n",
    "    a = 6\n",
    "    b = 10\n",
    "    print( not ( not a == 10 or not b == 10) )\n",
    "    ```\n",
    "    \n"
   ]
  },
  {
   "cell_type": "code",
   "execution_count": 41,
   "metadata": {},
   "outputs": [
    {
     "name": "stdout",
     "output_type": "stream",
     "text": [
      "False\n"
     ]
    }
   ],
   "source": [
    "a = 6\n",
    "b = 10\n",
    "print( not ( not a == 10 or not b == 10) )"
   ]
  },
  {
   "cell_type": "markdown",
   "metadata": {},
   "source": [
    "# 6. Find the answer as well as find out the reason behind the result? -\n",
    "    - case 1:\n",
    "        ```python\n",
    "        A = 5.0\n",
    "        B = 10/2\n",
    "        print(A is B)\n",
    "        ```\n",
    "    - case 2:\n",
    "        ```python\n",
    "        A = 5.0\n",
    "        B = int(10/2)\n",
    "        print(A is B)\n",
    "        ```\n",
    "    - case 3:\n",
    "        ```python\n",
    "        A = 5.0\n",
    "        B = float(10/2)\n",
    "        print(A is B)\n",
    "        ```"
   ]
  },
  {
   "cell_type": "markdown",
   "metadata": {},
   "source": [
    "## Identity operators are used to compare the objects, not if they are equal, but if they are actually the same object, with the same memory location:"
   ]
  },
  {
   "cell_type": "code",
   "execution_count": 43,
   "metadata": {},
   "outputs": [
    {
     "name": "stdout",
     "output_type": "stream",
     "text": [
      "id of A is1508613827856 \n",
      "id of B is1508613827216 \n",
      "False\n"
     ]
    }
   ],
   "source": [
    "A = 5.0\n",
    "B = 10/2\n",
    "print(f\"id of A is{id(A)} \")\n",
    "print(f\"id of B is{id(B)} \")\n",
    "print(A is B)"
   ]
  },
  {
   "cell_type": "code",
   "execution_count": 44,
   "metadata": {},
   "outputs": [
    {
     "name": "stdout",
     "output_type": "stream",
     "text": [
      "id of A is1508613825200 \n",
      "id of B is1508503480752 \n",
      "False\n"
     ]
    }
   ],
   "source": [
    "A = 5.0\n",
    "B = int(10/2)\n",
    "print(f\"id of A is{id(A)} \")\n",
    "print(f\"id of B is{id(B)} \")\n",
    "print(A is B)"
   ]
  },
  {
   "cell_type": "code",
   "execution_count": 45,
   "metadata": {},
   "outputs": [
    {
     "name": "stdout",
     "output_type": "stream",
     "text": [
      "id of A is1508613826320 \n",
      "id of B is1508613825200 \n",
      "False\n"
     ]
    }
   ],
   "source": [
    "A = 5.0\n",
    "B = float(10/2)\n",
    "print(f\"id of A is{id(A)} \")\n",
    "print(f\"id of B is{id(B)} \")\n",
    "print(A is B)"
   ]
  },
  {
   "cell_type": "markdown",
   "metadata": {
    "id": "v288WPlMNxmM"
   },
   "source": [
    "# 7. Write a program that asks the user to enter a number. You should print out a message to the user, either “That number is divisible by either 3 or 5”, or “That number is not divisible by either 3 or 5”. Be sure to consider the data type of the input you are taking in from the user. Use a single if/else block to solve this problem.\n",
    "\n"
   ]
  },
  {
   "cell_type": "code",
   "execution_count": 54,
   "metadata": {
    "id": "XumyqFp6MHnv"
   },
   "outputs": [
    {
     "name": "stdout",
     "output_type": "stream",
     "text": [
      "Enter a number: 10\n",
      "That number is divisible by either 3 or 5\n"
     ]
    }
   ],
   "source": [
    "a= int(input(\"Enter a number: \"))\n",
    "if (a % 3 == 0 or a % 5 ==0) :\n",
    "    print(\"That number is divisible by either 3 or 5\")\n",
    "else:\n",
    "    print(\"That number is not divisible by either 3 or 5\") "
   ]
  },
  {
   "cell_type": "markdown",
   "metadata": {},
   "source": [
    "# 8. Take user input for length and width. Then calculate the area of rectangle. Also print as per length and width whether its a square of rectangle.\n",
    "\n"
   ]
  },
  {
   "cell_type": "code",
   "execution_count": 51,
   "metadata": {},
   "outputs": [
    {
     "name": "stdout",
     "output_type": "stream",
     "text": [
      "Please Enter the width of a Rectangle: 10\n",
      "Please Enter the width of a Rectangle: 5\n",
      " Area of a Reactangle is: 50.0\n",
      "lenght and breadth are not equal so it's not square \n"
     ]
    }
   ],
   "source": [
    "w = float(input(\"Please Enter the width of a Rectangle: \"))\n",
    "h = float(input(\"Please Enter the width of a Rectangle: \"))\n",
    "\n",
    "Area = w * h # formula for are of rectangle\n",
    "\n",
    "print(\" Area of a Reactangle is:\" ,Area)\n",
    "if(w ==h):\n",
    "    print(\"lenght and breadth are equal so it square \")\n",
    "else:    \n",
    "    print(\"lenght and breadth are not equal so it's not square \")"
   ]
  },
  {
   "cell_type": "markdown",
   "metadata": {},
   "source": [
    "# 9. Take two variable radius_1 and radius_2 and calculate the area of circle_1 and circle_2. Also print which circle has large area. If area is equal then print area is equal.\n"
   ]
  },
  {
   "cell_type": "code",
   "execution_count": 52,
   "metadata": {},
   "outputs": [
    {
     "name": "stdout",
     "output_type": "stream",
     "text": [
      "Enter the value of r1: 10\n",
      "Enter the value of r2: 5\n",
      "Area of Circle_1: 314.0\n",
      "Area of Circle_1: 78.5\n",
      "Area of circle_1 is greater than Area of circle_2\n"
     ]
    }
   ],
   "source": [
    "\n",
    "PI = 3.14\n",
    "radius_1=float(input(\"Enter the value of r1: \"))\n",
    "radius_2=float(input(\"Enter the value of r2: \"))\n",
    "circle_1= PI * radius_1 *radius_1 # formula of area of circle\n",
    "circle_2= PI * radius_2 * radius_2\n",
    "print(\"Area of Circle_1:\",circle_1)\n",
    "print(\"Area of Circle_1:\",circle_2)\n",
    "if(circle_1 > circle_2):\n",
    "    print(\"Area of circle_1 is greater than Area of circle_2\" ) \n",
    "elif(circle_1 < circle_2):\n",
    "    print(\"Area of circle_2 is grater than greater than Area of circle_1\")  \n",
    "else:\n",
    "    print('Area Of Both circles are Equal')\n",
    "\n"
   ]
  },
  {
   "cell_type": "markdown",
   "metadata": {},
   "source": [
    "\n",
    "# 10. Check whether a year is leap year or not. Use nested if...else to solve this problem. A leap year is exactly divisible by 4 except for century years (years ending with 00). The century year is a leap year only if it is perfectly divisible by 400."
   ]
  },
  {
   "cell_type": "code",
   "execution_count": 53,
   "metadata": {},
   "outputs": [
    {
     "name": "stdout",
     "output_type": "stream",
     "text": [
      "enter the year to check leap year or not  : 1000\n",
      "Non Leap Year\n"
     ]
    }
   ],
   "source": [
    "#Modulo division operator gives remainder ofdividend number by divisor number \n",
    "year =int(input(\"enter the year to check leap year or not  : \"))\n",
    "if(year %400 == 0) :# its check for century year is leap year or not such as 2000 ,1000 1600 \n",
    "    if(year% 100 ==0):# its check for century year is leap year or not \n",
    "        print(\"Leap Year\")\n",
    "    else:\n",
    "        print(\"Non Leap Year\")\n",
    "else:\n",
    "    if(year % 100 != 0 and year %4 == 0):#its check for non century year is leap year or not such as 2016,2020\n",
    "        print(\"Leap Year\") \n",
    "    else:\n",
    "        print(\"Non Leap Year\")\n",
    "\n",
    "  \n",
    "\n"
   ]
  },
  {
   "cell_type": "markdown",
   "metadata": {
    "id": "a_4kbBVWNY-4"
   },
   "source": []
  },
  {
   "cell_type": "code",
   "execution_count": null,
   "metadata": {},
   "outputs": [],
   "source": []
  },
  {
   "cell_type": "code",
   "execution_count": null,
   "metadata": {},
   "outputs": [],
   "source": []
  }
 ],
 "metadata": {
  "colab": {
   "collapsed_sections": [],
   "provenance": []
  },
  "kernelspec": {
   "display_name": "Python 3 (ipykernel)",
   "language": "python",
   "name": "python3"
  },
  "language_info": {
   "codemirror_mode": {
    "name": "ipython",
    "version": 3
   },
   "file_extension": ".py",
   "mimetype": "text/x-python",
   "name": "python",
   "nbconvert_exporter": "python",
   "pygments_lexer": "ipython3",
   "version": "3.9.12"
  }
 },
 "nbformat": 4,
 "nbformat_minor": 1
}
