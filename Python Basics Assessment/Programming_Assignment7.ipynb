{
 "cells": [
  {
   "cell_type": "markdown",
   "id": "f4a1c9af",
   "metadata": {},
   "source": [
    "# 1. Write a Python Program to find sum of array?"
   ]
  },
  {
   "cell_type": "code",
   "execution_count": 10,
   "id": "29436fe5",
   "metadata": {},
   "outputs": [
    {
     "name": "stdout",
     "output_type": "stream",
     "text": [
      "Enter the list values separated by space : 1 2 4\n",
      "Values in array are [1, 2, 4]\n",
      "Sum of all the elements of an array is: 7\n"
     ]
    }
   ],
   "source": [
    "\n",
    "\"\"\"arr = [7,8,9,12,14,15];     \n",
    "    \"\"\" \n",
    "# input_string = input('Enter elements of a list separated by space ')\n",
    "#l1 = input_string.split()\n",
    "l1 = [int(item) for item in input(\"Enter the list values separated by space : \").split()]\n",
    "print(f\"Values in array are {l1}\")\n",
    "sum = 0\n",
    "for i in range(0, len(l1)):    \n",
    "    sum = sum +l1[i]\n",
    "    \n",
    "     \n",
    "print(\"Sum of all the elements of an array is: \" + str(sum))\n"
   ]
  },
  {
   "cell_type": "markdown",
   "id": "74be91d7",
   "metadata": {},
   "source": [
    "# 2. Write a Python Program to find largest element in an array?"
   ]
  },
  {
   "cell_type": "code",
   "execution_count": 13,
   "id": "450a9d52",
   "metadata": {},
   "outputs": [
    {
     "name": "stdout",
     "output_type": "stream",
     "text": [
      "Enter the list values separated by space : 4 3 2\n",
      "Values in array are [4, 3, 2]\n",
      "largest element in an array is:  4\n"
     ]
    }
   ],
   "source": [
    "\n",
    "l1 = [int(item) for item in input(\"Enter the list values separated by space : \").split()]\n",
    "print(f\"Values in array are {l1}\")\n",
    "largestNumber = 0\n",
    "for i in range(0, len(l1)):    \n",
    "    if(l1[i]> largestNumber):\n",
    "        largestNumber =l1[i]\n",
    "    \n",
    "     \n",
    "print(\"largest element in an array is: \" ,  largestNumber)\n"
   ]
  },
  {
   "cell_type": "markdown",
   "id": "bcc371fb",
   "metadata": {},
   "source": [
    "# 3. Write a Python Program for array rotation?"
   ]
  },
  {
   "cell_type": "code",
   "execution_count": 19,
   "id": "097ec192",
   "metadata": {},
   "outputs": [
    {
     "name": "stdout",
     "output_type": "stream",
     "text": [
      "Enter the list values separated by space : 1 2 4  4\n",
      "Values in array are [1, 2, 4, 4]\n",
      "enter the number for how times  array should be rotation:3\n",
      "Array after left rotation is:  [4, 1, 2, 4]\n"
     ]
    }
   ],
   "source": [
    "def rotateArray(a,d):\n",
    "    temp = []\n",
    "    n=len(a)\n",
    "    for i in range(d,n):\n",
    "        temp.append(a[i])\n",
    "    i = 0\n",
    "    for i in range (0,d):\n",
    "        temp.append(a[i])\n",
    "    a=temp.copy()\n",
    "    return a\n",
    " \n",
    "arr = [int(item) for item in input(\"Enter the list values separated by space : \").split()]\n",
    "print(f\"Values in array are {arr}\")\n",
    "rotation =int(input(\"enter the number for how times  array should be rotation:\"))\n",
    "print(\"Array after left rotation is: \", end=' ')\n",
    "print(rotateArray(arr, rotation))"
   ]
  },
  {
   "cell_type": "markdown",
   "id": "6e400c1d",
   "metadata": {},
   "source": [
    "# 4 .Write a Python Program to Split the array and add the first part to the end?"
   ]
  },
  {
   "cell_type": "code",
   "execution_count": 49,
   "id": "f7d2253f",
   "metadata": {},
   "outputs": [
    {
     "name": "stdout",
     "output_type": "stream",
     "text": [
      "Enter the list values separated by space : 1 2 3 4\n",
      "Values in array are [1, 2, 3, 4]\n",
      "enter the  number to Split the array and add the first part to the end:1\n",
      "first part array is [1]\n",
      "Array after first part add to end is:  [2, 3, 4, 1]\n"
     ]
    }
   ],
   "source": [
    "def SpitArrayByindex(a,d):\n",
    "    if(split< len(a) and split>0) :\n",
    "        temp = []\n",
    "        n=len(a)\n",
    "        for i in range(d,n):\n",
    "            temp.append(a[i])\n",
    "        \n",
    "        i = 0\n",
    "        for i in range (0,d):\n",
    "            temp.append(a[i])\n",
    "        print(\"first part array is\",a[0:d])\n",
    "        a=temp.copy()\n",
    "        print(\"Array after first part add to end is: \", end=' ')\n",
    "    return a\n",
    "arr = [int(item) for item in input(\"Enter the list values separated by space : \").split()]\n",
    "print(f\"Values in array are {arr}\")\n",
    "\n",
    "split =int(input(\"enter the  number to Split the array and add the first part to the end:\"))\n",
    "\n",
    "print(SpitArrayByindex(arr, split))"
   ]
  },
  {
   "cell_type": "markdown",
   "id": "c5f7e096",
   "metadata": {},
   "source": [
    "# 5. Write a Python Program to check if given array is Monotonic?"
   ]
  },
  {
   "cell_type": "code",
   "execution_count": 55,
   "id": "7f3199f1",
   "metadata": {},
   "outputs": [
    {
     "name": "stdout",
     "output_type": "stream",
     "text": [
      "Enter the list values separated by space : 1 2 3 4\n",
      "Values in array are [1, 2, 3, 4]\n",
      "True\n"
     ]
    }
   ],
   "source": [
    "# Monotonic array  mean array in ascending or descending order  \n",
    "def isMonotonic(A):\n",
    "    return (all(A[i] <= A[i + 1] for i in range(len(A) - 1)) or\n",
    "      all(A[i] >= A[i + 1] for i in range(len(A) - 1)))\n",
    "# main\n",
    "arr = [int(item) for item in input(\"Enter the list values separated by space : \").split()]\n",
    "print(f\"Values in array are {arr}\")\n",
    "print(isMonotonic(arr))"
   ]
  }
 ],
 "metadata": {
  "kernelspec": {
   "display_name": "Python 3 (ipykernel)",
   "language": "python",
   "name": "python3"
  },
  "language_info": {
   "codemirror_mode": {
    "name": "ipython",
    "version": 3
   },
   "file_extension": ".py",
   "mimetype": "text/x-python",
   "name": "python",
   "nbconvert_exporter": "python",
   "pygments_lexer": "ipython3",
   "version": "3.9.12"
  }
 },
 "nbformat": 4,
 "nbformat_minor": 5
}
