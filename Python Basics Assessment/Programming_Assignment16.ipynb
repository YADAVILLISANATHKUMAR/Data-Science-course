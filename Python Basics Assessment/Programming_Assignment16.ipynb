{
 "cells": [
  {
   "cell_type": "markdown",
   "id": "2f0521aa",
   "metadata": {},
   "source": [
    "# 1. Write a function that stutters a word as if someone is struggling to read it. The first two letters are repeated twice with an ellipsis ... and space after each, and then the word is pronounced with a question mark ?.\n",
    "## Examples\n",
    "## stutter(\"incredible\") ➞ \"in... in... incredible?\" \n",
    "## stutter(\"enthusiastic\") ➞ \"en... en... enthusiastic?\" \n",
    "## stutter(\"outstanding\") ➞ \"ou... ou... outstanding?\"\n",
    "\n",
    "## Hint :- Assume all input is in lower case and at least two characters long."
   ]
  },
  {
   "cell_type": "code",
   "execution_count": 7,
   "id": "86722c88",
   "metadata": {},
   "outputs": [
    {
     "name": "stdout",
     "output_type": "stream",
     "text": [
      "incrediable\n",
      "in... in... incrediable?\n"
     ]
    }
   ],
   "source": [
    "# method -1\n",
    "def stutter(s):\n",
    "    if(len(s)>2):\n",
    "        sub=s[0:2]\n",
    "        o=''\n",
    "        for i in range(2):\n",
    "            o=o+sub+\"... \"\n",
    "        o=o+s+'?'\n",
    "        print(o)\n",
    "    else:\n",
    "        print(\"at least two characters long string\")\n",
    "s=input().lower()\n",
    "stutter(s)    "
   ]
  },
  {
   "cell_type": "code",
   "execution_count": 8,
   "id": "9f01b796",
   "metadata": {},
   "outputs": [
    {
     "name": "stdout",
     "output_type": "stream",
     "text": [
      "Enter word : incrediable\n",
      "in... in... incrediable?\n"
     ]
    }
   ],
   "source": [
    "# method 2\n",
    "def stutter(word):\n",
    "    return (2*(word[:2]+'... '))+word+'?'\n",
    "word = input('Enter word : ')\n",
    "print(stutter(word))\n"
   ]
  },
  {
   "cell_type": "markdown",
   "id": "225a1081",
   "metadata": {},
   "source": [
    "# 2. Question 2.Create a function that takes an angle in radians and returns the corresponding angle in degrees rounded to one decimal place.\n",
    "## Examples\n",
    "## radians_to_degrees(1) ➞ 57.3\n",
    "## radians_to_degrees(20) ➞ 1145.9\n",
    "## radians_to_degrees(50) ➞ 2864.8"
   ]
  },
  {
   "cell_type": "code",
   "execution_count": 14,
   "id": "b646e70c",
   "metadata": {},
   "outputs": [
    {
     "name": "stdout",
     "output_type": "stream",
     "text": [
      "Enter the Radian : 20\n",
      "degree = 1145.9\n"
     ]
    }
   ],
   "source": [
    "def radians_to_degrees(radian):\n",
    "    pi = 3.14159\n",
    "    #formula\n",
    "    degree = radian * (180/pi)\n",
    "    return degree\n",
    "radian = float(input('Enter the Radian : '))\n",
    "print(\"degree =\",round((radians_to_degrees(radian)),1))"
   ]
  },
  {
   "cell_type": "markdown",
   "id": "c954da6d",
   "metadata": {},
   "source": [
    "# 3.In this challenge, establish if a given integer num is a Curzon number. If 1 plus 2 elevated to num is exactly divisible by 1 plus 2 multiplied by num, then num is a Curzonnumber. Given a non-negative integer num, implement a function that returns True if num is a Curzon number, or False otherwise.\n",
    "## Examples\n",
    "## is_curzon(5) ➞ True\n",
    "## 2 ** 5 + 1 = 33\n",
    "## 2 * 5 + 1 = 11\n",
    "## 33 is a multiple of 11\n",
    "## is_curzon(10) ➞ False\n",
    "## 2 ** 10 + 1 = 1025\n",
    "## 2 * 10 + 1 = 21\n",
    "## 1025 is not a multiple of 21\n",
    "## is_curzon(14) ➞ True\n",
    "##  2 ** 14 + 1 = 16385\n",
    "## 2 * 14 + 1 = 29\n",
    "## 16385 is a multiple of 29\n",
    "\n"
   ]
  },
  {
   "cell_type": "code",
   "execution_count": 18,
   "id": "453273f2",
   "metadata": {},
   "outputs": [
    {
     "name": "stdout",
     "output_type": "stream",
     "text": [
      " 33\n",
      "33 is curzon number \n"
     ]
    }
   ],
   "source": [
    "def is_curzon(n):\n",
    "    p=(2**n) +1\n",
    "    r = (2*n)+1\n",
    "    if(p%r== 0):\n",
    "        print(f\"{n} is curzon number \")\n",
    "    else:\n",
    "        print(f\"{n} is not a curzon number \")\n",
    "n=int(input(\" \"))        \n",
    "is_curzon(n)        "
   ]
  },
  {
   "cell_type": "markdown",
   "id": "372d2d49",
   "metadata": {},
   "source": [
    "# 3. Given the side length x find the area of a hexagon.\n",
    "\n",
    "## Examples\n",
    "## area_of_hexagon(1) ➞ 2.6\n",
    "## area_of_hexagon(2) ➞ 10.4\n",
    "## area_of_hexagon(3) ➞ 23.4"
   ]
  },
  {
   "cell_type": "code",
   "execution_count": 25,
   "id": "8eb70a1d",
   "metadata": {},
   "outputs": [
    {
     "name": "stdout",
     "output_type": "stream",
     "text": [
      "Enter the length : 1\n"
     ]
    },
    {
     "data": {
      "text/plain": [
       "2.6"
      ]
     },
     "execution_count": 25,
     "metadata": {},
     "output_type": "execute_result"
    }
   ],
   "source": [
    "import math\n",
    "def area_of_hexagon(sideLength):\n",
    "    return round(((3 * math.sqrt(3) * (sideLength * sideLength)) / 2),1)\n",
    "     \n",
    "sideLength = float(input('Enter the length : '))\n",
    "area_of_hexagon(sideLength)"
   ]
  },
  {
   "cell_type": "markdown",
   "id": "08f6ad96",
   "metadata": {},
   "source": [
    "# Create a function that returns a base-2 (binary) representation of a base-10 (decimal) string number. To convert is simple: ((2) means base-2 and (10) means base-10)\n",
    "## 010101001(2) = 1 + 8 + 32 + 128.\n",
    "## Going from right to left, the value of the most right bit is 1, now from that every bit to the left will be x2 the value, value of an 8 bit binary numbers are (256, 128, 64, 32, 16, 8, 4, 2, 1).\n",
    "## Examples\n",
    "## binary(1) ➞ '1'\n",
    "##  1*1 = 1\n",
    "## binary(5) ➞ '101'\n",
    "## 1*1 + 1*4 = 5\n",
    "## binary(10) ➞ '1010'\n",
    "## 1*2 + 1*8 = 10"
   ]
  },
  {
   "cell_type": "code",
   "execution_count": 34,
   "id": "0e19dbb7",
   "metadata": {},
   "outputs": [
    {
     "name": "stdout",
     "output_type": "stream",
     "text": [
      "10\n"
     ]
    },
    {
     "data": {
      "text/plain": [
       "'1010'"
      ]
     },
     "execution_count": 34,
     "metadata": {},
     "output_type": "execute_result"
    }
   ],
   "source": [
    "def binary(n):\n",
    "    return bin(n).replace(\"0b\", \"\")\n",
    "n= int(input())\n",
    "binary(n)"
   ]
  },
  {
   "cell_type": "code",
   "execution_count": null,
   "id": "926f639b",
   "metadata": {},
   "outputs": [],
   "source": []
  }
 ],
 "metadata": {
  "kernelspec": {
   "display_name": "Python 3 (ipykernel)",
   "language": "python",
   "name": "python3"
  },
  "language_info": {
   "codemirror_mode": {
    "name": "ipython",
    "version": 3
   },
   "file_extension": ".py",
   "mimetype": "text/x-python",
   "name": "python",
   "nbconvert_exporter": "python",
   "pygments_lexer": "ipython3",
   "version": "3.9.12"
  }
 },
 "nbformat": 4,
 "nbformat_minor": 5
}
