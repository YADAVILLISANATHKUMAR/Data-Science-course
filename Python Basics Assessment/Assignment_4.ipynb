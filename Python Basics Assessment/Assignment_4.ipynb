{
 "cells": [
  {
   "cell_type": "markdown",
   "id": "c0381687",
   "metadata": {},
   "source": [
    "# 1.What exactly is [ ]?"
   ]
  },
  {
   "cell_type": "markdown",
   "id": "3decdad2",
   "metadata": {},
   "source": [
    "The empty list value, which is a list value that contains no items. This is similar to how '' is the empty string value.\n",
    "\n"
   ]
  },
  {
   "cell_type": "code",
   "execution_count": 5,
   "id": "eacaaa5d",
   "metadata": {},
   "outputs": [
    {
     "data": {
      "text/plain": [
       "[]"
      ]
     },
     "execution_count": 5,
     "metadata": {},
     "output_type": "execute_result"
    }
   ],
   "source": [
    "[] # empty list we didn't get any results from this"
   ]
  },
  {
   "cell_type": "code",
   "execution_count": 6,
   "id": "c2fc3955",
   "metadata": {},
   "outputs": [
    {
     "data": {
      "text/plain": [
       "[1, 2, 3]"
      ]
     },
     "execution_count": 6,
     "metadata": {},
     "output_type": "execute_result"
    }
   ],
   "source": [
    "[1,2,3]"
   ]
  },
  {
   "cell_type": "markdown",
   "id": "b4d49616",
   "metadata": {},
   "source": [
    "# 2.In a list of values stored in a variable called spam, how would you assign the value \"hello\" as the third value? (Assume [2, 4, 6, 8, 10] are in spam.)"
   ]
  },
  {
   "cell_type": "code",
   "execution_count": 7,
   "id": "03c36212",
   "metadata": {},
   "outputs": [
    {
     "name": "stdout",
     "output_type": "stream",
     "text": [
      "[2, 4, 'hello', 8, 10]\n"
     ]
    }
   ],
   "source": [
    "# In python programming index starts with 0 \n",
    "spam =[2,4,6,8,10]\n",
    "spam[2] =\"hello\" # the third value in a list is at index 2 because the first index is 0.)\n",
    "print(spam)\n"
   ]
  },
  {
   "cell_type": "markdown",
   "id": "43e7e064",
   "metadata": {},
   "source": [
    "# Lets pretend the spam includes the list [\"a\",\"b\",\"c\", \"d\"] for the next three queries.\n",
    "3. What is the value of spam[int(int('3' * 2) / 11)]?\n",
    "4. What is the value of spam[-1]?\n",
    "5. What is the value of spam[:2]?"
   ]
  },
  {
   "cell_type": "markdown",
   "id": "83e4d1ca",
   "metadata": {},
   "source": [
    "# 3. What is the value of spam[int(int('3' * 2) / 11)]?"
   ]
  },
  {
   "cell_type": "code",
   "execution_count": 8,
   "id": "3f144655",
   "metadata": {},
   "outputs": [
    {
     "name": "stdout",
     "output_type": "stream",
     "text": [
      " Result of (int(int('3' * 2) / 11) 3\n"
     ]
    },
    {
     "data": {
      "text/plain": [
       "'d'"
      ]
     },
     "execution_count": 8,
     "metadata": {},
     "output_type": "execute_result"
    }
   ],
   "source": [
    "spam = [\"a\",\"b\",\"c\", \"d\"]\n",
    "print (\" Result of (int(int('3' * 2) / 11)\",int(int('3' * 2) / 11))\n",
    "spam[int(int('3' * 2) / 11)]"
   ]
  },
  {
   "cell_type": "markdown",
   "id": "ddbea8ac",
   "metadata": {},
   "source": [
    "# 4. What is the value of spam[-1]?"
   ]
  },
  {
   "cell_type": "code",
   "execution_count": 9,
   "id": "26e4e4c9",
   "metadata": {},
   "outputs": [
    {
     "data": {
      "text/plain": [
       "'d'"
      ]
     },
     "execution_count": 9,
     "metadata": {},
     "output_type": "execute_result"
    }
   ],
   "source": [
    "spam[-1]"
   ]
  },
  {
   "cell_type": "markdown",
   "id": "645af3cb",
   "metadata": {},
   "source": [
    "# 5.What is the value of spam[:2]?"
   ]
  },
  {
   "cell_type": "code",
   "execution_count": 10,
   "id": "9b7b694c",
   "metadata": {},
   "outputs": [
    {
     "data": {
      "text/plain": [
       "['a', 'b']"
      ]
     },
     "execution_count": 10,
     "metadata": {},
     "output_type": "execute_result"
    }
   ],
   "source": [
    "spam[:2]"
   ]
  },
  {
   "cell_type": "markdown",
   "id": "5936a357",
   "metadata": {},
   "source": [
    "# Let's pretend bacon has the list [3.14,'cat', 11,'cat, True] for the next three questions.\n",
    "6. What is the value of bacon.index(\"cat\")?\n",
    "7. How does bacon.append(99) change the look of the list value in bacon?\n",
    "8. How does bacon.remove(\"cat\") change the look of the list in bacon?"
   ]
  },
  {
   "cell_type": "markdown",
   "id": "318c9449",
   "metadata": {},
   "source": [
    "# 6. What is the value of bacon.index(\"cat\")?"
   ]
  },
  {
   "cell_type": "code",
   "execution_count": 11,
   "id": "1bd359a2",
   "metadata": {},
   "outputs": [
    {
     "data": {
      "text/plain": [
       "1"
      ]
     },
     "execution_count": 11,
     "metadata": {},
     "output_type": "execute_result"
    }
   ],
   "source": [
    "bacon = [3.14,'cat', 11,'cat',True] \n",
    "bacon.index(\"cat\")  # display first occurence index position   cat element in list .      "
   ]
  },
  {
   "cell_type": "markdown",
   "id": "a4fdf613",
   "metadata": {},
   "source": [
    "\n",
    "# 7.How does bacon.append(99) change the look of the list value in bacon?"
   ]
  },
  {
   "cell_type": "code",
   "execution_count": 12,
   "id": "4b2b14f9",
   "metadata": {},
   "outputs": [
    {
     "name": "stdout",
     "output_type": "stream",
     "text": [
      "[3.14, 'cat', 11, 'cat', True, 99]\n"
     ]
    }
   ],
   "source": [
    "bacon = [3.14,'cat', 11,'cat',True] \n",
    "bacon.append(99) \n",
    "print(bacon)"
   ]
  },
  {
   "cell_type": "markdown",
   "id": "305f8a98",
   "metadata": {},
   "source": [
    "# 8. How does bacon.remove(\"cat\") change the look of the list in bacon?"
   ]
  },
  {
   "cell_type": "code",
   "execution_count": 13,
   "id": "8ca1088a",
   "metadata": {},
   "outputs": [
    {
     "name": "stdout",
     "output_type": "stream",
     "text": [
      "[3.14, 11, 'cat', True]\n"
     ]
    }
   ],
   "source": [
    "bacon = [3.14,'cat', 11,'cat',True] \n",
    "bacon.remove(\"cat\") # it remove first occurence index position   cat element in list .       \n",
    "print(bacon)"
   ]
  },
  {
   "cell_type": "markdown",
   "id": "9932d255",
   "metadata": {},
   "source": [
    "# 9.What are the list concatenation and list replication operators?"
   ]
  },
  {
   "cell_type": "markdown",
   "id": "cdf44e97",
   "metadata": {},
   "source": [
    "We can '+'  operator used as list concatenation and '* ' operator used as replication operators in list."
   ]
  },
  {
   "cell_type": "code",
   "execution_count": 14,
   "id": "01ab6a09",
   "metadata": {},
   "outputs": [
    {
     "data": {
      "text/plain": [
       "[1, 2, 3, 4]"
      ]
     },
     "execution_count": 14,
     "metadata": {},
     "output_type": "execute_result"
    }
   ],
   "source": [
    "list1 =[1,2]\n",
    "list2 =[3,4]\n",
    "list1 + list2"
   ]
  },
  {
   "cell_type": "code",
   "execution_count": 15,
   "id": "73e86b44",
   "metadata": {},
   "outputs": [
    {
     "data": {
      "text/plain": [
       "[4, 5, 6, 4, 5, 6, 4, 5, 6]"
      ]
     },
     "execution_count": 15,
     "metadata": {},
     "output_type": "execute_result"
    }
   ],
   "source": [
    "list3=[4,5,6]\n",
    "list3 *3"
   ]
  },
  {
   "cell_type": "markdown",
   "id": "156874d3",
   "metadata": {},
   "source": [
    "# 10.What is difference between the list methods append() and insert()?"
   ]
  },
  {
   "cell_type": "markdown",
   "id": "dfb83ea1",
   "metadata": {},
   "source": [
    "append() will add values only to the end of a list, insert() can add them anywhere in the list.\n",
    "\n"
   ]
  },
  {
   "cell_type": "markdown",
   "id": "53db9ee0",
   "metadata": {},
   "source": [
    "# 11. What are the two methods for removing items from a list?"
   ]
  },
  {
   "cell_type": "markdown",
   "id": "8b2865bc",
   "metadata": {},
   "source": [
    "The del statement and the remove() list method are two ways to remove values from a list."
   ]
  },
  {
   "cell_type": "markdown",
   "id": "2f469c52",
   "metadata": {},
   "source": [
    "# 12.Describe how list values and string values are identical."
   ]
  },
  {
   "cell_type": "markdown",
   "id": "55dd2d99",
   "metadata": {},
   "source": [
    "Both lists and strings can be passed to len(), have indexes and slices, be used in for loops, be concatenated or replicated, and be used with the in and not in operators."
   ]
  },
  {
   "cell_type": "markdown",
   "id": "e75a525b",
   "metadata": {},
   "source": [
    "# 13.What is the difference between tuples and lists?"
   ]
  },
  {
   "cell_type": "markdown",
   "id": "69d74e47",
   "metadata": {},
   "source": [
    "Lists are mutable; they can have values added, removed, or changed. Tuples are immutable; they cannot be changed at all. Also, tuples are written using parentheses, ( ), while lists use the square brackets, []."
   ]
  },
  {
   "cell_type": "markdown",
   "id": "baa26b37",
   "metadata": {},
   "source": [
    "# 14 . How do you type a tuple value that only contains the integer 42?"
   ]
  },
  {
   "cell_type": "code",
   "execution_count": 16,
   "id": "563ff252",
   "metadata": {},
   "outputs": [],
   "source": [
    "# we can type a tuple value that only contains the integer 42 by comma separator in tuple \n",
    "a=(42,)"
   ]
  },
  {
   "cell_type": "code",
   "execution_count": 17,
   "id": "1f80f7ea",
   "metadata": {},
   "outputs": [
    {
     "name": "stdout",
     "output_type": "stream",
     "text": [
      "<class 'tuple'>\n"
     ]
    }
   ],
   "source": [
    "print(type(a))"
   ]
  },
  {
   "cell_type": "markdown",
   "id": "ed4bdb72",
   "metadata": {},
   "source": [
    "# 15. How do you get a list values tuple form? How do you get a tuple values list form?"
   ]
  },
  {
   "cell_type": "markdown",
   "id": "65b7eb14",
   "metadata": {},
   "source": [
    "we get  a list values tuple form by  The tuple() and  similarly tuple values list form   by the list() functions, respectively\n",
    "\n"
   ]
  },
  {
   "cell_type": "code",
   "execution_count": 19,
   "id": "054e4bcc",
   "metadata": {},
   "outputs": [
    {
     "name": "stdout",
     "output_type": "stream",
     "text": [
      "(1, 2, 3)\n"
     ]
    }
   ],
   "source": [
    "#list to tuple\n",
    "a=[1,2,3]\n",
    "print(tuple(a))"
   ]
  },
  {
   "cell_type": "code",
   "execution_count": 20,
   "id": "2e0b5d46",
   "metadata": {},
   "outputs": [
    {
     "name": "stdout",
     "output_type": "stream",
     "text": [
      "[1, 2, 3]\n"
     ]
    }
   ],
   "source": [
    "# tuple to list\n",
    "a=(1,2,3)\n",
    "print(list(a))"
   ]
  },
  {
   "cell_type": "markdown",
   "id": "65495e93",
   "metadata": {},
   "source": [
    "# 16. Variables that \"contain\" list values are not necessarily lists themselves. Instead, what do they contain ?"
   ]
  },
  {
   "cell_type": "markdown",
   "id": "547fe800",
   "metadata": {},
   "source": [
    "They contain references to list values."
   ]
  },
  {
   "cell_type": "markdown",
   "id": "2d93b3d6",
   "metadata": {},
   "source": [
    "### When  we assign a list to a variable, we are actually assigning a list reference to the variable. A reference is a value that points to some bit of data, and a list reference is a value that points to a list"
   ]
  },
  {
   "cell_type": "code",
   "execution_count": 21,
   "id": "5b0b9419",
   "metadata": {
    "scrolled": true
   },
   "outputs": [
    {
     "name": "stdout",
     "output_type": "stream",
     "text": [
      " List A :  [1, 2, 3]\n",
      " List B :   [1, 2, 3]\n",
      "after changing element in list B   [1, 'hello', 3]\n",
      "after changing element in list B and displaying A's  [1, 'hello', 3]\n"
     ]
    }
   ],
   "source": [
    "# example\n",
    "a=[1,2,3] #stores a reference to a list, not the actual list.\n",
    "b=a # reference in a  is copied to b's reference \n",
    "print(\" List A : \",a)# print list A\n",
    "print(\" List B :  \",b) # print List B\n",
    "b[1] =\"hello\" # altering  B list \n",
    "print(\"after changing element in list B  \", b)\n",
    "print(\"after changing element in list B and displaying A's \",a)\n",
    "# Both A and B are same value therefore They contain references to list values."
   ]
  },
  {
   "cell_type": "markdown",
   "id": "ba485ed9",
   "metadata": {},
   "source": [
    "# 17.How do you distinguish between copy.copy() and copy.deepcopy()?"
   ]
  },
  {
   "cell_type": "markdown",
   "id": "41c9e034",
   "metadata": {},
   "source": [
    "The copy.copy() function will do a shallow copy of a list, while the copy.deepcopy() function will do a deep copy of a list. That is, only copy.deepcopy() will duplicate any lists inside the list.\n",
    "\n"
   ]
  }
 ],
 "metadata": {
  "kernelspec": {
   "display_name": "Python 3 (ipykernel)",
   "language": "python",
   "name": "python3"
  },
  "language_info": {
   "codemirror_mode": {
    "name": "ipython",
    "version": 3
   },
   "file_extension": ".py",
   "mimetype": "text/x-python",
   "name": "python",
   "nbconvert_exporter": "python",
   "pygments_lexer": "ipython3",
   "version": "3.9.12"
  }
 },
 "nbformat": 4,
 "nbformat_minor": 5
}
