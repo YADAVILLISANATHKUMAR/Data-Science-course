{
 "cells": [
  {
   "cell_type": "markdown",
   "metadata": {
    "id": "GT4IytkJMNa-"
   },
   "source": [
    "## Python String Manipulation\n",
    "\n",
    "1. Count the number of times `iNeuron` appears in the string.\n",
    "```python\n",
    "text = \"Welcome to iNeuron, You are a part of FSDS Bootcamp 2 in iNeuron. I hope you are enjoying the course by iNeuron\"\n",
    "```\n",
    "2. Check if position `5` to `11` ends with the phrase `iNeuron.` in the string \n",
    "```python\n",
    "txt = \"Hello, welcome to FSDS 2.0 at iNeuron.\"\n",
    "```\n",
    "3. Write a program that takes your full name as input and displays the abbreviations of the first and middle names except the last name which is displayed as it is. For example, if your name is Sunny Bhaveen Chandra, then the output should be S.B.Chandra.\n",
    "\n",
    "4. Join all items in a list into a string, using a hash(`#`) character as separator:\n",
    "```python\n",
    "LIST = [\"My\", \"name\", \"is\", \"Rishav\", \"Dash\"]\n",
    "```\n",
    "5. Write example for the following string manipulation function,\n",
    "\n",
    "  ```\n",
    "  - isdecimal()\n",
    "  - islower()\n",
    "  - isupper()\n",
    "  - isalpha()\n",
    "  - isnumeric()\n",
    "\n",
    "  ```\n",
    "6. Indian PAN card format follows the following formats - \n",
    "    - `AYEPC7894X`\n",
    "    - `ABCDE9999Y`\n",
    "  Take user input for PAN_CARD and validate as per the above example.\n"
   ]
  },
  {
   "cell_type": "markdown",
   "metadata": {
    "id": "KwVni9gipNi-"
   },
   "source": [
    "# 1.Count the number of times iNeuron appears in the string.\n",
    "\n",
    "### text = \"Welcome to iNeuron, You are a part of FSDS Bootcamp 2 in iNeuron. I hope you are enjoying the course by iNeuron\""
   ]
  },
  {
   "cell_type": "code",
   "execution_count": 4,
   "metadata": {
    "colab": {
     "base_uri": "https://localhost:8080/"
    },
    "id": "MZKEv3w11BXQ",
    "outputId": "286ca6a7-b8f2-4c84-fca7-94e7a52486bd"
   },
   "outputs": [
    {
     "name": "stdout",
     "output_type": "stream",
     "text": [
      "Taken string is : \n",
      "Welcome to iNeuron, You are a part of FSDS Bootcamp 2 in iNeuron. I hope you are enjoying the course by iNeuron\n",
      "\n",
      "the number of times iNeuron appears in the taken  string are 3\n"
     ]
    }
   ],
   "source": [
    "text = \"Welcome to iNeuron, You are a part of FSDS Bootcamp 2 in iNeuron. I hope you are enjoying the course by iNeuron\"\n",
    "print(\"Taken string is : \")\n",
    "print(text)\n",
    "print(\"\")\n",
    "print(\"the number of times iNeuron appears in the taken  string are\",text.count(\"iNeuron\"))"
   ]
  },
  {
   "cell_type": "markdown",
   "metadata": {},
   "source": [
    "# 2. Check if position 5 to 11 ends with the phrase iNeuron. in the string\n",
    "\n",
    "## txt = \"Hello, welcome to FSDS 2.0 at iNeuron.\""
   ]
  },
  {
   "cell_type": "code",
   "execution_count": 17,
   "metadata": {},
   "outputs": [
    {
     "name": "stdout",
     "output_type": "stream",
     "text": [
      "Taken string is :  Hello, welcome to FSDS 2.0 at iNeuron.\n",
      "Output for position 5 to 11 in the string is: , welc\n",
      "position 5 to 11 ends with the phrase iNeuron in the string is: False\n"
     ]
    }
   ],
   "source": [
    "txt = \"Hello, welcome to FSDS 2.0 at iNeuron.\"\n",
    "print(\"Taken string is : \",txt)\n",
    "if (txt[5:11] == \" iNeuron\"):\n",
    "    print(\"Output for position 5 to 11 in the string is:\",txt[5:11]) \n",
    "    print(\"position 5 to 11 ends with the phrase iNeuron in the string is :\",bool(txt[5:11] == \" iNeuron\"))\n",
    "else:\n",
    "    \n",
    "    print(\"Output for position 5 to 11 in the string is:\",txt[5:11]) \n",
    "    print(\"position 5 to 11 ends with the phrase iNeuron in the string is:\",bool(txt[5:11] == \" iNeuron\"))\n",
    "    "
   ]
  },
  {
   "cell_type": "markdown",
   "metadata": {},
   "source": [
    "# Write a program that takes your full name as input and displays the abbreviations of the first and middle names except the last name which is displayed as it is. For example, if your name is Sunny Bhaveen Chandra, then the output should be S.B.Chandra."
   ]
  },
  {
   "cell_type": "code",
   "execution_count": 32,
   "metadata": {},
   "outputs": [
    {
     "name": "stdout",
     "output_type": "stream",
     "text": [
      "Enter your full name :Yadavilli Sanath Kumar\n",
      "Entered full name is: Yadavilli Sanath Kumar\n",
      "Abbreviations of full name is :\n",
      "Y.S.K."
     ]
    }
   ],
   "source": [
    "full_name =input(\"Enter your full name :\")\n",
    "print(\"Entered full name is:\",full_name)\n",
    "b=full_name.split(\" \")\n",
    "print(\"Abbreviations of full name is :\")\n",
    "for i in b:\n",
    "    print(i[0],end=\".\")"
   ]
  },
  {
   "cell_type": "markdown",
   "metadata": {},
   "source": [
    "# 4.Join all items in a list into a string, using a hash(#) character as separator:\n",
    "\n",
    "## LIST = [\"My\", \"name\", \"is\", \"Rishav\", \"Dash\"]\n"
   ]
  },
  {
   "cell_type": "code",
   "execution_count": 39,
   "metadata": {},
   "outputs": [
    {
     "name": "stdout",
     "output_type": "stream",
     "text": [
      "Output for join all items in a list into a string, using a hash(#) character as separator:  My#name#is#Rishav#Dash\n"
     ]
    }
   ],
   "source": [
    "LIST = [\"My\", \"name\", \"is\", \"Rishav\", \"Dash\"]\n",
    "print(\"Output for join all items in a list into a string, using a hash(#) character as separator: \",\"#\".join(LIST)) "
   ]
  },
  {
   "cell_type": "markdown",
   "metadata": {},
   "source": [
    "# 5.Write example for the following string manipulation function,\n",
    "\n",
    "- isdecimal()\n",
    "- islower()\n",
    "- isupper()\n",
    "- isalpha()\n",
    "- isnumeric()"
   ]
  },
  {
   "cell_type": "code",
   "execution_count": 119,
   "metadata": {},
   "outputs": [
    {
     "name": "stdout",
     "output_type": "stream",
     "text": [
      "enter the input to check it have only  decimal values[0 to 10] or not:123456\n",
      "Entered value only have decimal values\n"
     ]
    }
   ],
   "source": [
    "a=input(\"enter the input to check it have only  decimal values[0 to 10] or not:\")\n",
    "if(a.isdecimal()):\n",
    "    print(\"Entered value only have decimal values\")\n",
    "else:\n",
    "     print(\"Entered value does not have only decimal values\")     \n",
    "          \n",
    "    "
   ]
  },
  {
   "cell_type": "code",
   "execution_count": 124,
   "metadata": {},
   "outputs": [
    {
     "name": "stdout",
     "output_type": "stream",
     "text": [
      "enter the input to check wheather it is in lowercase  or not:sanath\n",
      "Entered value only have Lower case character values\n"
     ]
    }
   ],
   "source": [
    "a=input(\"enter the input to check wheather it is in lowercase  or not:\")\n",
    "if(a.islower()):\n",
    "    print(\"Entered value only have Lower case character values\")\n",
    "else:\n",
    "     print(\"Entered value does not have only lower case character values\")     \n",
    "          \n",
    "    "
   ]
  },
  {
   "cell_type": "code",
   "execution_count": 125,
   "metadata": {},
   "outputs": [
    {
     "name": "stdout",
     "output_type": "stream",
     "text": [
      "enter the input to check wheather it is in uppercase or not:SANATH\n",
      "Entered value only have upper case character values\n"
     ]
    }
   ],
   "source": [
    "a=input(\"enter the input to check wheather it is in uppercase or not:\")\n",
    "if(a.isupper()):\n",
    "    print(\"Entered value only have upper case character values\")\n",
    "else:\n",
    "     print(\"Entered value does not have only upper case character values\")     \n",
    "          \n",
    "    "
   ]
  },
  {
   "cell_type": "code",
   "execution_count": 126,
   "metadata": {},
   "outputs": [
    {
     "name": "stdout",
     "output_type": "stream",
     "text": [
      "enter the input to check wheather it have only aplhabets or not:apple\n",
      "Entered value only have alphabet character values\n"
     ]
    }
   ],
   "source": [
    "a=input(\"enter the input to check wheather it have only aplhabets or not:\")\n",
    "if(a.isalpha()):\n",
    "    print(\"Entered value only have alphabet character values\")\n",
    "else:\n",
    "     print(\"Entered value does not have alphabet case character values\")     \n",
    "          \n",
    "\n"
   ]
  },
  {
   "cell_type": "code",
   "execution_count": 127,
   "metadata": {},
   "outputs": [
    {
     "name": "stdout",
     "output_type": "stream",
     "text": [
      "enter the input to check wheather it have only numeric values or not:1234\n",
      "Entered value only have numeric values\n"
     ]
    }
   ],
   "source": [
    "a=input(\"enter the input to check wheather it have only numeric values or not:\")\n",
    "if(a.isnumeric()):\n",
    "    print(\"Entered value only have numeric values\")\n",
    "else:\n",
    "     print(\"Entered value does not have only numeric values\")     \n",
    "          \n",
    "\n",
    "\n"
   ]
  },
  {
   "cell_type": "markdown",
   "metadata": {},
   "source": [
    "# 6.Indian PAN card format follows the following formats -\n",
    "\n",
    "## AYEPC7894X\n",
    "## ABCDE9999Y \n",
    "## Take user input for PAN_CARD and validate as per the above example."
   ]
  },
  {
   "cell_type": "code",
   "execution_count": 109,
   "metadata": {},
   "outputs": [
    {
     "name": "stdout",
     "output_type": "stream",
     "text": [
      "enter the pan card: AYEPC7894X\n",
      "correct format\n"
     ]
    }
   ],
   "source": [
    "\"\"\" NOTE : \n",
    "1.Indian Pan Card have 10 aplanumeric lenght .\n",
    "2.First five characters are string i.e [1 to 5 characters are string],next four charaters are number[6 to 9 characters] and last \n",
    "character is string i.e 10th character is string.\n",
    "\"\"\"\n",
    "indianPANCard =input(\"enter the pan card:\")\n",
    "indianPANCard =indianPANCard.strip()\n",
    "\n",
    "\n",
    "if(len(indianPANCard) == 10):\n",
    "    if(indianPANCard[0:5].isalpha() and indianPANCard[5:9].isnumeric() and indianPANCard[-1::].isalpha()):\n",
    "        print(\"correct format\")\n",
    "    else:\n",
    "        print(\"not correct format\")\n",
    "else:\n",
    "    print(f\"your entered {len(indianPANCard)} aplha numeric character lenght for pancard card validation\")\n",
    "    print(\"please Enter 10 Aplhanumber character lenght for pancard validation \")"
   ]
  },
  {
   "cell_type": "markdown",
   "metadata": {},
   "source": [
    "Both inputs are correct format"
   ]
  }
 ],
 "metadata": {
  "colab": {
   "collapsed_sections": [],
   "provenance": []
  },
  "kernelspec": {
   "display_name": "Python 3 (ipykernel)",
   "language": "python",
   "name": "python3"
  },
  "language_info": {
   "codemirror_mode": {
    "name": "ipython",
    "version": 3
   },
   "file_extension": ".py",
   "mimetype": "text/x-python",
   "name": "python",
   "nbconvert_exporter": "python",
   "pygments_lexer": "ipython3",
   "version": "3.9.12"
  }
 },
 "nbformat": 4,
 "nbformat_minor": 1
}
