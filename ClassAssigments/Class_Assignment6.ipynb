{
 "cells": [
  {
   "cell_type": "markdown",
   "id": "2b3a0d6b",
   "metadata": {},
   "source": [
    "# 1. write a function which will try to find out len of a string without using an inbuilt len function "
   ]
  },
  {
   "cell_type": "code",
   "execution_count": 27,
   "id": "43b32985",
   "metadata": {},
   "outputs": [
    {
     "name": "stdout",
     "output_type": "stream",
     "text": [
      "Enter the string to find its lenght:H\n",
      "the lenght of H is 1\n"
     ]
    }
   ],
   "source": [
    "def lenOfString(s):\n",
    "    l=0\n",
    "    for i in s:\n",
    "        if(type(s) == str):\n",
    "            l=l+1\n",
    "    if not s:\n",
    "        print(\"String is empty\") \n",
    "    else:    \n",
    "        print(f\"the lenght of {s} is {l}\")  \n",
    "s= input(\"Enter the string to find its lenght:\")\n",
    "lenOfString(s)"
   ]
  },
  {
   "cell_type": "markdown",
   "id": "3f96f159",
   "metadata": {},
   "source": [
    "# 2. write a function which  will be able to print an index of list element without using an index function"
   ]
  },
  {
   "cell_type": "code",
   "execution_count": 34,
   "id": "eb1c1dbc",
   "metadata": {},
   "outputs": [
    {
     "name": "stdout",
     "output_type": "stream",
     "text": [
      "elements in list : [1, 2, 3, 4]\n",
      "enter the element to find it's position  in list:1\n",
      "element 1 present at position [0] in list\n"
     ]
    }
   ],
   "source": [
    "def displayList(l,ele):\n",
    "    if(ele  in l):\n",
    "        print(f\"element {ele} present at position {[i for i in range(len(l)) if l[i]== ele]} in list\")\n",
    "    else:\n",
    "        print(\"element not in list\")\n",
    "l=[1,2,3,4]\n",
    "print(\"elements in list :\",l)\n",
    "ele= int(input(\"enter the element to find it's position  in list:\"))\n",
    "displayList(l,ele)   "
   ]
  },
  {
   "cell_type": "markdown",
   "id": "9d36aa01",
   "metadata": {},
   "source": [
    "# 3. write a function which will be able to print an ip address of your system\n"
   ]
  },
  {
   "cell_type": "code",
   "execution_count": 37,
   "id": "eb7a1b32",
   "metadata": {},
   "outputs": [
    {
     "name": "stdout",
     "output_type": "stream",
     "text": [
      "IP Address: 192.168.29.183\n"
     ]
    }
   ],
   "source": [
    "import socket\n",
    "# getting the hostname by socket.gethostname() method\n",
    "hostname = socket.gethostname()\n",
    "#getting the IP address using socket.gethostbyname() method\n",
    "ip_address = socket.gethostbyname(hostname)\n",
    "# printing the hostname and ip_address\n",
    "#print(f\"Hostname: {hostname}\")\n",
    "print(f\"IP Address: {ip_address}\")"
   ]
  },
  {
   "cell_type": "markdown",
   "id": "90120c3e",
   "metadata": {},
   "source": [
    "# 4. write a function which will shutdown your system"
   ]
  },
  {
   "cell_type": "code",
   "execution_count": 38,
   "id": "7ab624f3",
   "metadata": {},
   "outputs": [
    {
     "name": "stdout",
     "output_type": "stream",
     "text": [
      "Do you wish to shutdown your computer ? (yes / no): no\n"
     ]
    }
   ],
   "source": [
    "import os\n",
    "  \n",
    "shutdown = input(\"Do you wish to shutdown your computer ? (yes / no): \")\n",
    "  \n",
    "if shutdown == 'no' or shutdown == 'n':\n",
    "    exit()\n",
    "else:\n",
    "    os.system(\"shutdown /s /t 1\")"
   ]
  },
  {
   "cell_type": "markdown",
   "id": "7d11f552",
   "metadata": {},
   "source": [
    "# 5. write a function which will take input as a list with any kind of numeric value and give an out as a multiplication of \n",
    "## all the numeric data l = [3.5, 6.56, 4,5,\"sudh\" , \"ineuron\" , 'fsda bootcamp 2.0']"
   ]
  },
  {
   "cell_type": "code",
   "execution_count": 6,
   "id": "b644945b",
   "metadata": {},
   "outputs": [
    {
     "name": "stdout",
     "output_type": "stream",
     "text": [
      "Elements in list are [3.5, 6.56, 4, 5, 'sudh', 'ineuron', 'fsda bootcamp 2.0']\n",
      "numeric values in list are [3.5, 6.56, 4, 5] \n",
      "multilpication of all number value in list is 459.19999999999993 \n"
     ]
    }
   ],
   "source": [
    "def MultinumInList(l1):\n",
    "    m=1\n",
    "    l2=[]\n",
    "    for i in l1: \n",
    "        if type(i) == int or type(i) == float:\n",
    "            m=m *i\n",
    "            l2.append(i)\n",
    "    print(f\"Elements in list are {l}\")        \n",
    "    print(f\"numeric values in list are {l2} \")    \n",
    "    print(f\"multilpication of all number value in list is {m} \")  \n",
    "l = [3.5, 6.56, 4,5,\"sudh\" , \"ineuron\" , 'fsda bootcamp 2.0']\n",
    "MultinumInList(l)   "
   ]
  },
  {
   "cell_type": "markdown",
   "id": "b8ff1c35",
   "metadata": {},
   "source": [
    "# 6. write a function which will be able to read all the mails "
   ]
  },
  {
   "cell_type": "code",
   "execution_count": 8,
   "id": "0d5ff8d9",
   "metadata": {},
   "outputs": [
    {
     "name": "stdout",
     "output_type": "stream",
     "text": [
      "From : \"Udemy Instructor: Supriyo Kundu\" <no-reply@e.udemymail.com>\n",
      "\n",
      "From : \"iNeuron.ai\" <contact@ineuron.ai>\n",
      "\n",
      "From : \"iNeuron.ai\" <contact@ineuron.ai>\n",
      "\n",
      "From : Udemy <hello@students.udemy.com>\n",
      "\n",
      "From : Mary <mary@astromary.com>\n",
      "\n",
      "From : Internshala Trainings <trainings@updates.internshala.com>\n",
      "\n",
      "From : Google <no-reply@accounts.google.com>\n",
      "\n",
      "From : LinkedIn Job Alerts <jobalerts-noreply@linkedin.com>\n",
      "\n",
      "From : Angel One <connect@angelbroking.in>\n",
      "\n",
      "From : HR-iamneo <kalkicoder@iamneo.ai>\n",
      "\n",
      "From : \"PSITRON\" <noreply@event.eventbrite.com>\n",
      "\n",
      "From : Google <no-reply@accounts.google.com>\n",
      "\n",
      "From : \"Apollo24l7\" <update@info.apollo247.in>\n",
      "\n",
      "From : \"PSITRON\" <noreply@event.eventbrite.com>\n",
      "\n",
      "From : Google <no-reply@accounts.google.com>\n",
      "\n",
      "From : Google <no-reply@accounts.google.com>\n",
      "\n",
      "From : Google <no-reply@accounts.google.com>\n",
      "\n",
      "From : Google <no-reply@accounts.google.com>\n",
      "\n",
      "From : Google <noreply@google.com>\n",
      "\n",
      "From : \"Apollo24l7\" <update@info.apollo247.in>\n",
      "\n",
      "From : Google <no-reply@accounts.google.com>\n",
      "\n",
      "From : LinkedIn Job Alerts <jobalerts-noreply@linkedin.com>\n",
      "\n",
      "From : nse_alerts <nse_alerts@nse.co.in>\n",
      "\n",
      "From : REGex Software <rajbir.singh@regexsoftware.com>\n",
      "\n",
      "From : \"Udemy Instructor: Learn Tech Plus\" <no-reply@e.udemymail.com>\n",
      "\n",
      "From : EC-Council | CodeRed <coderedinfo@eccouncil.org>\n",
      "\n",
      "From : LinkedIn Job Alerts <jobalerts-noreply@linkedin.com>\n",
      "\n",
      "From : Team HR <jobs@jobsalert.shine.com>\n",
      "\n",
      "From : \"Apollo24l7\" <update@promos.apollo247.com>\n",
      "\n",
      "From : \"Coding Ninjas\" <alerts@courses.codingninjas.com>\n",
      "\n",
      "From : \"Coding Ninjas\" <alerts@courses.codingninjas.com>\n",
      "\n",
      "From : Artistic Art Forum Pvt Ltd - Client of Shine.com\n",
      " <recruiters@alerts.shine.com>\n",
      "\n",
      "From : LinkedIn Job Alerts <jobalerts-noreply@linkedin.com>\n",
      "\n",
      "From : LinkedIn Job Alerts <jobalerts-noreply@linkedin.com>\n",
      "\n",
      "From : LinkedIn Job Alerts <jobalerts-noreply@linkedin.com>\n",
      "\n",
      "From : LinkedIn Job Alerts <jobalerts-noreply@linkedin.com>\n",
      "\n",
      "From : Elearnmarkets <info@elearnmarkets.com>\n",
      "\n",
      "From : \"Career Camp Professionals\" <hello@ccpro.codingninjas.com>\n",
      "\n",
      "From : Swiggy Instamart <alerts@updates.swiggy.in>\n",
      "\n",
      "From : Myntra <updates@myntra.com>\n",
      "\n",
      "From : Angel One <connect@angelbroking.in>\n",
      "\n",
      "From : Naukri <info@naukri.com>\n",
      "\n",
      "From : \"Neha at Edureka\" <neha@edureka.co>\n",
      "\n",
      "From : HDFC Bank <informations@hdfcbank.net>\n",
      "\n",
      "From : =?utf-8?Q?Chegg=20India?= <expertaccountinfo@chegg.com>\n",
      "\n",
      "From : Eduonix <noreply@eduonix.com>\n",
      "\n",
      "From : EducationUSA Hyderabad Center <usiefhyderabad@usief.org.in>\n",
      "\n",
      "From : LinkedIn Job Alerts <jobalerts-noreply@linkedin.com>\n",
      "\n",
      "From : GitHub <noreply@github.com>\n",
      "\n",
      "From : Team KodNest <hello@kodnest.com>\n",
      "\n",
      "From : Suraj Ghimire <admin@onlinelearningcenter.in>\n",
      "\n",
      "'utf-8' codec can't decode byte 0xa0 in position 8459: invalid start byte\n"
     ]
    },
    {
     "name": "stderr",
     "output_type": "stream",
     "text": [
      "Traceback (most recent call last):\n",
      "  File \"C:\\Users\\ACER\\AppData\\Local\\Temp\\ipykernel_11960\\3953942012.py\", line 29, in read_email_from_gmail\n",
      "    msg = email.message_from_string(str(arr[1],'utf-8'))\n",
      "UnicodeDecodeError: 'utf-8' codec can't decode byte 0xa0 in position 8459: invalid start byte\n"
     ]
    }
   ],
   "source": [
    "import smtplib\n",
    "import time\n",
    "import imaplib\n",
    "import email\n",
    "import traceback \n",
    "\n",
    "FROM_EMAIL = \"ysanathkumar@gmail.com\"\n",
    "FROM_PWD = \"ctagfgsltpfxxaha\" \n",
    "SMTP_SERVER = \"imap.gmail.com\" \n",
    "SMTP_PORT = 993\n",
    "\n",
    "def read_email_from_gmail():\n",
    "    try:\n",
    "        mail = imaplib.IMAP4_SSL(SMTP_SERVER)\n",
    "        mail.login(FROM_EMAIL,FROM_PWD)\n",
    "        mail.select('inbox')\n",
    "\n",
    "        data = mail.search(None, 'ALL')\n",
    "        mail_ids = data[1]\n",
    "        id_list = mail_ids[0].split()   \n",
    "        first_email_id = int(id_list[0])\n",
    "        latest_email_id = int(id_list[-1])\n",
    "\n",
    "        for i in range(latest_email_id,first_email_id, -1):\n",
    "            data = mail.fetch(str(i), '(RFC822)' )\n",
    "            for response_part in data:\n",
    "                arr = response_part[0]\n",
    "                if isinstance(arr, tuple):\n",
    "                    msg = email.message_from_string(str(arr[1],'utf-8'))\n",
    "                    email_subject = msg['subject']\n",
    "                    email_from = msg['from']\n",
    "                    print('From : ' + email_from + '\\n')\n",
    "                    #print('Subject : ' + email_subject + '\\n')\n",
    "\n",
    "    except Exception as e:\n",
    "        traceback.print_exc() \n",
    "        print(str(e))\n",
    "\n",
    "read_email_from_gmail()"
   ]
  },
  {
   "cell_type": "markdown",
   "id": "e392d9f6",
   "metadata": {},
   "source": [
    "# 7 . write a function which will be able to send a mail to anyone "
   ]
  },
  {
   "cell_type": "code",
   "execution_count": 10,
   "id": "4a953b04",
   "metadata": {},
   "outputs": [
    {
     "name": "stdout",
     "output_type": "stream",
     "text": [
      "Email sent .....\n"
     ]
    }
   ],
   "source": [
    "import smtplib\n",
    "smtp_object =smtplib.SMTP('smtp.gmail.com',587)\n",
    "smtp_object.starttls()\n",
    "# login to from email where we sending email to recevier's email \n",
    "email ='ysanathkumar@gmail.com'\n",
    "password ='ctagfgsltpfxxaha'\n",
    "smtp_object.login(email,password)\n",
    "from_address ='ysanathkumar@gmail.com'\n",
    "to_address ='16hp1a05b2@gmail.com'\n",
    "subject =\"hi \"\n",
    "message =\"Hello this message from python code test \"\n",
    "msg =\"subject:\"+subject+'\\n'+message\n",
    "smtp_object.sendmail(from_address,to_address,msg)\n",
    "print(\"Email sent .....\")\n",
    "#smtp_object.quit()"
   ]
  },
  {
   "cell_type": "markdown",
   "id": "f82afcd8",
   "metadata": {},
   "source": [
    "# 8. write a function which will be able to read a doc/word file from your system \n"
   ]
  },
  {
   "cell_type": "code",
   "execution_count": 67,
   "id": "57869ff1",
   "metadata": {},
   "outputs": [
    {
     "name": "stdout",
     "output_type": "stream",
     "text": [
      "Collecting python-docx\n",
      "  Downloading python-docx-0.8.11.tar.gz (5.6 MB)\n",
      "Requirement already satisfied: lxml>=2.3.2 in c:\\users\\acer\\anaconda3\\lib\\site-packages (from python-docx) (4.8.0)\n",
      "Building wheels for collected packages: python-docx\n",
      "  Building wheel for python-docx (setup.py): started\n",
      "  Building wheel for python-docx (setup.py): finished with status 'done'\n",
      "  Created wheel for python-docx: filename=python_docx-0.8.11-py3-none-any.whl size=184507 sha256=e6a0dc46a29172770fffbdb7fcdb083e425a7d75336008e228a81d736b28b974\n",
      "  Stored in directory: c:\\users\\acer\\appdata\\local\\pip\\cache\\wheels\\83\\8b\\7c\\09ae60c42c7ba4ed2dddaf2b8b9186cb105255856d6ed3dba5\n",
      "Successfully built python-docx\n",
      "Installing collected packages: python-docx\n",
      "Successfully installed python-docx-0.8.11\n",
      "Note: you may need to restart the kernel to use updated packages.\n"
     ]
    }
   ],
   "source": [
    "pip install python-docx\n"
   ]
  },
  {
   "cell_type": "code",
   "execution_count": 72,
   "id": "897f877a",
   "metadata": {},
   "outputs": [
    {
     "name": "stdout",
     "output_type": "stream",
     "text": [
      "Hi \n",
      "Hill\n",
      "Hello\n",
      "\n"
     ]
    }
   ],
   "source": [
    "import docx\n",
    "from docx import Document\n",
    "doc = Document('E:/New folder/f1.docx')\n",
    "for p in doc.paragraphs:\n",
    "    print(p.text)"
   ]
  },
  {
   "cell_type": "code",
   "execution_count": null,
   "id": "8b7695db",
   "metadata": {},
   "outputs": [],
   "source": []
  },
  {
   "cell_type": "code",
   "execution_count": null,
   "id": "4c89919e",
   "metadata": {},
   "outputs": [],
   "source": []
  }
 ],
 "metadata": {
  "kernelspec": {
   "display_name": "Python 3 (ipykernel)",
   "language": "python",
   "name": "python3"
  },
  "language_info": {
   "codemirror_mode": {
    "name": "ipython",
    "version": 3
   },
   "file_extension": ".py",
   "mimetype": "text/x-python",
   "name": "python",
   "nbconvert_exporter": "python",
   "pygments_lexer": "ipython3",
   "version": "3.9.12"
  }
 },
 "nbformat": 4,
 "nbformat_minor": 5
}
