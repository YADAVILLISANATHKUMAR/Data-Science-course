{
 "cells": [
  {
   "cell_type": "markdown",
   "id": "54bd26dc",
   "metadata": {},
   "source": [
    "# 1. Write a Python program to find words which are greater than given length k?"
   ]
  },
  {
   "cell_type": "code",
   "execution_count": 3,
   "id": "c0ff4a7d",
   "metadata": {},
   "outputs": [
    {
     "name": "stdout",
     "output_type": "stream",
     "text": [
      "hi hello how are you\n",
      "3\n",
      "['hello', 'how', 'are', 'you']\n"
     ]
    }
   ],
   "source": [
    "list1= input().split(\" \")\n",
    "l=int(input())\n",
    "g=[]\n",
    "for i in list1:\n",
    "    if(len(i) >= l):\n",
    "        g.append(i)\n",
    "print(g)        \n",
    "        "
   ]
  },
  {
   "cell_type": "code",
   "execution_count": 2,
   "id": "bb493737",
   "metadata": {},
   "outputs": [
    {
     "data": {
      "text/plain": [
       "['hi', 'hello', 'how', 'are', 'you']"
      ]
     },
     "execution_count": 2,
     "metadata": {},
     "output_type": "execute_result"
    }
   ],
   "source": [
    "list1"
   ]
  },
  {
   "cell_type": "markdown",
   "id": "3d44571e",
   "metadata": {},
   "source": [
    "# 2. Write a Python program for removing i-th character from a string?"
   ]
  },
  {
   "cell_type": "code",
   "execution_count": 5,
   "id": "f01508b9",
   "metadata": {},
   "outputs": [
    {
     "name": "stdout",
     "output_type": "stream",
     "text": [
      "sanath\n",
      "1\n",
      "snath\n"
     ]
    }
   ],
   "source": [
    "s=input()\n",
    "s1=\"\"\n",
    "l=int(input())\n",
    "for i in range(len(s)):\n",
    "    if(i == l):\n",
    "        continue\n",
    "    else:\n",
    "        s1=s1+s[i]\n",
    "print(s1)   "
   ]
  },
  {
   "cell_type": "markdown",
   "id": "f91ce0ca",
   "metadata": {},
   "source": [
    "# 3. Write a Python program to split and join a string?"
   ]
  },
  {
   "cell_type": "code",
   "execution_count": 11,
   "id": "8847202a",
   "metadata": {},
   "outputs": [
    {
     "name": "stdout",
     "output_type": "stream",
     "text": [
      "my name is sanath\n",
      "['my', 'name', 'is', 'sanath']\n",
      "my name is sanath\n"
     ]
    }
   ],
   "source": [
    "s=input()\n",
    "s1=s.split()\n",
    "s2=\" \".join(s1)\n",
    "print(s1)\n",
    "print(s2)\n"
   ]
  },
  {
   "cell_type": "markdown",
   "id": "63109fb8",
   "metadata": {},
   "source": [
    "# 4. Write a Python to check if a given string is binary string or not?"
   ]
  },
  {
   "cell_type": "code",
   "execution_count": 21,
   "id": "b5aebab3",
   "metadata": {},
   "outputs": [
    {
     "name": "stdout",
     "output_type": "stream",
     "text": [
      "11234567\n",
      "not a binary string \n"
     ]
    }
   ],
   "source": [
    "s=input()\n",
    "b='01'\n",
    "for i in s:  \n",
    "    if(i not in b):\n",
    "        print(\"not a binary string \")\n",
    "        break\n",
    "else:\n",
    "    print(\"binary string\")\n",
    "    \n",
    "           "
   ]
  },
  {
   "cell_type": "markdown",
   "id": "00a2ef1c",
   "metadata": {},
   "source": [
    "# 5. Write a Python program to find uncommon words from two Strings?"
   ]
  },
  {
   "cell_type": "code",
   "execution_count": 23,
   "id": "9cec3e4f",
   "metadata": {},
   "outputs": [
    {
     "name": "stdout",
     "output_type": "stream",
     "text": [
      "sanath\n",
      "kumar\n",
      "['s', 'n', 't', 'h', 'k', 'u', 'm', 'r']\n"
     ]
    }
   ],
   "source": [
    "s1=input()\n",
    "s2=input()\n",
    "l1=[]\n",
    "for i in s1:\n",
    "    if(i not in s2 and i not in l1):\n",
    "        l1.append(i)\n",
    "for j in s2:\n",
    "    if(j not in s1 and j not in l1):\n",
    "        l1.append(j)\n",
    "print(l1)       "
   ]
  },
  {
   "cell_type": "markdown",
   "id": "1a6a9e60",
   "metadata": {},
   "source": [
    "# 6. Write a Python to find all duplicate characters in string?"
   ]
  },
  {
   "cell_type": "code",
   "execution_count": 25,
   "id": "4be28951",
   "metadata": {},
   "outputs": [
    {
     "name": "stdout",
     "output_type": "stream",
     "text": [
      "sanath\n",
      "['a']\n"
     ]
    }
   ],
   "source": [
    "s1=input()\n",
    "l=[]\n",
    "for i in s1:\n",
    "    if(s1.count(i) >=2 and i not in l):\n",
    "        l.append(i)\n",
    "print(l)        "
   ]
  },
  {
   "cell_type": "markdown",
   "id": "548c9fb5",
   "metadata": {},
   "source": [
    "# 7. Write a Python Program to check if a string contains any special character?"
   ]
  },
  {
   "cell_type": "code",
   "execution_count": 36,
   "id": "82577474",
   "metadata": {},
   "outputs": [
    {
     "name": "stdout",
     "output_type": "stream",
     "text": [
      "1234567890!@#$^&*\n",
      " string  contains any special character \n"
     ]
    }
   ],
   "source": [
    "s=input()\n",
    "b=\"!@#$%^&*()_+\\|\\'\\\":;<>?/ \"\n",
    "for i in s:  \n",
    "    if(i in b):\n",
    "        print(\" string  contains any special character \")\n",
    "        break\n",
    "else:\n",
    "    print(\"string not contains special character\")\n",
    "    \n",
    "           "
   ]
  },
  {
   "cell_type": "code",
   "execution_count": null,
   "id": "8b879b4b",
   "metadata": {},
   "outputs": [],
   "source": []
  },
  {
   "cell_type": "code",
   "execution_count": null,
   "id": "4265ff9c",
   "metadata": {},
   "outputs": [],
   "source": []
  }
 ],
 "metadata": {
  "kernelspec": {
   "display_name": "Python 3 (ipykernel)",
   "language": "python",
   "name": "python3"
  },
  "language_info": {
   "codemirror_mode": {
    "name": "ipython",
    "version": 3
   },
   "file_extension": ".py",
   "mimetype": "text/x-python",
   "name": "python",
   "nbconvert_exporter": "python",
   "pygments_lexer": "ipython3",
   "version": "3.9.12"
  }
 },
 "nbformat": 4,
 "nbformat_minor": 5
}
