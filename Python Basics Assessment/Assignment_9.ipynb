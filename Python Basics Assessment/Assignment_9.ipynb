{
 "cells": [
  {
   "cell_type": "markdown",
   "id": "0ad6c9fc",
   "metadata": {},
   "source": [
    "# 1.To what does a relative path refer?"
   ]
  },
  {
   "cell_type": "markdown",
   "id": "2aab11d2",
   "metadata": {},
   "source": [
    "Relative paths are relative to the current working directory. If we use a relative file path from the wrong directory, then the path will refer to a different file than we intend, or it will refer to no file at all.\n",
    "\n"
   ]
  },
  {
   "cell_type": "markdown",
   "id": "c196541c",
   "metadata": {},
   "source": [
    "# 2. What does an absolute path start with your operating system?"
   ]
  },
  {
   "cell_type": "markdown",
   "id": "5f299ea8",
   "metadata": {},
   "source": [
    "Absolute paths start with the root folder, such as / or C:\\.\n",
    "\n"
   ]
  },
  {
   "cell_type": "markdown",
   "id": "a24a830b",
   "metadata": {},
   "source": [
    "# 3. What do the functions os.getcwd() and os.chdir() do?"
   ]
  },
  {
   "cell_type": "markdown",
   "id": "04805c24",
   "metadata": {},
   "source": [
    "The os.getcwd() function returns the current working directory. The os.chdir() function changes the current working directory"
   ]
  },
  {
   "cell_type": "code",
   "execution_count": 2,
   "id": "e94f3321",
   "metadata": {},
   "outputs": [
    {
     "data": {
      "text/plain": [
       "'C:\\\\Users\\\\ACER\\\\Data Science Course assignments\\\\python Basic Assignments'"
      ]
     },
     "execution_count": 2,
     "metadata": {},
     "output_type": "execute_result"
    }
   ],
   "source": [
    "import os\n",
    "os.getcwd()"
   ]
  },
  {
   "cell_type": "markdown",
   "id": "319bd08f",
   "metadata": {},
   "source": [
    "# 4. What are the . and .. folders?"
   ]
  },
  {
   "cell_type": "markdown",
   "id": "41cee12b",
   "metadata": {},
   "source": [
    "The . folder is the current folder, and .. is the parent folder\n",
    "\n"
   ]
  },
  {
   "cell_type": "markdown",
   "id": "9d86ef04",
   "metadata": {},
   "source": [
    "# 5. In C:\\bacon\\eggs\\spam.txt, which part is the dir name, and which part is the base name?"
   ]
  },
  {
   "cell_type": "markdown",
   "id": "0d369833",
   "metadata": {},
   "source": [
    " C:\\bacon\\eggs is the dir name, while spam.txt is the base name.\n",
    "\n"
   ]
  },
  {
   "cell_type": "markdown",
   "id": "c2b08a14",
   "metadata": {},
   "source": [
    "# 6. What are the three “mode” arguments that can be passed to the open() function?"
   ]
  },
  {
   "cell_type": "markdown",
   "id": "624af4e8",
   "metadata": {},
   "source": [
    "The string 'r' for read mode, 'w' for write mode, and 'a' for append mode  arguments that can be passed to the open() function\n",
    "\n"
   ]
  },
  {
   "cell_type": "markdown",
   "id": "f8a2f2b7",
   "metadata": {},
   "source": [
    "# 7. What happens if an existing file is opened in write mode?"
   ]
  },
  {
   "cell_type": "markdown",
   "id": "20694c8e",
   "metadata": {},
   "source": [
    " An existing file opened in write mode is erased and completely overwritten the file."
   ]
  },
  {
   "cell_type": "markdown",
   "id": "7a31ab17",
   "metadata": {},
   "source": [
    "# 8. How do you tell the difference between read() and readlines()?\n"
   ]
  },
  {
   "cell_type": "markdown",
   "id": "92321274",
   "metadata": {},
   "source": [
    "The read() method returns the file’s entire contents as a single string value. The readlines() method returns a list of strings, where each string is a line from the file’s contents.\n",
    "\n"
   ]
  },
  {
   "cell_type": "markdown",
   "id": "0e2adef1",
   "metadata": {},
   "source": [
    "# 9. What data structure does a shelf value resemble?"
   ]
  },
  {
   "cell_type": "markdown",
   "id": "3aee14b4",
   "metadata": {},
   "source": [
    "A shelf value resembles a dictionary value; it has keys and values, along with keys() and values() methods that work similarly to the dictionary methods of the same names .\n",
    "\n"
   ]
  }
 ],
 "metadata": {
  "kernelspec": {
   "display_name": "Python 3 (ipykernel)",
   "language": "python",
   "name": "python3"
  },
  "language_info": {
   "codemirror_mode": {
    "name": "ipython",
    "version": 3
   },
   "file_extension": ".py",
   "mimetype": "text/x-python",
   "name": "python",
   "nbconvert_exporter": "python",
   "pygments_lexer": "ipython3",
   "version": "3.9.12"
  }
 },
 "nbformat": 4,
 "nbformat_minor": 5
}
