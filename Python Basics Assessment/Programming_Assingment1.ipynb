{
 "cells": [
  {
   "cell_type": "markdown",
   "id": "3f0c5b5e",
   "metadata": {},
   "source": [
    "# 1.Write a Python program to print \"Hello Python\"?"
   ]
  },
  {
   "cell_type": "code",
   "execution_count": 1,
   "id": "69b88209",
   "metadata": {},
   "outputs": [
    {
     "name": "stdout",
     "output_type": "stream",
     "text": [
      "Hello Python\n"
     ]
    }
   ],
   "source": [
    "print(\"Hello Python\")\n"
   ]
  },
  {
   "cell_type": "markdown",
   "id": "e358a24a",
   "metadata": {},
   "source": [
    "# 2. Write a Python program to do arithmetical operations addition and division.?"
   ]
  },
  {
   "cell_type": "code",
   "execution_count": 6,
   "id": "aef2171f",
   "metadata": {},
   "outputs": [
    {
     "name": "stdout",
     "output_type": "stream",
     "text": [
      "Enter the Fisrt number:5\n",
      "Enter the Second number:5\n",
      "Addition of 5.0 and 5.0 : 10.0\n",
      "Division of 5.0 and 5.0 : 1.0\n"
     ]
    }
   ],
   "source": [
    "num1 = float(input(\"Enter the Fisrt number:\"))\n",
    "num2 = float(input(\"Enter the Second number:\"))\n",
    "print(f\"Addition of {num1} and {num2} :\",num1+num2)\n",
    "print(f\"Division of {num1} and {num2} :\",num1/num2)\n"
   ]
  },
  {
   "cell_type": "markdown",
   "id": "881b2ebf",
   "metadata": {},
   "source": [
    "# 3.Write a Python program to find the area of a triangle?"
   ]
  },
  {
   "cell_type": "code",
   "execution_count": 9,
   "id": "7d80f17c",
   "metadata": {},
   "outputs": [
    {
     "name": "stdout",
     "output_type": "stream",
     "text": [
      "Enter the base of triangle :5\n",
      "Enter the Height of triangle :5\n",
      "Area of Triangle :  12.5\n"
     ]
    }
   ],
   "source": [
    "# formula of area of triangle is  (base * height)/2\n",
    "base = float(input(\"Enter the base of triangle :\"))\n",
    "height =float(input(\"Enter the Height of triangle :\"))\n",
    "AreaOfTriangle = (base * height)/2\n",
    "print(\"Area of Triangle : \",AreaOfTriangle)"
   ]
  },
  {
   "cell_type": "markdown",
   "id": "e2e11d7a",
   "metadata": {},
   "source": [
    "# 4.Write a Python program to swap two variables?"
   ]
  },
  {
   "cell_type": "code",
   "execution_count": 10,
   "id": "384c2f20",
   "metadata": {},
   "outputs": [
    {
     "name": "stdout",
     "output_type": "stream",
     "text": [
      "enter the First number :4\n",
      "enter the Second number :5\n",
      "Before Swapping Of two Numbers:\n",
      "4 5\n",
      "After Swapping Of two Numbers:\n",
      "5 4\n"
     ]
    }
   ],
   "source": [
    "A = int(input(\"enter the First number :\"))\n",
    "B = int(input(\"enter the Second number :\"))\n",
    "print(\"Before Swapping Of two Numbers:\")\n",
    "print(A,B)\n",
    "A =A+B \n",
    "B =A-B\n",
    "A=A-B\n",
    "print(\"After Swapping Of two Numbers:\")\n",
    "print(A,B)\n"
   ]
  },
  {
   "cell_type": "markdown",
   "id": "ed1bb23b",
   "metadata": {},
   "source": [
    "# 5. Write a Python program to generate a random number?"
   ]
  },
  {
   "cell_type": "code",
   "execution_count": 18,
   "id": "9931a3e5",
   "metadata": {},
   "outputs": [
    {
     "name": "stdout",
     "output_type": "stream",
     "text": [
      "0.8613683754234377\n"
     ]
    }
   ],
   "source": [
    "import random\n",
    "randonNaumber = random.random()\n",
    "print(randonNumber)"
   ]
  },
  {
   "cell_type": "code",
   "execution_count": 19,
   "id": "94527a20",
   "metadata": {},
   "outputs": [
    {
     "name": "stdout",
     "output_type": "stream",
     "text": [
      "307\n"
     ]
    }
   ],
   "source": [
    "# generating random number between 0 to 500\n",
    "import random  \n",
    "number = random.randint(0,500)  \n",
    "print(number)  \n"
   ]
  },
  {
   "cell_type": "code",
   "execution_count": null,
   "id": "4e98efae",
   "metadata": {},
   "outputs": [],
   "source": []
  },
  {
   "cell_type": "code",
   "execution_count": null,
   "id": "162a514a",
   "metadata": {},
   "outputs": [],
   "source": []
  },
  {
   "cell_type": "code",
   "execution_count": null,
   "id": "48b05823",
   "metadata": {},
   "outputs": [],
   "source": []
  }
 ],
 "metadata": {
  "kernelspec": {
   "display_name": "Python 3 (ipykernel)",
   "language": "python",
   "name": "python3"
  },
  "language_info": {
   "codemirror_mode": {
    "name": "ipython",
    "version": 3
   },
   "file_extension": ".py",
   "mimetype": "text/x-python",
   "name": "python",
   "nbconvert_exporter": "python",
   "pygments_lexer": "ipython3",
   "version": "3.9.12"
  }
 },
 "nbformat": 4,
 "nbformat_minor": 5
}
