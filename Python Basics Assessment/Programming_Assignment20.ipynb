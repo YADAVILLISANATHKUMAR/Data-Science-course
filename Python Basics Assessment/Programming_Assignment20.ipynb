{
 "cells": [
  {
   "cell_type": "markdown",
   "id": "630b5c41",
   "metadata": {},
   "source": [
    "# 1.\n",
    "##  Create a function that takes a list of strings and integers, and filters out the list so that it returns a list of integers only.\n",
    "## Examples\n",
    "## filter_list([1, 2, 3, 'a', 'b', 4]) ➞ [1, 2, 3, 4]\n",
    "## filter_list(['A', 0, 'Edabit', 1729, 'Python', '1729']) ➞ [0, 1729]\n",
    "## filter_list(['Nothing', 'here']) ➞ []\n"
   ]
  },
  {
   "cell_type": "code",
   "execution_count": 3,
   "id": "6275554f",
   "metadata": {},
   "outputs": [
    {
     "data": {
      "text/plain": [
       "[1, 2, 3, 4]"
      ]
     },
     "execution_count": 3,
     "metadata": {},
     "output_type": "execute_result"
    }
   ],
   "source": [
    "\n",
    "def filter_list(lst):\n",
    "    intLst = []\n",
    "    for i in lst:\n",
    "        if type(i) == int:\n",
    "            intLst.append(i)\n",
    "    return intLst \n",
    "lst = [1, 2, 3, 'a', 'b', 4]\n",
    "filter_list(lst)"
   ]
  },
  {
   "cell_type": "code",
   "execution_count": 5,
   "id": "a9ad2ada",
   "metadata": {},
   "outputs": [
    {
     "data": {
      "text/plain": [
       "[]"
      ]
     },
     "execution_count": 5,
     "metadata": {},
     "output_type": "execute_result"
    }
   ],
   "source": [
    "filter_list(['Nothing', 'here']) "
   ]
  },
  {
   "cell_type": "markdown",
   "id": "f1f74981",
   "metadata": {},
   "source": [
    "# 2.Given a list of numbers, create a function which returns the list but with each element's index in the list added to itself. This means you add 0 to the number at index 0, add 1 to thenumber at index 1, etc...\n",
    "## Examples\n",
    "## add_indexes([0, 0, 0, 0, 0]) ➞ [0, 1, 2, 3, 4]\n",
    "## add_indexes([1, 2, 3, 4, 5]) ➞ [1, 3, 5, 7, 9]\n",
    "## add_indexes([5, 4, 3, 2, 1]) ➞ [5, 5, 5, 5, 5]"
   ]
  },
  {
   "cell_type": "code",
   "execution_count": 9,
   "id": "175e7f62",
   "metadata": {},
   "outputs": [
    {
     "data": {
      "text/plain": [
       "[0, 1, 2, 3, 4]"
      ]
     },
     "execution_count": 9,
     "metadata": {},
     "output_type": "execute_result"
    }
   ],
   "source": [
    "def add_indexes(lst):\n",
    "    l1 =[]\n",
    "    for i in range(len(lst)):\n",
    "        l1.append(lst[i]+i)\n",
    "    return l1\n",
    "lst=[0,0,0,0,0]\n",
    "add_indexes(lst)"
   ]
  },
  {
   "cell_type": "code",
   "execution_count": 10,
   "id": "6fa0d48e",
   "metadata": {},
   "outputs": [
    {
     "data": {
      "text/plain": [
       "[1, 3, 5, 7, 9]"
      ]
     },
     "execution_count": 10,
     "metadata": {},
     "output_type": "execute_result"
    }
   ],
   "source": [
    "add_indexes([1, 2, 3, 4, 5])"
   ]
  },
  {
   "cell_type": "markdown",
   "id": "e3152095",
   "metadata": {},
   "source": [
    "# 3.Create a function that takes the height and radius of a cone as arguments and returns the volume of the cone rounded to the nearest hundredth. See the resources tab for the formula.\n",
    "## Examples\n",
    "## cone_volume(3, 2) ➞ 12.57\n",
    "## cone_volume(15, 6) ➞ 565.49\n",
    "## cone_volume(18, 0) ➞ 0\n"
   ]
  },
  {
   "cell_type": "code",
   "execution_count": 21,
   "id": "13f91bb3",
   "metadata": {},
   "outputs": [
    {
     "name": "stdout",
     "output_type": "stream",
     "text": [
      "enter the height of the cone:3\n",
      "enter the radius of the cone:2\n",
      "Volume Of Cone :  12.57\n"
     ]
    }
   ],
   "source": [
    "import math\n",
    "pi = math.pi\n",
    "def cone_volume(h,r):\n",
    "    return round(((1 / 3) * pi * r * r * h),2)\n",
    "radius = float(input(\"enter the height of the cone:\"))\n",
    "height = float(input(\"enter the radius of the cone:\"))\n",
    "print( \"Volume Of Cone : \", cone_volume(radius, height) )"
   ]
  },
  {
   "cell_type": "markdown",
   "id": "4b0645e4",
   "metadata": {},
   "source": [
    "# 4. This Triangular Number Sequence is generated from a pattern of dots that form a triangle. \n",
    "## The first 5 numbers of the sequence, or dots, are: 1, 3, 6, 10, 15 This means that the first triangle has just one dot, the second one has three dots, the third one has 6 dots and so on.Write a function that gives the number of dots with its corresponding triangle number of the sequence.Examples\n",
    "## triangle(1) ➞ 1\n",
    "## triangle(6) ➞ 21\n",
    "## triangle(215) ➞ 23220\n"
   ]
  },
  {
   "cell_type": "code",
   "execution_count": 24,
   "id": "d6817e7d",
   "metadata": {},
   "outputs": [
    {
     "name": "stdout",
     "output_type": "stream",
     "text": [
      "Enter the trinalge number :6\n",
      "The 6th triangle has 21 dots \n"
     ]
    }
   ],
   "source": [
    "def triangle(n):\n",
    "    return n*(n+1)*0.5\n",
    "\n",
    "n = int(input('Enter the trinalge number :'))\n",
    "print(\"The {}th triangle has {} dots \".format(n,int(triangle(n))))"
   ]
  },
  {
   "cell_type": "markdown",
   "id": "629e775f",
   "metadata": {},
   "source": [
    "# 5.Create a function that takes a list of numbers between 1 and 10 (excluding one number) and returns the missing number.Examples\n",
    "## missing_num([1, 2, 3, 4, 6, 7, 8, 9, 10]) ➞ 5\n",
    "## missing_num([7, 2, 3, 6, 5, 9, 1, 4, 8]) ➞ 10\n",
    "## missing_num([10, 5, 1, 2, 4, 6, 8, 3, 9]) ➞ 7"
   ]
  },
  {
   "cell_type": "code",
   "execution_count": 30,
   "id": "d60b0e2c",
   "metadata": {},
   "outputs": [
    {
     "name": "stdout",
     "output_type": "stream",
     "text": [
      "4\n"
     ]
    }
   ],
   "source": [
    "def missing_num(l):\n",
    "    for i in range(1,len(l)+1):\n",
    "        if(i not in l):\n",
    "            print(i)\n",
    "l=[1,2,3,5]\n",
    "missing_num(l)"
   ]
  },
  {
   "cell_type": "code",
   "execution_count": 31,
   "id": "2f7f2bf4",
   "metadata": {},
   "outputs": [
    {
     "name": "stdout",
     "output_type": "stream",
     "text": [
      "5\n"
     ]
    }
   ],
   "source": [
    "missing_num([1, 2, 3, 4, 6, 7, 8, 9, 10])"
   ]
  },
  {
   "cell_type": "code",
   "execution_count": null,
   "id": "3ac735ce",
   "metadata": {},
   "outputs": [],
   "source": []
  }
 ],
 "metadata": {
  "kernelspec": {
   "display_name": "Python 3 (ipykernel)",
   "language": "python",
   "name": "python3"
  },
  "language_info": {
   "codemirror_mode": {
    "name": "ipython",
    "version": 3
   },
   "file_extension": ".py",
   "mimetype": "text/x-python",
   "name": "python",
   "nbconvert_exporter": "python",
   "pygments_lexer": "ipython3",
   "version": "3.9.12"
  }
 },
 "nbformat": 4,
 "nbformat_minor": 5
}
