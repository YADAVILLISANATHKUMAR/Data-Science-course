{
 "cells": [
  {
   "cell_type": "markdown",
   "id": "62b3077c",
   "metadata": {},
   "source": [
    "# 1.How many seconds are in an hour? Use the interactive interpreter as a calculator and multiply the number of seconds in a minute (60) by the number of minutes in an hour (also 60)."
   ]
  },
  {
   "cell_type": "code",
   "execution_count": 12,
   "id": "b1934062",
   "metadata": {},
   "outputs": [
    {
     "name": "stdout",
     "output_type": "stream",
     "text": [
      "no .of seconds in minitue 60\n",
      "no.of minitue in hour: 60\n",
      "no of seconds in hour: 3600\n"
     ]
    }
   ],
   "source": [
    "# one min = 60 sec\n",
    "sec=60\n",
    "min = 1 *sec\n",
    "# one hour = 60 min\n",
    "hour = 1* min\n",
    "# how many seconds in hour\n",
    "secinhour = hour *sec\n",
    "print(\"no .of seconds in minitue\",min)\n",
    "print(\"no.of minitue in hour:\",hour)\n",
    "print(\"no of seconds in hour:\",secinhour)\n",
    "    \n",
    "        "
   ]
  },
  {
   "cell_type": "markdown",
   "id": "507a4c56",
   "metadata": {},
   "source": [
    "# 2.Assign the result from the previous task (seconds in an hour) to a variable called seconds_per_hour."
   ]
  },
  {
   "cell_type": "code",
   "execution_count": 27,
   "id": "c5dc4054",
   "metadata": {},
   "outputs": [
    {
     "name": "stdout",
     "output_type": "stream",
     "text": [
      "3600\n"
     ]
    }
   ],
   "source": [
    "seconds_per_hour = secinhour \n",
    "print(seconds_per_hour)"
   ]
  },
  {
   "cell_type": "markdown",
   "id": "dcca28f6",
   "metadata": {},
   "source": [
    "# 3.How many seconds do you think there are in a day? Make use of the variables seconds per hour and minutes per hour."
   ]
  },
  {
   "cell_type": "code",
   "execution_count": 16,
   "id": "48a0486e",
   "metadata": {},
   "outputs": [
    {
     "name": "stdout",
     "output_type": "stream",
     "text": [
      "no.of seconds in minitue is  60 sec\n",
      "no.of minitue in hour is : 60 sec\n",
      "no.of seconds in hour is : 3600 sec\n",
      "no.of seconds in a Day is: 86400 sec\n"
     ]
    }
   ],
   "source": [
    "# one min = 60 sec\n",
    "sec=60\n",
    "min = 1 *sec\n",
    "# one hour = 60 min\n",
    "hour = 1* min\n",
    "# how many seconds in hour\n",
    "secinhour = hour *sec\n",
    "# how many seconds in day \n",
    "#1day consists  24 hour\n",
    "secinday = 24*hour *sec\n",
    "print(\"no.of seconds in minitue is \",min,\"sec\")\n",
    "print(\"no.of minitue in hour is :\",hour,\"sec\")\n",
    "print(\"no.of seconds in hour is :\",secinhour,\"sec\")\n",
    "print(\"no.of seconds in a Day is:\",secinday,\"sec\")\n",
    "    \n",
    "        "
   ]
  },
  {
   "cell_type": "markdown",
   "id": "99a19401",
   "metadata": {},
   "source": [
    "# 5. Divide seconds_per_day by seconds_per_hour. Use floating-point (/) division."
   ]
  },
  {
   "cell_type": "code",
   "execution_count": 17,
   "id": "bc39500e",
   "metadata": {},
   "outputs": [
    {
     "name": "stdout",
     "output_type": "stream",
     "text": [
      "24.0\n"
     ]
    }
   ],
   "source": [
    "seconds_per_day =86400\n",
    "seconds_per_hour =3600 \n",
    "print(seconds_per_day / seconds_per_hour)\n"
   ]
  },
  {
   "cell_type": "markdown",
   "id": "f8da391f",
   "metadata": {},
   "source": [
    "# 6. Divide seconds_per_day by seconds_per_hour, using integer (//) division. Did this number agree with the floating-point value from the previous question, aside from the final .0?"
   ]
  },
  {
   "cell_type": "code",
   "execution_count": 18,
   "id": "3e2d2be4",
   "metadata": {},
   "outputs": [
    {
     "name": "stdout",
     "output_type": "stream",
     "text": [
      "24\n"
     ]
    }
   ],
   "source": [
    "seconds_per_day =86400\n",
    "seconds_per_hour =3600 \n",
    "print(seconds_per_day // seconds_per_hour)\n"
   ]
  },
  {
   "cell_type": "markdown",
   "id": "1a846e08",
   "metadata": {},
   "source": [
    "Yes above output number agree with the floating-point value from the previous question, aside from the final .0"
   ]
  },
  {
   "cell_type": "markdown",
   "id": "0f84fe48",
   "metadata": {},
   "source": [
    "# 7. Write a generator, genPrimes, that returns the sequence of prime numbers on successive calls toits next() method: 2, 3, 5, 7, 11, ..."
   ]
  },
  {
   "cell_type": "code",
   "execution_count": 21,
   "id": "973c3fdf",
   "metadata": {},
   "outputs": [],
   "source": [
    "from math import sqrt\n",
    "\n",
    "def is_prime(n):\n",
    "    if (n <= 1):\n",
    "        return False\n",
    "    if (n == 2):\n",
    "        return True\n",
    "    if (n % 2 == 0):\n",
    "        return False\n",
    "\n",
    "    i = 3\n",
    "    while i <= sqrt(n):\n",
    "        if n % i == 0:\n",
    "            return False\n",
    "        i = i + 2\n",
    "\n",
    "    return True"
   ]
  },
  {
   "cell_type": "code",
   "execution_count": 25,
   "id": "adb25e23",
   "metadata": {},
   "outputs": [],
   "source": [
    "def genPrimes():\n",
    "    n = 1\n",
    "    while True:\n",
    "        n += 1\n",
    "        if is_prime(n):\n",
    "            yield n"
   ]
  },
  {
   "cell_type": "code",
   "execution_count": 26,
   "id": "5e5bb843",
   "metadata": {},
   "outputs": [
    {
     "name": "stdout",
     "output_type": "stream",
     "text": [
      "2 3 5 7 11 13 17 19 23 29 "
     ]
    }
   ],
   "source": [
    "generator = genPrimes()\n",
    "\n",
    "for i in range(10):\n",
    "    print(next(generator), end=\" \")\n"
   ]
  }
 ],
 "metadata": {
  "kernelspec": {
   "display_name": "Python 3 (ipykernel)",
   "language": "python",
   "name": "python3"
  },
  "language_info": {
   "codemirror_mode": {
    "name": "ipython",
    "version": 3
   },
   "file_extension": ".py",
   "mimetype": "text/x-python",
   "name": "python",
   "nbconvert_exporter": "python",
   "pygments_lexer": "ipython3",
   "version": "3.9.12"
  }
 },
 "nbformat": 4,
 "nbformat_minor": 5
}
