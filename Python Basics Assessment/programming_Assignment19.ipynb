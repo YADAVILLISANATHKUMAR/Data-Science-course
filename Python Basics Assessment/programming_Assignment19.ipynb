{
 "cells": [
  {
   "cell_type": "markdown",
   "id": "39aa8c2d",
   "metadata": {},
   "source": [
    "# 1.Create a function that takes a string and returns a string in which each character is repeated once. \n",
    "## Examples double_char(\"String\") ➞ \"SSttrriinngg\" \n",
    "## double_char(\"Hello World!\") ➞ \"HHeelllloo WWoorrlldd!!\" \n",
    "## double_char(\"1234!_ \") ➞ \"11223344!!__ \""
   ]
  },
  {
   "cell_type": "code",
   "execution_count": 14,
   "id": "7c72a761",
   "metadata": {},
   "outputs": [
    {
     "name": "stdout",
     "output_type": "stream",
     "text": [
      "Enter the string for returns a string in which each character is repeated once:hello\n"
     ]
    },
    {
     "data": {
      "text/plain": [
       "'hheelllloo'"
      ]
     },
     "execution_count": 14,
     "metadata": {},
     "output_type": "execute_result"
    }
   ],
   "source": [
    "def double_char(s):\n",
    "    string1 =\"\"\n",
    "    for i in s:\n",
    "        string1 =  string1 +i*2 \n",
    "    return string1\n",
    "string1 =input(\"Enter the string for returns a string in which each character is repeated once:\")\n",
    "double_char(string1)"
   ]
  },
  {
   "cell_type": "markdown",
   "id": "ecb014fd",
   "metadata": {},
   "source": [
    "# 2 .Create a function that reverses a boolean value and returns the string &quot;boolean expected&quot;\n",
    "## if another variable type is given.\n",
    "## Examples\n",
    "## reverse(True) ➞ False\n",
    "## reverse(False) ➞ True\n",
    "## reverse(0) ➞ \"boolean expected\"\n",
    "## reverse(None) ➞ \"boolean expected\""
   ]
  },
  {
   "cell_type": "code",
   "execution_count": 107,
   "id": "92d9dc9e",
   "metadata": {},
   "outputs": [
    {
     "name": "stdout",
     "output_type": "stream",
     "text": [
      "enter the boolean get it's reverses a boolean value of it :  False\n",
      "False\n"
     ]
    }
   ],
   "source": [
    "def r(b):\n",
    "     print((not(bool(b))))\n",
    "b = bool(input(\"enter the boolean get it's reverses a boolean value of it :  \"))\n",
    "r(b)"
   ]
  },
  {
   "cell_type": "code",
   "execution_count": 172,
   "id": "75051f6b",
   "metadata": {},
   "outputs": [
    {
     "name": "stdout",
     "output_type": "stream",
     "text": [
      "False\n",
      "True\n",
      "boolean expected\n",
      "boolean expected\n"
     ]
    }
   ],
   "source": [
    "def reverse(arg=None):\n",
    "    return not arg if type(arg) == bool else \"boolean expected\"\n",
    "\n",
    "print(reverse(True)) # False\n",
    "print(reverse(False)) # True\n",
    "print(reverse(0)) # \"boolean expected\"\n",
    "print(reverse(None)) # \"boolean expected\""
   ]
  },
  {
   "cell_type": "markdown",
   "id": "d895116a",
   "metadata": {},
   "source": [
    "# 3. Create a function that returns the thickness (in meters) of a piece of paper after folding it n\n",
    "## number of times. The paper starts off with a thickness of 0.5mm.\n",
    "## Examples\n",
    "\n",
    "## Paper folded once is 1mm (equal to 0.001m)\n",
    "## num_layers(4) ➞ \"0.008m\"\n",
    "\n",
    "## Paper folded 4 times is 8mm (equal to 0.008m)\n",
    "## num_layers(21) ➞ \"1048.576m\"\n",
    "\n",
    "## Paper folded 21 times is 1048576mm (equal to 1048.576m)"
   ]
  },
  {
   "cell_type": "code",
   "execution_count": 174,
   "id": "2d2508c9",
   "metadata": {},
   "outputs": [
    {
     "name": "stdout",
     "output_type": "stream",
     "text": [
      "0.001m\n",
      "0.008m\n",
      "1048.576m\n"
     ]
    }
   ],
   "source": [
    "def num_layers(n):\n",
    "    thickness = 0.5\n",
    "    for i in range(n):\n",
    "        thickness *= 2\n",
    "    \n",
    "    return str(thickness / 1000)+'m' # for meters\n",
    "\n",
    "print(num_layers(1))\n",
    "print(num_layers(4))\n",
    "print(num_layers(21))\n"
   ]
  },
  {
   "cell_type": "markdown",
   "id": "6716acc8",
   "metadata": {},
   "source": [
    "# 4.Create a function that takes a single string as argument and returns an ordered list containing\n",
    "the indices of all capital letters in the string.\n",
    "Examples\n",
    "the indices of all capital letters in the string. \n",
    "## Examples index_of_caps(\"eDaBiT\") ➞ [1, 3, 5]\n",
    "## index_of_caps(\"eQuINoX\") ➞ [1, 3, 4, 6] \n",
    "## index_of_caps(\"determine\") ➞ [] \n",
    "## index_of_caps(\"STRIKE\") ➞ [0, 1, 2, 3, 4, 5] \n",
    "## index_of_caps(\"sUn\") ➞ [1]"
   ]
  },
  {
   "cell_type": "code",
   "execution_count": 177,
   "id": "1a9df2b3",
   "metadata": {},
   "outputs": [
    {
     "name": "stdout",
     "output_type": "stream",
     "text": [
      "[1, 3, 5]\n",
      "[1, 3, 4, 6]\n",
      "[]\n",
      "[0, 1, 2, 3, 4, 5]\n",
      "[1]\n"
     ]
    }
   ],
   "source": [
    "def index_of_caps(word):\n",
    "    indices = []\n",
    "    for i in range(len(word)):\n",
    "        if word[i].isupper():\n",
    "             indices.append(i)\n",
    "    return indices\n",
    "\n",
    "print(index_of_caps('eDaBiT'))\n",
    "print(index_of_caps('eQuINoX')) \n",
    "print(index_of_caps('determine'))\n",
    "print(index_of_caps('STRIKE'))\n",
    "print(index_of_caps('sUn'))\n"
   ]
  },
  {
   "cell_type": "markdown",
   "id": "02f8250d",
   "metadata": {},
   "source": [
    "# 5.Using list comprehensions, create a function that finds all even numbers from 1 to the given number.\n",
    "## Examples\n",
    "## find_even_nums(8) ➞ [2, 4, 6, 8]\n",
    "## find_even_nums(4) ➞ [2, 4]\n",
    "## find_even_nums(2) ➞ [2]"
   ]
  },
  {
   "cell_type": "code",
   "execution_count": 195,
   "id": "9374e297",
   "metadata": {},
   "outputs": [
    {
     "name": "stdout",
     "output_type": "stream",
     "text": [
      "[2, 4, 6, 8]\n",
      "[2, 4]\n",
      "[2]\n"
     ]
    }
   ],
   "source": [
    "def find_even_nums(n):\n",
    "    even = [i for i in range(2,n+1) if i%2 == 0]\n",
    "    return even\n"
   ]
  },
  {
   "cell_type": "code",
   "execution_count": 196,
   "id": "05ec4415",
   "metadata": {},
   "outputs": [
    {
     "name": "stdout",
     "output_type": "stream",
     "text": [
      "[2, 4, 6, 8]\n"
     ]
    }
   ],
   "source": [
    "print(find_even_nums(8)) \n"
   ]
  },
  {
   "cell_type": "code",
   "execution_count": 197,
   "id": "3b5f813d",
   "metadata": {},
   "outputs": [
    {
     "name": "stdout",
     "output_type": "stream",
     "text": [
      "[2, 4]\n"
     ]
    }
   ],
   "source": [
    "print(find_even_nums(4)) \n"
   ]
  },
  {
   "cell_type": "code",
   "execution_count": 198,
   "id": "4c836f24",
   "metadata": {},
   "outputs": [
    {
     "name": "stdout",
     "output_type": "stream",
     "text": [
      "[2]\n"
     ]
    }
   ],
   "source": [
    "print(find_even_nums(2) ) "
   ]
  }
 ],
 "metadata": {
  "kernelspec": {
   "display_name": "Python 3 (ipykernel)",
   "language": "python",
   "name": "python3"
  },
  "language_info": {
   "codemirror_mode": {
    "name": "ipython",
    "version": 3
   },
   "file_extension": ".py",
   "mimetype": "text/x-python",
   "name": "python",
   "nbconvert_exporter": "python",
   "pygments_lexer": "ipython3",
   "version": "3.9.12"
  }
 },
 "nbformat": 4,
 "nbformat_minor": 5
}
