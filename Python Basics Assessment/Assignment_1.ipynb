{
 "cells": [
  {
   "cell_type": "markdown",
   "id": "66eca73c",
   "metadata": {},
   "source": [
    "# 1. In the below elements which of them are values or an expression? eg:- values can be\n",
    "integer or string and expressions will be mathematical operators.\n",
    "*\n",
    "&#39;hello&#39;\n",
    "-87.8\n",
    "-\n",
    "/\n",
    "+\n",
    "6"
   ]
  },
  {
   "cell_type": "markdown",
   "id": "eb8383cc",
   "metadata": {},
   "source": [
    "1.In programmimg language ,values are characers or value which assign to variable name i.e consider 'A is variable which store value 10 ' which means in programming represent A=10.\n",
    "2.In programming language , An Expression is a combination operators and operand which perform operations and produce some other values  for example a=10,b=10,c=a+b here a,b are operand which have values to perform arithematic operation  by using '+' is operator and produce 20 as result .\n",
    "3.In given elements  'hello' ,-87.9 and 6 are values similarly *,-,/,+ are operators.\n",
    "we can form expression as -87.9 + 6 ,6- (-87.9) etc\n"
   ]
  },
  {
   "cell_type": "markdown",
   "id": "9cd13012",
   "metadata": {},
   "source": [
    "# 2.What is the difference between string and variable?"
   ]
  },
  {
   "cell_type": "markdown",
   "id": "e8bf621e",
   "metadata": {},
   "source": [
    "In python programming string is a collection  of character ,words,  number  and symbols with in single ,double and triple quote .where as variable is a container which store the value and have different of variable such integer variable, string varible, floatin point variable  and long integer variable.for example\n"
   ]
  },
  {
   "cell_type": "code",
   "execution_count": 6,
   "id": "f890dbd2",
   "metadata": {},
   "outputs": [
    {
     "name": "stdout",
     "output_type": "stream",
     "text": [
      "hello hi\n",
      "how \n",
      "are you  10 10a!@$$ 10.0 a\n"
     ]
    }
   ],
   "source": [
    "# a is variable name which store multiple line text  \n",
    "a=\"\"\"hello hi\n",
    "how \n",
    "are you \"\"\"\n",
    "# b is variable name which stores int value 10 \n",
    "b=10\n",
    "# c is variable name which stores string value\n",
    "c=\"10a!@$$\"\n",
    "# d is variable name which stores floating point variable\n",
    "d=10.00\n",
    "# e is varaiable name which stores  string character value\n",
    "e='a'\n",
    "print(a)\n",
    "print(b)\n",
    "print(c)\n",
    "print(d)\n",
    "print(e)"
   ]
  },
  {
   "cell_type": "markdown",
   "id": "514b552c",
   "metadata": {},
   "source": [
    "# 3. Describe three different data types."
   ]
  },
  {
   "cell_type": "markdown",
   "id": "666eabb4",
   "metadata": {},
   "source": [
    "In python we have different  data types which describe the characterstic of a varable and we have different datatypes in python such as \n",
    ".Numeric Types: complex, float, int\n",
    ".Text Type: str\n",
    ".Boolean Type: bool\n",
    ".Sequence Types: range, tuple, list\n",
    ".Set Types: frozenset, set\n",
    ".Mapping Type: dict\n",
    ".Binary Types: memoryview, bytearray, bytes\n"
   ]
  },
  {
   "cell_type": "code",
   "execution_count": 8,
   "id": "17b5caf0",
   "metadata": {},
   "outputs": [
    {
     "name": "stdout",
     "output_type": "stream",
     "text": [
      "10 is a type of <class 'int'>\n",
      "10.0 is a type of <class 'float'>\n",
      "(5+3j) is a type of <class 'complex'>\n"
     ]
    }
   ],
   "source": [
    "#1.Number data types  which stores data in three types such as integer,float and complex.\n",
    "# examples for numbers data type\n",
    "a=10 # a is variable name which store integer type value\n",
    "print(a,\"is a type of\",type(a))\n",
    "\n",
    "b= 10.00 #b is variable name which store float type value \n",
    "print(b,\"is a type of\",type(b))\n",
    "\n",
    "c=5+3J# c is variable name which store complex type value\n",
    "print(c,\"is a type of\",type(c))\n",
    "\n"
   ]
  },
  {
   "cell_type": "code",
   "execution_count": 14,
   "id": "2e51ff88",
   "metadata": {},
   "outputs": [
    {
     "name": "stdout",
     "output_type": "stream",
     "text": [
      "hello hi\n",
      "how \n",
      "are you  is value of a and its type is \n",
      "<class 'str'>\n",
      "A is value of b and its type is  <class 'str'>\n",
      "Hello is value of c and its type is  <class 'str'>\n",
      "123456!@#$%^  is value of d and its type is  <class 'str'>\n"
     ]
    }
   ],
   "source": [
    "#2.string is an sequnece of characters with single,double and triple quotes.\n",
    "# a is variable name which store multiple line text  \n",
    "a=\"\"\"hello hi\n",
    "how \n",
    "are you \"\"\"\n",
    "# b is variable name which stores single character\n",
    "b=\"A\"\n",
    "# c is variable namw which string value\n",
    "c=\"Hello\"\n",
    "# d is variable name which stores numbers and symbol with in quotes\n",
    "d=\"123456!@#$%^\"\n",
    "print(a,\"is value of a and its type is \") \n",
    "print(type(a))\n",
    "print(b,\"is value of b and its type is \",type(b))\n",
    "print(c,\"is value of c and its type is \",type(c))\n",
    "print(d,\" is value of d and its type is \",type(d))\n"
   ]
  },
  {
   "cell_type": "code",
   "execution_count": 19,
   "id": "134c1181",
   "metadata": {},
   "outputs": [
    {
     "name": "stdout",
     "output_type": "stream",
     "text": [
      "<class 'bool'>\n",
      "<class 'bool'>\n",
      "True\n",
      "False\n"
     ]
    }
   ],
   "source": [
    "\"\"\" boolean data type have two  values which is true or flase .\n",
    "it use evaluation of any expression to get result either true or flase.\"\"\"\n",
    "a=True\n",
    "print(type(a))\n",
    "b= True \n",
    "print(type(b)) \n",
    "\n",
    "print(10 >7)\n",
    "print(7 >10)   "
   ]
  },
  {
   "cell_type": "markdown",
   "id": "eb28e67e",
   "metadata": {},
   "source": [
    "# 4.What is an expression made up of? What do all expressions do?"
   ]
  },
  {
   "cell_type": "markdown",
   "id": "a2b2ca3c",
   "metadata": {},
   "source": [
    "1. An expression is a combination of values and operators. All expressions evaluate (that is, reduce) to a single value. 2.Expression can do different expression  can do operations such as  arithematic expression ,boolean expression ,conditional expression ,bitewise expression,logical expression ."
   ]
  },
  {
   "cell_type": "code",
   "execution_count": 19,
   "id": "63edf226",
   "metadata": {},
   "outputs": [
    {
     "name": "stdout",
     "output_type": "stream",
     "text": [
      "******Arithematic expression******\n",
      "addition of a and b values is  20\n",
      "substraction of a and b values is  0\n",
      "multiplication  of a and b values is  100\n",
      "divsion of a and b  values is  1.0\n",
      "modulo division of a and b values is  0\n",
      "******Boolean expression******\n",
      "False\n",
      "False\n",
      "True\n",
      "******Conditional expression******\n",
      "a is equal to b\n",
      "******logical expression******\n",
      "False True True\n"
     ]
    }
   ],
   "source": [
    "#Arithematics expression which perform arithematic operations\n",
    "print(\"******Arithematic expression******\")\n",
    "a= 10\n",
    "b=10\n",
    "c=a+b\n",
    "d=a-b\n",
    "e=a*b\n",
    "f=a/b\n",
    "g=a%b\n",
    "print(\"addition of a and b values is \",c)\n",
    "print(\"substraction of a and b values is \",d)\n",
    "print(\"multiplication  of a and b values is \",e)\n",
    "print(\"divsion of a and b  values is \",f)\n",
    "print(\"modulo division of a and b values is \",g)\n",
    "\n",
    "#boolean expression which perform boolean operations\n",
    "print(\"******Boolean expression******\")\n",
    "a =10\n",
    "b=10\n",
    "print(a>b)\n",
    "print(b>a)\n",
    "print(a==b)\n",
    "\n",
    "#conditional expression which perform conditional operation (<,>,!= ,==) \n",
    "print(\"******Conditional expression******\")\n",
    "a= 10 \n",
    "b=10 \n",
    "if(a==b):\n",
    "    print(\"a is equal to b\")\n",
    "elif(a >b) :\n",
    "    print(\"a is greater than b \")\n",
    "elif(a <b):\n",
    "    print(\" a is lesser than b\")\n",
    "else :\n",
    "    print(\"a is not equal to b\")\n",
    "    \n",
    "#Logical expression gives results based on  one or more than condition using logical operators (and,or not)\n",
    "print(\"******logical expression******\")\n",
    "\n",
    "a=(10 ==9) \n",
    "b=(20 > 10)\n",
    "c= a and b # if both conditions are true then its return true if not return false \n",
    "d=a or b # either of  one conditions must true\n",
    "e=not(a) # not condition return false when condition is true  oe else it return true when condition is false ie not(true) == false\n",
    "print(c,d,e)\n",
    "    "
   ]
  },
  {
   "cell_type": "code",
   "execution_count": 14,
   "id": "4ae7fd7b",
   "metadata": {},
   "outputs": [
    {
     "name": "stdout",
     "output_type": "stream",
     "text": [
      "True\n"
     ]
    }
   ],
   "source": [
    "a=10\n",
    "b=20\n",
    "print(a and b > 15)"
   ]
  },
  {
   "cell_type": "markdown",
   "id": "2e16f43a",
   "metadata": {},
   "source": [
    "# 5. This assignment statements, like spam = 10. What is the difference between and expression and a statement?"
   ]
  },
  {
   "cell_type": "markdown",
   "id": "8609619e",
   "metadata": {},
   "source": [
    "In programming an \"Expression\" always evaluate  the value and  \"Statement \" is used to store the values in variable,create the variable and display the variable. for example a =10 is statement and a= 10 + 5 is an expression."
   ]
  },
  {
   "cell_type": "markdown",
   "id": "daff0240",
   "metadata": {},
   "source": [
    "# 6 .After running the following code, what does the variable bacon contain?bacon = 22    bacon + 1"
   ]
  },
  {
   "cell_type": "code",
   "execution_count": 1,
   "id": "fa66c2d2",
   "metadata": {},
   "outputs": [
    {
     "data": {
      "text/plain": [
       "23"
      ]
     },
     "execution_count": 1,
     "metadata": {},
     "output_type": "execute_result"
    }
   ],
   "source": [
    "bacon =22\n",
    "bacon +1"
   ]
  },
  {
   "cell_type": "markdown",
   "id": "d391a2f3",
   "metadata": {},
   "source": [
    "In above statement excutes bacon contains 23 because The bacon variable is set to 23. The bacon + 1 expression does not reassign the value in bacon it behaves as assignment statement: bacon = bacon + 1. so its increment +1  and store 23 in bacon."
   ]
  },
  {
   "cell_type": "markdown",
   "id": "ab5ad266",
   "metadata": {},
   "source": [
    "# 7.What should the values of the following two terms be?\n",
    "'spam'+'spam'+'spam' \n",
    "'spam'*3"
   ]
  },
  {
   "cell_type": "code",
   "execution_count": 1,
   "id": "2d3a15ab",
   "metadata": {},
   "outputs": [
    {
     "data": {
      "text/plain": [
       "'spamspamspam'"
      ]
     },
     "execution_count": 1,
     "metadata": {},
     "output_type": "execute_result"
    }
   ],
   "source": [
    "'spam'+'spam'+'spam'"
   ]
  },
  {
   "cell_type": "code",
   "execution_count": 2,
   "id": "c1bb8415",
   "metadata": {},
   "outputs": [
    {
     "data": {
      "text/plain": [
       "'spamspamspam'"
      ]
     },
     "execution_count": 2,
     "metadata": {},
     "output_type": "execute_result"
    }
   ],
   "source": [
    "'spam'*3"
   ]
  },
  {
   "cell_type": "markdown",
   "id": "ab1857c6",
   "metadata": {},
   "source": [
    " above two expressions return same output."
   ]
  },
  {
   "cell_type": "markdown",
   "id": "cffb78aa",
   "metadata": {},
   "source": [
    "# 8.Why is eggs a valid variable name while 100 is invalid?"
   ]
  },
  {
   "cell_type": "markdown",
   "id": "b510ed3d",
   "metadata": {},
   "source": [
    "Egg is a valid variable name whille 100 is invalid because in programming creation of variable names have certain rules such as\n",
    "1.A variable name must start with a letter or the underscore character.\n",
    "2.A variable name cannot start with a number.\n",
    "3.A variable name can only contain alpha-numeric characters and underscores (A-z, 0-9, and _ )\n",
    "4.Variable names are case-sensitive (age, Age and AGE are three different variables)\n",
    "Based on above rules egg is valid and  100 is not valid variable name.\n"
   ]
  },
  {
   "cell_type": "markdown",
   "id": "1fe85b2d",
   "metadata": {},
   "source": [
    "# 9.What three functions can be used to get the integer, floating-point number, or string version of a value?"
   ]
  },
  {
   "cell_type": "markdown",
   "id": "4f7bc9cb",
   "metadata": {},
   "source": [
    "The int(), float(), and str() functions will evaluate to the integer, floating-point number, and string versions of the value passed to them.\n",
    "\n"
   ]
  },
  {
   "cell_type": "markdown",
   "id": "cabfbc98",
   "metadata": {},
   "source": [
    "# 10.Why does this expression cause an error? How can you fix it?\n",
    "eaten ' + 99 + ' burritos.'."
   ]
  },
  {
   "cell_type": "markdown",
   "id": "a5a75561",
   "metadata": {},
   "source": [
    "The expression causes an error because 99 is an integer, and only strings can be concatenated to other strings with the + operator. The correct way is 'I have eaten ' + str(99) + ' burritos.' or 'I have eaten ' + '99' + ' burritos.'"
   ]
  },
  {
   "cell_type": "code",
   "execution_count": 3,
   "id": "c1b25f5b",
   "metadata": {},
   "outputs": [
    {
     "data": {
      "text/plain": [
       "'I have eaten 99 burritos.'"
      ]
     },
     "execution_count": 3,
     "metadata": {},
     "output_type": "execute_result"
    }
   ],
   "source": [
    "'I have eaten ' + str(99) + ' burritos.'"
   ]
  },
  {
   "cell_type": "code",
   "execution_count": 4,
   "id": "89c98e15",
   "metadata": {},
   "outputs": [
    {
     "data": {
      "text/plain": [
       "'I have eaten 99 burritos.'"
      ]
     },
     "execution_count": 4,
     "metadata": {},
     "output_type": "execute_result"
    }
   ],
   "source": [
    "'I have eaten ' + '99' + ' burritos.'"
   ]
  },
  {
   "cell_type": "code",
   "execution_count": null,
   "id": "2cb3d86c",
   "metadata": {},
   "outputs": [],
   "source": []
  }
 ],
 "metadata": {
  "kernelspec": {
   "display_name": "Python 3 (ipykernel)",
   "language": "python",
   "name": "python3"
  },
  "language_info": {
   "codemirror_mode": {
    "name": "ipython",
    "version": 3
   },
   "file_extension": ".py",
   "mimetype": "text/x-python",
   "name": "python",
   "nbconvert_exporter": "python",
   "pygments_lexer": "ipython3",
   "version": "3.9.12"
  }
 },
 "nbformat": 4,
 "nbformat_minor": 5
}
