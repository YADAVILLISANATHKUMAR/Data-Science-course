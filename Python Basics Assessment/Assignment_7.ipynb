{
 "cells": [
  {
   "cell_type": "markdown",
   "id": "c192b11d",
   "metadata": {},
   "source": [
    "# 1.What is the name of the feature responsible for generating Regex objects?"
   ]
  },
  {
   "cell_type": "markdown",
   "id": "83502637",
   "metadata": {},
   "source": [
    "The re.compile() function returns Regex objects.\n",
    "syntax:\n",
    "re.compile(pattern, flags=0)\n",
    "pattern: regex pattern in string format, which you are trying to match inside the target string.\n",
    "flags: The expression’s behavior can be modified by specifying regex flag values. This is an optional parameter"
   ]
  },
  {
   "cell_type": "markdown",
   "id": "d7208e0f",
   "metadata": {},
   "source": [
    "# 2.Why do raw strings often appear in Regex objects?"
   ]
  },
  {
   "cell_type": "markdown",
   "id": "8970ef40",
   "metadata": {},
   "source": [
    "Raw strings are used so that backslashes do not have to be escaped."
   ]
  },
  {
   "cell_type": "markdown",
   "id": "aa3afb18",
   "metadata": {},
   "source": [
    "# 3. What is the return value of the search() method?"
   ]
  },
  {
   "cell_type": "markdown",
   "id": "7ae0675c",
   "metadata": {},
   "source": [
    "the return value of the search() method is Match objects."
   ]
  },
  {
   "cell_type": "markdown",
   "id": "9a373c43",
   "metadata": {},
   "source": [
    "# 4.From a Match item, how do you get the actual strings that match the pattern?"
   ]
  },
  {
   "cell_type": "code",
   "execution_count": null,
   "id": "5d1caa65",
   "metadata": {},
   "outputs": [],
   "source": [
    "The group() method returns strings of the matched text.\n",
    "\n"
   ]
  },
  {
   "cell_type": "markdown",
   "id": "7e64e449",
   "metadata": {},
   "source": [
    "# 5. In the regex which created from the r'(\\d\\d\\d)-(\\d\\d\\d-\\d\\d\\d\\d)', what does group zero cover? Group 2? Group 1?"
   ]
  },
  {
   "cell_type": "markdown",
   "id": "4f33451a",
   "metadata": {},
   "source": [
    "Group 0 is the entire match, group 1 covers the first set of parentheses, and group 2 covers the second set of parentheses"
   ]
  },
  {
   "cell_type": "markdown",
   "id": "1e7e598d",
   "metadata": {},
   "source": [
    "# 6. In standard expression syntax, parentheses and intervals have distinct meanings. How can you tell a regex that you want it to fit real parentheses and periods?"
   ]
  },
  {
   "cell_type": "markdown",
   "id": "e7a6316a",
   "metadata": {},
   "source": [
    "Periods and parentheses can be escaped with a backslash: \\., \\(, and \\)."
   ]
  },
  {
   "cell_type": "markdown",
   "id": "7149ed94",
   "metadata": {},
   "source": [
    "# 7. The findall() method returns a string list or a list of string tuples. What causes it to return one of the two options?"
   ]
  },
  {
   "cell_type": "markdown",
   "id": "93586a2b",
   "metadata": {},
   "source": [
    "If the regex has no groups, a list of strings is returned. If the regex has groups, a list of tuples of strings is returned."
   ]
  },
  {
   "cell_type": "markdown",
   "id": "52cd35b5",
   "metadata": {},
   "source": [
    "# 8.In standard expressions, what does the | character mean?"
   ]
  },
  {
   "cell_type": "markdown",
   "id": "41ad34ec",
   "metadata": {},
   "source": [
    "In standard expressions,The | character signifies matching “either, or” between two groups.\n",
    "\n"
   ]
  },
  {
   "cell_type": "markdown",
   "id": "c42512df",
   "metadata": {},
   "source": [
    "# 9.In regular expressions, what does the character stand for?"
   ]
  },
  {
   "cell_type": "markdown",
   "id": "5d994987",
   "metadata": {},
   "source": [
    "The ? character can either mean “match zero or one of the preceding group” or be used to signify nongreedy matching."
   ]
  },
  {
   "cell_type": "markdown",
   "id": "306083e3",
   "metadata": {},
   "source": [
    "# 10.In regular expressions, what is the difference between the + and * characters?"
   ]
  },
  {
   "cell_type": "markdown",
   "id": "f0e7be71",
   "metadata": {},
   "source": [
    "The + matches one or more. The * matches zero or more"
   ]
  },
  {
   "cell_type": "markdown",
   "id": "f1f03674",
   "metadata": {},
   "source": [
    "# 11.What is the difference between {4} and {4,5} in regular expression?"
   ]
  },
  {
   "cell_type": "markdown",
   "id": "82b7a602",
   "metadata": {},
   "source": [
    "The {4} matches exactly four instances of the preceding group. The {4,5} matches between four and five instances"
   ]
  },
  {
   "cell_type": "markdown",
   "id": "a8f7daa6",
   "metadata": {},
   "source": [
    "# 12.What do you mean by the \\d, \\w, and \\s shorthand character classes signify in regular expressions?"
   ]
  },
  {
   "cell_type": "markdown",
   "id": "f4f8559d",
   "metadata": {},
   "source": [
    "The \\d, \\w, and \\s shorthand character classes match a single digit, word, or space character, respectively."
   ]
  },
  {
   "cell_type": "markdown",
   "id": "8cd7e0a0",
   "metadata": {},
   "source": [
    "# 13.What do means by \\D, \\W, and \\S shorthand character classes signify in regular expressions?"
   ]
  },
  {
   "cell_type": "markdown",
   "id": "faaff0df",
   "metadata": {},
   "source": [
    "The \\D, \\W, and \\S shorthand character classes match a single character that is not a digit, word, or space character, respectively"
   ]
  },
  {
   "cell_type": "markdown",
   "id": "86a06234",
   "metadata": {},
   "source": [
    " # 14. What is the difference between .*? and .*  ?"
   ]
  },
  {
   "cell_type": "markdown",
   "id": "a18f1d65",
   "metadata": {},
   "source": [
    "The .* performs a greedy match, and the .*? performs a nongreedy match."
   ]
  },
  {
   "cell_type": "markdown",
   "id": "a267e336",
   "metadata": {},
   "source": [
    "# 15. What is the syntax for matching both numbers and lowercase letters with a character class?"
   ]
  },
  {
   "cell_type": "markdown",
   "id": "dcfa3aca",
   "metadata": {},
   "source": [
    " the character class [a-zA-Z0-9] will match all lowercase letters, uppercase letters, and numbers."
   ]
  },
  {
   "cell_type": "markdown",
   "id": "014a5472",
   "metadata": {},
   "source": [
    "# 16. What is the procedure for making a normal expression in regax case insensitive ?"
   ]
  },
  {
   "cell_type": "markdown",
   "id": "8450e02e",
   "metadata": {},
   "source": [
    "Passing re.I or re.IGNORECASE as the second argument to re.compile() will make the matching case insensitive."
   ]
  },
  {
   "cell_type": "markdown",
   "id": "c661791b",
   "metadata": {},
   "source": [
    "# 17. What does the . character normally match? What does it match if re.DOTALL is passed as 2nd argument in re.compile()?"
   ]
  },
  {
   "cell_type": "markdown",
   "id": "6e95b859",
   "metadata": {},
   "source": [
    "the '.' character normally matches any character except the newline character. If re.DOTALL is passed as the second argument to re.compile(), then the dot will also match newline characters."
   ]
  },
  {
   "cell_type": "markdown",
   "id": "52a893e6",
   "metadata": {},
   "source": [
    "# 18.If numReg = re.compile(r'\\d+'), what will numRegex.sub('X', '11 drummers, 10 pipers, five rings, 4 hen') return?"
   ]
  },
  {
   "cell_type": "code",
   "execution_count": 7,
   "id": "517388bc",
   "metadata": {},
   "outputs": [
    {
     "name": "stdout",
     "output_type": "stream",
     "text": [
      "X drummers, X pipers, five rings, X hen\n"
     ]
    }
   ],
   "source": [
    "import re\n",
    "numReg = re.compile(r'\\d+')\n",
    "print(numReg.sub('X', '11 drummers, 10 pipers, five rings, 4 hen'))"
   ]
  },
  {
   "cell_type": "markdown",
   "id": "dacf06b6",
   "metadata": {},
   "source": [
    "# 19.What does passing re.VERBOSE as the 2nd argument to re.compile() allow to do?"
   ]
  },
  {
   "cell_type": "markdown",
   "id": "d3136252",
   "metadata": {},
   "source": [
    " The re.VERBOSE argument allows you to add whitespace and comments to the string passed to re.compile()"
   ]
  },
  {
   "cell_type": "markdown",
   "id": "8731b49e",
   "metadata": {},
   "source": [
    "# 20.How would you write a regex that match a number with comma for every three digits? It must match the given following:\n",
    "# '42'\n",
    "\n",
    "## '1,234'\n",
    "## '6,368,745'\n",
    "## but not the following:\n",
    "\n",
    "##  '12,34,567' (which has only two digits between the commas)\n",
    "\n",
    "## '1234' (which lacks commas)\n",
    "\n"
   ]
  },
  {
   "cell_type": "markdown",
   "id": "35d829d5",
   "metadata": {},
   "source": [
    "re.compile(r'^\\d{1,3}(,\\d{1,3})*') will create this regex, but other regex strings can produce a similar regular expression."
   ]
  },
  {
   "cell_type": "code",
   "execution_count": 125,
   "id": "2a492be5",
   "metadata": {},
   "outputs": [
    {
     "name": "stdout",
     "output_type": "stream",
     "text": [
      "number taken as a number with commas\n",
      "42 matches the pattern.\n",
      "1,234 matches the pattern.\n",
      "6,368,745 matches the pattern.\n",
      "12,34,567 Does Not Match the Regular Expression!\n",
      "1234 Does Not Match the Regular Expression!\n"
     ]
    }
   ],
   "source": [
    "print('number taken as a number with commas')\n",
    "\n",
    "import re\n",
    "def Match(sentence):\n",
    "\n",
    "        pattern = re.compile(r'\\d{1,3}(,\\d{3})*')\n",
    "\n",
    "        matches = pattern.match(sentence)\n",
    "        if matches.group(0) != sentence:\n",
    "            #Checks to see if the input value\n",
    "            #does NOT match the pattern.\n",
    "            print (sentence,'Does Not Match the Regular Expression!')\n",
    "\n",
    "        else:\n",
    "            print(matches.group(0)+ ' matches the pattern.')\n",
    "            #If the values match it will state verification.\n",
    "\n",
    "Match('42')\n",
    "Match('1,234')\n",
    "Match('6,368,745')\n",
    "Match('12,34,567') \n",
    "Match('1234')\n",
    "\n"
   ]
  },
  {
   "cell_type": "markdown",
   "id": "ee528c6e",
   "metadata": {},
   "source": [
    "# 21. How would you write a regex that matches the full name of someone whose last name is Watanabe? You can assume that the first name that comes before it will always be one word that begins with a capital letter. The regex must match the following:\n",
    "## 'Haruto Watanabe'\n",
    "\n",
    "## 'Alice Watanabe'\n",
    "## 'RoboCop Watanabe'\n",
    "## but not the following:\n",
    "## 'haruto Watanabe'(where the first name is not capitalized)\n",
    "## 'Mr. Watanabe' (here the preceding word has a nonletter character)\n",
    "## 'Watanabe'(which has no first name)\n",
    "## 'Haruto watanabe'(where Watanabe is not capitalized)"
   ]
  },
  {
   "cell_type": "markdown",
   "id": "33dae467",
   "metadata": {},
   "source": [
    "this regex  re.compile(r'\\b[A-Z][a-zA-Z]+ Watanabe')  help to find the match the full name someone whose last name is Watanabe\n",
    "and  the first name that comes before it will always be one word that begins with a capital letter.\n",
    " "
   ]
  },
  {
   "cell_type": "code",
   "execution_count": 114,
   "id": "d06fb0d1",
   "metadata": {},
   "outputs": [
    {
     "name": "stdout",
     "output_type": "stream",
     "text": [
      " \"Alice Watanabe\" matches\n",
      " \"RoboCop Watanabe\" matches\n",
      "\"haruto Watanabe\" does not match\n",
      "\"Mr. Watanabe\" does not match\n",
      "\"Haruto watanabe\" does not match\n"
     ]
    }
   ],
   "source": [
    "import re\n",
    "\n",
    "def printMatch(name):\n",
    "    pat = re.compile(r'\\b[A-Z][a-zA-Z]+ Watanabe')\n",
    "    if pat.search(name):\n",
    "        print(' \"'+name+'\" matches')\n",
    "    else:\n",
    "        print ('\"'+name+'\" does not match')\n",
    "\n",
    "printMatch('Alice Watanabe')\n",
    "printMatch('RoboCop Watanabe')\n",
    "printMatch('haruto Watanabe')\n",
    "printMatch('Mr. Watanabe')\n",
    "printMatch('Haruto watanabe')\n",
    "\n"
   ]
  },
  {
   "cell_type": "markdown",
   "id": "a9a59cbf",
   "metadata": {},
   "source": [
    "# 22 .How would you write a regex that matches a sentence where the first word is either Alice, Bob, or Carol; the second word is either eats, pets, or throws; the third word is apples, cats, or baseballs; and the sentence ends with a period? This regex should be case-insensitive. It must match the following:\n",
    "\n",
    "## 'Alice eats apples.'\n",
    "\n",
    "## 'Bob pets cats.'\n",
    "\n",
    "## 'Carol throws baseballs.'\n",
    "\n",
    "## 'Alice throws Apples.'\n",
    "\n",
    "## 'BOB EATS CATS.'\n",
    "\n",
    "## but not the following:\n",
    "\n",
    "## 'Robocop eats apples.'\n",
    "\n",
    "## 'ALICE THROWS FOOTBALLS.'\n",
    "\n",
    "## 'Carol eats 7 cats.'\n",
    "\n"
   ]
  },
  {
   "cell_type": "markdown",
   "id": "8f8811e9",
   "metadata": {},
   "source": [
    " this regex re.compile(r'(Alice|Bob|Carol)\\s(eats|pets|throws)\\s(apples|cats|baseballs).', re.I|re.DOTALL) find  the \n",
    " that matches a sentence where the first word is either Alice, Bob, or Carol; the second word is either eats, pets, or throws; the third word is apples, cats, or baseballs; and the sentence ends with a period."
   ]
  },
  {
   "cell_type": "code",
   "execution_count": 117,
   "id": "fe66dc6f",
   "metadata": {},
   "outputs": [
    {
     "name": "stdout",
     "output_type": "stream",
     "text": [
      " \"Alice eats apples.\" matches\n",
      " \"Bob pets cats.\" matches\n",
      " \"Carol throws baseballs.\" matches\n",
      " \"Alice throws Apples.\" matches\n",
      " \"BOB EATS CATS.\" matches\n",
      "\"Robocop eats apples.\" does not match\n",
      "\"ALICE THROWS FOOTBALLS.\" does not match\n",
      "\"Carol eats 7 cats.\" does not match\n"
     ]
    }
   ],
   "source": [
    "import re\n",
    "\n",
    "def printMatch(name):\n",
    "    pat =re.compile(r'(Alice|Bob|Carol)\\s(eats|pets|throws)\\s(apples|cats|baseballs).', re.I|re.DOTALL)\n",
    "    if pat.search(name):\n",
    "        print(' \"'+name+'\" matches')\n",
    "    else:\n",
    "        print ('\"'+name+'\" does not match')\n",
    "\n",
    "printMatch('Alice eats apples.')\n",
    "printMatch('Bob pets cats.')\n",
    "printMatch('Carol throws baseballs.')\n",
    "printMatch('Alice throws Apples.')\n",
    "printMatch('BOB EATS CATS.')\n",
    "printMatch('Robocop eats apples.')\n",
    "printMatch('ALICE THROWS FOOTBALLS.')\n",
    "printMatch('Carol eats 7 cats.')\n",
    "\n"
   ]
  }
 ],
 "metadata": {
  "kernelspec": {
   "display_name": "Python 3 (ipykernel)",
   "language": "python",
   "name": "python3"
  },
  "language_info": {
   "codemirror_mode": {
    "name": "ipython",
    "version": 3
   },
   "file_extension": ".py",
   "mimetype": "text/x-python",
   "name": "python",
   "nbconvert_exporter": "python",
   "pygments_lexer": "ipython3",
   "version": "3.9.12"
  }
 },
 "nbformat": 4,
 "nbformat_minor": 5
}
