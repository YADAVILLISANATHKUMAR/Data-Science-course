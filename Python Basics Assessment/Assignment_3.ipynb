{
 "cells": [
  {
   "cell_type": "markdown",
   "id": "255de5d4",
   "metadata": {},
   "source": [
    "# 1. Why are functions advantageous to have in your programs?"
   ]
  },
  {
   "cell_type": "markdown",
   "id": "1c7539a4",
   "metadata": {},
   "source": [
    "Advantageous of function in programming are:\n",
    "    1.Functions reduce the need for duplicate code.\n",
    "    2.Reuse of code.\n",
    "    3.Decomposing complex problems into simpler pieces.\n",
    "    4.Improving clarity of the code."
   ]
  },
  {
   "cell_type": "markdown",
   "id": "ec31af09",
   "metadata": {},
   "source": [
    "# 2. When does the code in a function run: when it's specified or when it's called?"
   ]
  },
  {
   "cell_type": "code",
   "execution_count": null,
   "id": "31081a2b",
   "metadata": {},
   "outputs": [],
   "source": [
    "In programming function runs when it call .example"
   ]
  },
  {
   "cell_type": "code",
   "execution_count": 6,
   "id": "a32dd81e",
   "metadata": {},
   "outputs": [
    {
     "name": "stdout",
     "output_type": "stream",
     "text": [
      "enter the value1\n",
      "displaying value is 1\n"
     ]
    }
   ],
   "source": [
    "a= int(input(\"enter the value\"))\n",
    "def Display(a):#function creating\n",
    "    print(\"displaying value is\",a)\n",
    "Display(a)   # function calls ,without functon call we cannot run function"
   ]
  },
  {
   "cell_type": "markdown",
   "id": "6307670e",
   "metadata": {},
   "source": [
    "# 3.What statement creates a function?"
   ]
  },
  {
   "cell_type": "markdown",
   "id": "04dc856b",
   "metadata": {},
   "source": [
    "In python we can create python by using def keyword \n",
    "syntax:\n",
    "def Function Name(parameters):\n",
    "    function Body\n",
    "Function Name(arguments) #Function Calling    "
   ]
  },
  {
   "cell_type": "code",
   "execution_count": 8,
   "id": "f54fe419",
   "metadata": {},
   "outputs": [
    {
     "name": "stdout",
     "output_type": "stream",
     "text": [
      "enter the number to check even or not5\n",
      "5 is  not an even number\n"
     ]
    }
   ],
   "source": [
    "#example code for functios\n",
    "num =int(input(\"enter the number to check even or not :\"))\n",
    "def checkEven(num):\n",
    "    if(num %2 ==0):\n",
    "        print(num,\"is an even number\")\n",
    "    else :\n",
    "        print(num,\"is  not an even number\")\n",
    "checkEven(num)        \n",
    "        "
   ]
  },
  {
   "cell_type": "markdown",
   "id": "40fd3378",
   "metadata": {},
   "source": [
    "# 4.What is the difference between a function and a function call?"
   ]
  },
  {
   "cell_type": "markdown",
   "id": "b808c646",
   "metadata": {},
   "source": [
    "A function consists of the def statement and the code in its def body and A function call is what moves the program execution into the function, and the function call evaluates to the function’s return value.\n",
    "\n"
   ]
  },
  {
   "cell_type": "markdown",
   "id": "8cac40db",
   "metadata": {},
   "source": [
    "# 5.How many global scopes are there in a Python program? How many local scopes?"
   ]
  },
  {
   "cell_type": "code",
   "execution_count": null,
   "id": "702f0960",
   "metadata": {},
   "outputs": [],
   "source": [
    "There is one global scope, and a local scope is created whenever a function is called."
   ]
  },
  {
   "cell_type": "markdown",
   "id": "eb5b6a30",
   "metadata": {},
   "source": [
    "# 6. What happens to variables in a local scope when the function call returns?"
   ]
  },
  {
   "cell_type": "code",
   "execution_count": null,
   "id": "321b5128",
   "metadata": {},
   "outputs": [],
   "source": [
    "When a function returns, the local scope is destroyed, and all the variables in it are forgotten."
   ]
  },
  {
   "cell_type": "markdown",
   "id": "3f9d1799",
   "metadata": {},
   "source": [
    "# 7.What is the concept of a return value? Is it possible to have a return value in an expression?"
   ]
  },
  {
   "cell_type": "markdown",
   "id": "2ae54166",
   "metadata": {},
   "source": [
    "A return value is the value that a function call evaluates to. Like any value, a return value can be used as part of an expression."
   ]
  },
  {
   "cell_type": "markdown",
   "id": "507ecb5a",
   "metadata": {},
   "source": [
    "# 8 .If a function does not have a return statement, what is the return value of a call to that function?"
   ]
  },
  {
   "cell_type": "markdown",
   "id": "9a4c665b",
   "metadata": {},
   "source": [
    "If there is no return statement for a function, its return value is None."
   ]
  },
  {
   "cell_type": "markdown",
   "id": "d18e0992",
   "metadata": {},
   "source": [
    "# 9.How do you make a function variable refer to the global variable?"
   ]
  },
  {
   "cell_type": "markdown",
   "id": "4d625f85",
   "metadata": {},
   "source": [
    "A global statement will force a variable in a function to refer to the global variable.\n",
    "\n"
   ]
  },
  {
   "cell_type": "markdown",
   "id": "6389f0e8",
   "metadata": {},
   "source": [
    "# 10.What is the data type of None?"
   ]
  },
  {
   "cell_type": "markdown",
   "id": "6c80bbf9",
   "metadata": {},
   "source": [
    "The data type of None is NoneType."
   ]
  },
  {
   "cell_type": "code",
   "execution_count": 1,
   "id": "259a6af0",
   "metadata": {},
   "outputs": [
    {
     "data": {
      "text/plain": [
       "NoneType"
      ]
     },
     "execution_count": 1,
     "metadata": {},
     "output_type": "execute_result"
    }
   ],
   "source": [
    "type(None)"
   ]
  },
  {
   "cell_type": "markdown",
   "id": "31aff58c",
   "metadata": {},
   "source": [
    "# 11.What does the sentence import areallyourpetsnamederic do?"
   ]
  },
  {
   "cell_type": "markdown",
   "id": "a0fbd054",
   "metadata": {},
   "source": [
    "That import statement imports a module named areallyourpetsnamederic. (This isn’t a real Python module, by the way.)\n",
    "\n"
   ]
  },
  {
   "cell_type": "markdown",
   "id": "58f9faa3",
   "metadata": {},
   "source": [
    "# 12.If you had a bacon() feature in a spam module, what would you call it after importing spam??\n"
   ]
  },
  {
   "cell_type": "markdown",
   "id": "c6c67c19",
   "metadata": {},
   "source": [
    " bacon() method in a spam module, we would call it as importing spam and  bacon function can be called with spam.bacon().\n",
    "\n"
   ]
  },
  {
   "cell_type": "markdown",
   "id": "d64fab49",
   "metadata": {},
   "source": [
    "# 13.What can you do to save a programme from crashing if it encounters an error?"
   ]
  },
  {
   "cell_type": "markdown",
   "id": "5e431d10",
   "metadata": {},
   "source": [
    "Place the line of code that might cause an error in a try clause."
   ]
  },
  {
   "cell_type": "markdown",
   "id": "b16c0d9e",
   "metadata": {},
   "source": [
    "# 14.What is the purpose of the try clause? What is the purpose of the except clause?"
   ]
  },
  {
   "cell_type": "markdown",
   "id": "06508f8c",
   "metadata": {},
   "source": [
    "The code that could potentially cause an error goes in the try clause and The code that executes if an error happens goes in the except clause."
   ]
  }
 ],
 "metadata": {
  "kernelspec": {
   "display_name": "Python 3 (ipykernel)",
   "language": "python",
   "name": "python3"
  },
  "language_info": {
   "codemirror_mode": {
    "name": "ipython",
    "version": 3
   },
   "file_extension": ".py",
   "mimetype": "text/x-python",
   "name": "python",
   "nbconvert_exporter": "python",
   "pygments_lexer": "ipython3",
   "version": "3.9.12"
  }
 },
 "nbformat": 4,
 "nbformat_minor": 5
}
