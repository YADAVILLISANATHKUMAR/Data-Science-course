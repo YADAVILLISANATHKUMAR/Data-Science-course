{
 "cells": [
  {
   "cell_type": "markdown",
   "id": "dc06d508",
   "metadata": {},
   "source": [
    "# 1. Write a Python program to find sum of elements in list?"
   ]
  },
  {
   "cell_type": "code",
   "execution_count": 3,
   "id": "d5ebcb07",
   "metadata": {},
   "outputs": [
    {
     "name": "stdout",
     "output_type": "stream",
     "text": [
      "Enter the list values separated by space : 1 2 3 4 5\n",
      "Values in array are [1, 2, 3, 4, 5]\n",
      "Sum of all the elements of an array is: 15\n"
     ]
    }
   ],
   "source": [
    "l1 = [int(item) for item in input(\"Enter the list values separated by space : \").split()]\n",
    "print(f\"Values in array are {l1}\")\n",
    "sum = 0\n",
    "for i in l1:    \n",
    "    sum = sum +i\n",
    "    \n",
    "     \n",
    "print(\"Sum of all the elements of an array is: \" + str(sum))\n"
   ]
  },
  {
   "cell_type": "markdown",
   "id": "5ca7add0",
   "metadata": {},
   "source": [
    "# 2. Write a Python program to Multiply all numbers in the list?"
   ]
  },
  {
   "cell_type": "code",
   "execution_count": 7,
   "id": "ea6ce988",
   "metadata": {},
   "outputs": [
    {
     "name": "stdout",
     "output_type": "stream",
     "text": [
      "Enter the list values separated by space : 1 2 3 4 5\n",
      "Values in array are [1, 2, 3, 4, 5]\n",
      "Multiplication of all the elements of an array is:  120\n"
     ]
    }
   ],
   "source": [
    "l1 = [int(item) for item in input(\"Enter the list values separated by space : \").split()]\n",
    "print(f\"Values in array are {l1}\")\n",
    "m = 1\n",
    "for i in l1:    \n",
    "    m = m * i\n",
    "    \n",
    "     \n",
    "print(\"Multiplication of all the elements of an array is: \" , m)\n"
   ]
  },
  {
   "cell_type": "markdown",
   "id": "fbf9fa2b",
   "metadata": {},
   "source": [
    "# 3.Write a Python Program to find smallest element in an array?"
   ]
  },
  {
   "cell_type": "code",
   "execution_count": 11,
   "id": "757e3043",
   "metadata": {},
   "outputs": [
    {
     "name": "stdout",
     "output_type": "stream",
     "text": [
      "Enter the list values separated by space : 3 4 2 1 4 5\n",
      "Values in array are [3, 4, 2, 1, 4, 5]\n",
      "smallest element in an array is:  1\n"
     ]
    }
   ],
   "source": [
    "l1 = [int(item) for item in input(\"Enter the list values separated by space : \").split()]\n",
    "print(f\"Values in array are {l1}\")\n",
    "smallestNumber =l1[0]\n",
    "for i in range(0, len(l1)):    \n",
    "    if(l1[i]< smallestNumber):\n",
    "        smallestNumber =l1[i]\n",
    "    \n",
    "     \n",
    "print(\"smallest element in an array is: \" ,  smallestNumber)"
   ]
  },
  {
   "cell_type": "markdown",
   "id": "3ffca47d",
   "metadata": {},
   "source": [
    "# 4.Write a Python Program to find largest element in an array?"
   ]
  },
  {
   "cell_type": "code",
   "execution_count": 12,
   "id": "7b44204a",
   "metadata": {},
   "outputs": [
    {
     "name": "stdout",
     "output_type": "stream",
     "text": [
      "Enter the list values separated by space : 1 2 3 4 5\n",
      "Values in array are [1, 2, 3, 4, 5]\n",
      "largest element in an array is:  5\n"
     ]
    }
   ],
   "source": [
    "l1 = [int(item) for item in input(\"Enter the list values separated by space : \").split()]\n",
    "print(f\"Values in array are {l1}\")\n",
    "largestNumber = 0\n",
    "for i in range(0, len(l1)):    \n",
    "    if(l1[i]> largestNumber):\n",
    "        largestNumber =l1[i]\n",
    "    \n",
    "     \n",
    "print(\"largest element in an array is: \" ,  largestNumber)"
   ]
  },
  {
   "cell_type": "markdown",
   "id": "1391d69b",
   "metadata": {},
   "source": [
    "# 5. Write a Python program to find second largest number in a list?"
   ]
  },
  {
   "cell_type": "code",
   "execution_count": 67,
   "id": "10737fdf",
   "metadata": {},
   "outputs": [
    {
     "name": "stdout",
     "output_type": "stream",
     "text": [
      "Enter the list values separated by space :  4 5 3 2 1 7\n",
      "Values in array are [4, 5, 3, 2, 1, 7]\n",
      "second largest number in a list is \n",
      "5\n"
     ]
    }
   ],
   "source": [
    "l1 = [int(item) for item in input(\"Enter the list values separated by space : \").split()]\n",
    "print(f\"Values in array are {l1}\")\n",
    "sublist = [x for x in l1 if x < max(l1)]\n",
    "print(\"second largest number in a list is \")\n",
    "print(max(sublist))"
   ]
  },
  {
   "cell_type": "markdown",
   "id": "d46d1cc5",
   "metadata": {},
   "source": [
    "# 6. Write a Python program to find N largest elements from a list?"
   ]
  },
  {
   "cell_type": "code",
   "execution_count": 88,
   "id": "e01656fe",
   "metadata": {},
   "outputs": [
    {
     "name": "stdout",
     "output_type": "stream",
     "text": [
      "Enter the list values separated by space : 2 3 1 4 5 6 7 8 10 9\n",
      "Enter nth number to get  N largest elements from a list 3\n",
      "displaying list before sorting :\n",
      "[2, 3, 1, 4, 5, 6, 7, 8, 10, 9]\n",
      "displaying list after sorting :\n",
      "[1, 2, 3, 4, 5, 6, 7, 8, 9, 10]\n",
      "3 largest elements from a list is\n",
      "8\n"
     ]
    }
   ],
   "source": [
    "#List of numbers\n",
    "list1 = [int(item) for item in input(\"Enter the list values separated by space : \").split()]\n",
    "l2=list1.copy()\n",
    "l2.sort()\n",
    "n=int(input(\"Enter nth number to get  N largest elements from a list \"))\n",
    "print(\"displaying list before sorting :\")\n",
    "print(list1)\n",
    "# Printing the list in sorted order\n",
    "print(\"displaying list after sorting :\")\n",
    "print(l2)\n",
    "\n",
    "print(f\"{n} largest elements from a list is\")\n",
    "if(n<=len(l2)):\n",
    "    print(l2[-n])\n",
    "else:\n",
    "    print(\"out of range\")"
   ]
  },
  {
   "cell_type": "markdown",
   "id": "4c574c61",
   "metadata": {},
   "source": [
    "# 7. Write a Python program to print even numbers in a list?"
   ]
  },
  {
   "cell_type": "code",
   "execution_count": 92,
   "id": "3094194e",
   "metadata": {},
   "outputs": [
    {
     "name": "stdout",
     "output_type": "stream",
     "text": [
      "Enter the list values separated by space : 1 2 3 4 5 6\n",
      "Values in list are [1, 2, 3, 4, 5, 6]\n",
      "even numbers in a list:\n",
      "2 4 6 "
     ]
    }
   ],
   "source": [
    "list1 = [int(item) for item in input(\"Enter the list values separated by space : \").split()]\n",
    "l2=list1.copy()\n",
    "l2.sort()\n",
    "print(f\"Values in list are {l2}\")\n",
    "print(\"even numbers in a list:\")\n",
    "for i in l2:\n",
    "    if (i %2 == 0):\n",
    "        print(i ,end=\" \")"
   ]
  },
  {
   "cell_type": "markdown",
   "id": "127e5873",
   "metadata": {},
   "source": [
    "# 8. Write a Python program to print odd numbers in a list?"
   ]
  },
  {
   "cell_type": "code",
   "execution_count": 94,
   "id": "965ce8e6",
   "metadata": {},
   "outputs": [
    {
     "name": "stdout",
     "output_type": "stream",
     "text": [
      "Enter the list values separated by space : 1 3 4 5   6\n",
      "Values in list are [1, 3, 4, 5, 6]\n",
      "Odd numbers in a list:\n",
      "1 3 5 "
     ]
    }
   ],
   "source": [
    "list1 = [int(item) for item in input(\"Enter the list values separated by space : \").split()]\n",
    "l2=list1.copy()\n",
    "l2.sort()\n",
    "print(f\"Values in list are {l2}\")\n",
    "print(\"Odd numbers in a list:\")\n",
    "for i in l2:\n",
    "    if (i %2 != 0):\n",
    "        print(i ,end=\" \")"
   ]
  },
  {
   "cell_type": "markdown",
   "id": "4e945a91",
   "metadata": {},
   "source": [
    "# 9. Write a Python program to Remove empty List from List?"
   ]
  },
  {
   "cell_type": "code",
   "execution_count": 98,
   "id": "66761dd9",
   "metadata": {},
   "outputs": [
    {
     "name": "stdout",
     "output_type": "stream",
     "text": [
      "The original list is : [5, 6, [], 3, [], [], 9]\n",
      "List after empty list removal : [5, 6, 3, 9]\n"
     ]
    }
   ],
   "source": [
    "test_list = [5, 6, [], 3, [], [], 9]\n",
    "print(\"The original list is : \" + str(test_list))\n",
    "while [] in test_list :\n",
    "    test_list.remove([])\n",
    "print(\"List after empty list removal : \" + str(test_list))"
   ]
  },
  {
   "cell_type": "markdown",
   "id": "ef931548",
   "metadata": {},
   "source": [
    "# 10. Write a Python program to Cloning or Copying a list?"
   ]
  },
  {
   "cell_type": "code",
   "execution_count": 99,
   "id": "9d30ab09",
   "metadata": {},
   "outputs": [
    {
     "name": "stdout",
     "output_type": "stream",
     "text": [
      "[1, 2, 3, 4]\n"
     ]
    }
   ],
   "source": [
    "import copy\n",
    "\n",
    "li1 = [1,2,3,4]\n",
    "li2 = copy.copy(li1)\n",
    "\n",
    "print(li2)"
   ]
  },
  {
   "cell_type": "markdown",
   "id": "fd81f921",
   "metadata": {},
   "source": [
    "# 11. Write a Python program to Count occurrences of an element in a list?"
   ]
  },
  {
   "cell_type": "code",
   "execution_count": 106,
   "id": "398349bb",
   "metadata": {},
   "outputs": [
    {
     "name": "stdout",
     "output_type": "stream",
     "text": [
      "Enter the list values separated by space : 1  2 2 2 21 2 3  4 3 4 1 3\n",
      "enter the element to check number times occur in list2\n",
      "Elements in a list are : [1, 2, 2, 2, 21, 2, 3, 4, 3, 4, 1, 3]\n",
      "2 has occured 4 times in a list\n"
     ]
    }
   ],
   "source": [
    "def countOccur(list1,y):\n",
    "    count = 0\n",
    "    for element in list1:\n",
    "        if(element == y):\n",
    "            count = count + 1\n",
    "    print(f\"{ele} has occured {count} times in a list\")\n",
    "list1 = [int(item) for item in input(\"Enter the list values separated by space : \").split()]  \n",
    "ele =int(input(\"enter the element to check number times occur in list\"))\n",
    "print(\"Elements in a list are :\",list1)\n",
    "countOccur(list1,ele)\n"
   ]
  }
 ],
 "metadata": {
  "kernelspec": {
   "display_name": "Python 3 (ipykernel)",
   "language": "python",
   "name": "python3"
  },
  "language_info": {
   "codemirror_mode": {
    "name": "ipython",
    "version": 3
   },
   "file_extension": ".py",
   "mimetype": "text/x-python",
   "name": "python",
   "nbconvert_exporter": "python",
   "pygments_lexer": "ipython3",
   "version": "3.9.12"
  }
 },
 "nbformat": 4,
 "nbformat_minor": 5
}
