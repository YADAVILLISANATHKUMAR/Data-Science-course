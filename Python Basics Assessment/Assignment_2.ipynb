{
 "cells": [
  {
   "cell_type": "markdown",
   "id": "26b6c975",
   "metadata": {},
   "source": [
    "# 1.What are the two values of the Boolean data type? How do you write them?"
   ]
  },
  {
   "cell_type": "markdown",
   "id": "1298ce95",
   "metadata": {},
   "source": [
    "In Programming language boolean data types contains two values such as \"True\" and \"False\", using capital T and F, with the rest of the word in lowercase"
   ]
  },
  {
   "cell_type": "code",
   "execution_count": 6,
   "id": "d3242627",
   "metadata": {},
   "outputs": [
    {
     "data": {
      "text/plain": [
       "bool"
      ]
     },
     "execution_count": 6,
     "metadata": {},
     "output_type": "execute_result"
    }
   ],
   "source": [
    "type(True)"
   ]
  },
  {
   "cell_type": "code",
   "execution_count": 7,
   "id": "107a75a0",
   "metadata": {},
   "outputs": [
    {
     "data": {
      "text/plain": [
       "bool"
      ]
     },
     "execution_count": 7,
     "metadata": {},
     "output_type": "execute_result"
    }
   ],
   "source": [
    "type(False)"
   ]
  },
  {
   "cell_type": "markdown",
   "id": "3aca446e",
   "metadata": {},
   "source": [
    "# 2.What are the three different types of Boolean operators?"
   ]
  },
  {
   "cell_type": "markdown",
   "id": "2532bdad",
   "metadata": {},
   "source": [
    "There are three boolean operators such as And,Or,not which evaluate expression  and  return  true and false as output"
   ]
  },
  {
   "cell_type": "code",
   "execution_count": 8,
   "id": "d7e35527",
   "metadata": {},
   "outputs": [
    {
     "name": "stdout",
     "output_type": "stream",
     "text": [
      "True\n",
      "True\n",
      "True\n"
     ]
    }
   ],
   "source": [
    "# example for Boolean operators\n",
    "\n",
    "print((5>2) and (4<10)) # In And operators get true as output when both condition are true and if not we get false as output\n",
    "print ((10<5) or( 15 >10))# In or operators get true  as output when any of condition is true or else we get false \n",
    "print (not(5<1)) #In not operator Not(true) gets false as output ,silmilarly Not(False) gets True as ouput.\n"
   ]
  },
  {
   "cell_type": "markdown",
   "id": "4785a205",
   "metadata": {},
   "source": [
    "# 3. Make a list of each Boolean operator truth tables (i.e. every possible combination of Boolean values for the operator and what it evaluate )."
   ]
  },
  {
   "cell_type": "code",
   "execution_count": 16,
   "id": "460aedd8",
   "metadata": {},
   "outputs": [
    {
     "name": "stdout",
     "output_type": "stream",
     "text": [
      "using And operator with boolean values\n",
      "True and True is True\n",
      "True and Faalse is False\n",
      "False and True is False\n",
      "False and False is False\n",
      "using or operator with boolean values\n",
      "True or True is True\n",
      "True or Faalse is True\n",
      "False or True is True\n",
      "False or False is False\n",
      "using not operator with boolean values\n",
      "not(True) is False\n",
      "not(False) is True\n"
     ]
    }
   ],
   "source": [
    "# using And operator with boolean values\n",
    "print(\"using And operator with boolean values\")\n",
    "print(\"True and True is\",True and True)\n",
    "print(\"True and Faalse is\",True and False)\n",
    "print(\"False and True is\",False and True)\n",
    "print(\"False and False is\",False and False)\n",
    "\n",
    "# using or operator with boolean values\n",
    "print(\"using or operator with boolean values\")\n",
    "print(\"True or True is\",True or True)\n",
    "print(\"True or Faalse is\",True or False)\n",
    "print(\"False or True is\",False or True)\n",
    "print(\"False or False is\",False or False)\n",
    "\n",
    "# using not operator with boolean values\n",
    "print(\"using not operator with boolean values\")\n",
    "print(\"not(True) is\", not(True))\n",
    "print(\"not(False) is\", not(False))"
   ]
  },
  {
   "cell_type": "markdown",
   "id": "f1ce86a5",
   "metadata": {},
   "source": [
    "# 4 .What are the values of the following expressions?\n",
    "(5 > 4) and (3 == 5)\n",
    "not ( 5> 4)\n",
    "(5 > 4) or (3 == 5)\n",
    "not ((5 > 4) or (3 == 5))\n",
    "(True and True) and (True == False)\n",
    "(not False) or (not True)"
   ]
  },
  {
   "cell_type": "code",
   "execution_count": 9,
   "id": "e23f7a1c",
   "metadata": {},
   "outputs": [
    {
     "data": {
      "text/plain": [
       "False"
      ]
     },
     "execution_count": 9,
     "metadata": {},
     "output_type": "execute_result"
    }
   ],
   "source": [
    "(5 > 4) and (3 == 5)"
   ]
  },
  {
   "cell_type": "code",
   "execution_count": 10,
   "id": "299d4a44",
   "metadata": {},
   "outputs": [
    {
     "data": {
      "text/plain": [
       "False"
      ]
     },
     "execution_count": 10,
     "metadata": {},
     "output_type": "execute_result"
    }
   ],
   "source": [
    "not ( 5> 4)"
   ]
  },
  {
   "cell_type": "code",
   "execution_count": 11,
   "id": "7778501c",
   "metadata": {},
   "outputs": [
    {
     "data": {
      "text/plain": [
       "True"
      ]
     },
     "execution_count": 11,
     "metadata": {},
     "output_type": "execute_result"
    }
   ],
   "source": [
    "(5 > 4) or (3 == 5)"
   ]
  },
  {
   "cell_type": "code",
   "execution_count": 12,
   "id": "40877d59",
   "metadata": {},
   "outputs": [
    {
     "data": {
      "text/plain": [
       "False"
      ]
     },
     "execution_count": 12,
     "metadata": {},
     "output_type": "execute_result"
    }
   ],
   "source": [
    "not ((5 > 4) or (3 == 5))"
   ]
  },
  {
   "cell_type": "code",
   "execution_count": 13,
   "id": "5f1395d9",
   "metadata": {},
   "outputs": [
    {
     "data": {
      "text/plain": [
       "False"
      ]
     },
     "execution_count": 13,
     "metadata": {},
     "output_type": "execute_result"
    }
   ],
   "source": [
    "(True and True) and (True == False)"
   ]
  },
  {
   "cell_type": "code",
   "execution_count": 14,
   "id": "daada766",
   "metadata": {},
   "outputs": [
    {
     "data": {
      "text/plain": [
       "True"
      ]
     },
     "execution_count": 14,
     "metadata": {},
     "output_type": "execute_result"
    }
   ],
   "source": [
    "(not False) or (not True)"
   ]
  },
  {
   "cell_type": "markdown",
   "id": "d98cd304",
   "metadata": {},
   "source": [
    "# 5.What are the six comparison operators?"
   ]
  },
  {
   "cell_type": "code",
   "execution_count": 2,
   "id": "a8013f2e",
   "metadata": {},
   "outputs": [
    {
     "name": "stdout",
     "output_type": "stream",
     "text": [
      "False\n",
      "True\n",
      "True\n",
      "False\n",
      "True\n",
      "False\n"
     ]
    }
   ],
   "source": [
    " # the six comparison operators in python programming  are ==, !=, <, >, <=, and >=.\n",
    "a=10\n",
    "b=20\n",
    "print(a==b)# its checks both a and b are euqlal or not\n",
    "print(a!=b)# its checks  a is not equal  b  or not \n",
    "print(a<b) # its check a is less than b  or not\n",
    "print(a>b)# its check a is greater than b  or not\n",
    "print(a<=b)# its check a is less than or  equal to  b  or not\n",
    "print(a>=b)# its check a is greater than or equal to b  or not\n"
   ]
  },
  {
   "cell_type": "markdown",
   "id": "6a3c1145",
   "metadata": {},
   "source": [
    "# 6. How do you tell the difference between the equal to and assignment operators?Describe a condition and when you would use one."
   ]
  },
  {
   "cell_type": "markdown",
   "id": "097f350f",
   "metadata": {},
   "source": [
    "In python programming == is the equal to operator that compares two values and evaluates to a Boolean, while = is the assignment operator that stores a value in a variable.\n",
    "\n"
   ]
  },
  {
   "cell_type": "code",
   "execution_count": 10,
   "id": "4155047b",
   "metadata": {},
   "outputs": [
    {
     "name": "stdout",
     "output_type": "stream",
     "text": [
      "enter the First value1\n",
      "enter the second value2\n",
      "1 is  equal to 2 is False\n"
     ]
    }
   ],
   "source": [
    "# it check wheather a and b are equal or not\n",
    "a= int(input(\"enter the First value\"))\n",
    "b= int(input(\"enter the second value\"))\n",
    "if(a==b):\n",
    "    print(a,\"is equal to\",b,\"is\",a==b)\n",
    "else:\n",
    "    print(a,\"is  equal to\",b,\"is\",a==b)\n"
   ]
  },
  {
   "cell_type": "code",
   "execution_count": 6,
   "id": "f3c8600c",
   "metadata": {},
   "outputs": [
    {
     "name": "stdout",
     "output_type": "stream",
     "text": [
      "10\n"
     ]
    }
   ],
   "source": [
    "# a is variable name which stores values 10\n",
    "a =10 \n",
    "print(a)"
   ]
  },
  {
   "cell_type": "markdown",
   "id": "7e4dd0c7",
   "metadata": {},
   "source": [
    "7. Identify the three blocks in this code:\n",
    "spam = 0\n",
    "if spam == 10:\n",
    "print(\"eggs\")\n",
    "if spam > 5:\n",
    "print(\"bacon\")\n",
    "else:\n",
    "print(\"ham\")\n",
    "print(\"spam\")\n",
    "print(\"spam\")"
   ]
  },
  {
   "cell_type": "code",
   "execution_count": 14,
   "id": "52bfcce4",
   "metadata": {},
   "outputs": [
    {
     "name": "stdout",
     "output_type": "stream",
     "text": [
      "eggs\n",
      "bacon\n",
      "spam\n",
      "spam\n"
     ]
    }
   ],
   "source": [
    "\n",
    "spam = 0\n",
    "if spam == 10:# block 1\n",
    "    print(\"eggs\")\n",
    "    if spam > 5: # block 2 in block 1\n",
    "        print(\"bacon\")\n",
    "    else: # block 3 in block 1\n",
    "        print(\"ham\")\n",
    "    print(\"spam\")\n",
    "print(\"spam\")"
   ]
  },
  {
   "cell_type": "markdown",
   "id": "905205ee",
   "metadata": {},
   "source": [
    "# 8.Write code that prints Hello if 1 is stored in spam, prints Howdy if 2 is stored in spam, and prints Greetings! if anything else is stored in spam."
   ]
  },
  {
   "cell_type": "code",
   "execution_count": 15,
   "id": "d3dd1ead",
   "metadata": {},
   "outputs": [
    {
     "name": "stdout",
     "output_type": "stream",
     "text": [
      "Greetings!\n"
     ]
    }
   ],
   "source": [
    "if spam == 1:\n",
    "    print('Hello')\n",
    "elif spam == 2:\n",
    "    print('Howdy')\n",
    "else:\n",
    "    print('Greetings!')\n"
   ]
  },
  {
   "cell_type": "markdown",
   "id": "bef61e8f",
   "metadata": {},
   "source": [
    "# 9.If your programme is stuck in an endless loop, what keys you’ll press?"
   ]
  },
  {
   "cell_type": "code",
   "execution_count": null,
   "id": "8ab3769e",
   "metadata": {},
   "outputs": [],
   "source": [
    "we can Press CTRL-C to stop a program stuck in an infinite loop."
   ]
  },
  {
   "cell_type": "markdown",
   "id": "d690c63a",
   "metadata": {},
   "source": [
    "# 10.How can you tell the difference between break and continue?"
   ]
  },
  {
   "cell_type": "code",
   "execution_count": null,
   "id": "9462de78",
   "metadata": {},
   "outputs": [],
   "source": [
    "The break statement will move the execution outside and just after a loop. The continue statement will move the execution to the start of the loop."
   ]
  },
  {
   "cell_type": "markdown",
   "id": "49ae8282",
   "metadata": {},
   "source": [
    "# 11. In a for loop, what is the difference between range(10), range(0, 10), and range(0, 10, 1)?"
   ]
  },
  {
   "cell_type": "code",
   "execution_count": 18,
   "id": "c200bc32",
   "metadata": {},
   "outputs": [
    {
     "name": "stdout",
     "output_type": "stream",
     "text": [
      "value of range(10) is\n",
      "range(0, 10)\n",
      "value of range(0,10) is \n",
      "range(0, 10)\n",
      "value of range(0,10,1) is\n",
      "range(0, 10)\n"
     ]
    }
   ],
   "source": [
    "print(\"value of range(10) is\")\n",
    "print(range(10))\n",
    "print(\"value of range(0,10) is \")      \n",
    "print(range(0,10))\n",
    "print(\"value of range(0,10,1) is\")      \n",
    "print(range(0,10,1))"
   ]
  },
  {
   "cell_type": "markdown",
   "id": "16fd731c",
   "metadata": {},
   "source": [
    "They all do the same thing. The range(10) call ranges from 0 up to (but not including) 10, range(0, 10) explicitly tells the loop to start at 0, and range(0, 10, 1) explicitly tells the loop to increase the variable by 1 on each iteration."
   ]
  },
  {
   "cell_type": "markdown",
   "id": "694bfbf3",
   "metadata": {},
   "source": [
    "# 12. Write a short program that prints the numbers 1 to 10 using a for loop. Then write an equivalent program that prints the numbers 1 to 10 using a while loop."
   ]
  },
  {
   "cell_type": "code",
   "execution_count": 20,
   "id": "330c4f46",
   "metadata": {},
   "outputs": [
    {
     "name": "stdout",
     "output_type": "stream",
     "text": [
      "1\n",
      "2\n",
      "3\n",
      "4\n",
      "5\n",
      "6\n",
      "7\n",
      "8\n",
      "9\n",
      "10\n"
     ]
    }
   ],
   "source": [
    "for i in range(1,11):\n",
    "    print(i)"
   ]
  },
  {
   "cell_type": "code",
   "execution_count": 26,
   "id": "255f0332",
   "metadata": {},
   "outputs": [
    {
     "name": "stdout",
     "output_type": "stream",
     "text": [
      "1\n",
      "2\n",
      "3\n",
      "4\n",
      "5\n",
      "6\n",
      "7\n",
      "8\n",
      "9\n",
      "10\n"
     ]
    }
   ],
   "source": [
    "i=1\n",
    "while(i<=10):\n",
    "    print(i)\n",
    "    i=i+1"
   ]
  },
  {
   "cell_type": "markdown",
   "id": "fc921b93",
   "metadata": {},
   "source": [
    "# 13 If you had a function named bacon() inside a module named spam, how would you call it after importing spam?"
   ]
  },
  {
   "cell_type": "code",
   "execution_count": null,
   "id": "74e9b660",
   "metadata": {},
   "outputs": [],
   "source": [
    "function named bacon() inside a module named spam, we  call it after importing spam as spam.bacon()"
   ]
  }
 ],
 "metadata": {
  "kernelspec": {
   "display_name": "Python 3 (ipykernel)",
   "language": "python",
   "name": "python3"
  },
  "language_info": {
   "codemirror_mode": {
    "name": "ipython",
    "version": 3
   },
   "file_extension": ".py",
   "mimetype": "text/x-python",
   "name": "python",
   "nbconvert_exporter": "python",
   "pygments_lexer": "ipython3",
   "version": "3.9.12"
  }
 },
 "nbformat": 4,
 "nbformat_minor": 5
}
