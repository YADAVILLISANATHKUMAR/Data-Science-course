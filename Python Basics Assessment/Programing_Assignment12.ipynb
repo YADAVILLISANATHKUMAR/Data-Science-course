{
 "cells": [
  {
   "cell_type": "markdown",
   "id": "ec3a8bfb",
   "metadata": {},
   "source": [
    "# 1. Write a Python program to Extract Unique values dictionary values?"
   ]
  },
  {
   "cell_type": "code",
   "execution_count": 36,
   "id": "e0239339",
   "metadata": {},
   "outputs": [
    {
     "name": "stdout",
     "output_type": "stream",
     "text": [
      "original list\n",
      "{'a': [1, 62, 7, 8], 'b': [1, 11, 7, 5], 'c': [1, 11, 10, 8], 'd': [1, 2, 11, 8]}\n",
      "Unique values in dictionary values {1, 2, 5, 7, 8, 10, 11, 62}\n"
     ]
    }
   ],
   "source": [
    "d={'a' : [1, 62, 7, 8],\n",
    "             'b' : [1, 11, 7, 5],\n",
    "             'c' : [1, 11, 10, 8],\n",
    "             'd' : [1, 2,11 ,8]}\n",
    "print(\"original list\")\n",
    "print(d)\n",
    "l=list(d.values())\n",
    "l2=[]\n",
    "for i in l:\n",
    "    if(type(i) == int and  i not in l2):\n",
    "        l2.append(i)\n",
    "    elif(type(i) == list ):\n",
    "        for j in i:\n",
    "            if(j not in l2):\n",
    "                l2.append(j)\n",
    "print(\"Unique values in dictionary values\",set(l2))            \n",
    "        \n",
    "    "
   ]
  },
  {
   "cell_type": "markdown",
   "id": "b01ff236",
   "metadata": {},
   "source": [
    "# 2. Write a Python program to find the sum of all items in a dictionary?"
   ]
  },
  {
   "cell_type": "code",
   "execution_count": 38,
   "id": "db3f5bdf",
   "metadata": {},
   "outputs": [
    {
     "name": "stdout",
     "output_type": "stream",
     "text": [
      "original list\n",
      "{'a': 1, 'b': 2, 'c': 3}\n",
      " the sum of all items in a dictionary: 6\n"
     ]
    }
   ],
   "source": [
    "d={'a':1,'b':2,'c':3}\n",
    "print(\"original list\")\n",
    "print(d)\n",
    "l=list(d.values())\n",
    "s=0\n",
    "for i in l:\n",
    "    if(type(i) == int):\n",
    "        s=s+i\n",
    "print(\" the sum of all items in a dictionary:\",s)        "
   ]
  },
  {
   "cell_type": "markdown",
   "id": "ff429208",
   "metadata": {},
   "source": [
    "# 3. Write a Python program to Merging two Dictionaries?\n"
   ]
  },
  {
   "cell_type": "code",
   "execution_count": 45,
   "id": "65d866f3",
   "metadata": {},
   "outputs": [
    {
     "name": "stdout",
     "output_type": "stream",
     "text": [
      "{'a': 1, 'b': 2, 'c': 3, 'd': 4}\n"
     ]
    }
   ],
   "source": [
    "#method -1\n",
    "d={'a':1,'b':2,'c':3}\n",
    "d1={'d':4}\n",
    "d2=d |d1\n",
    "print(d2)"
   ]
  },
  {
   "cell_type": "code",
   "execution_count": 51,
   "id": "42296433",
   "metadata": {},
   "outputs": [
    {
     "name": "stdout",
     "output_type": "stream",
     "text": [
      "{'a': 1, 'b': 2, 'c': 3, 'd': 4}\n"
     ]
    }
   ],
   "source": [
    "# method -2\n",
    "d={'a':1,'b':2,'c':3}\n",
    "d1={'d':4}\n",
    "l3 =list(d.keys()) +list(d1.keys())\n",
    "l4=list(d.values()) +list(d1.values())\n",
    "d3=(dict(zip(l3,l4)))\n",
    "print(d3)"
   ]
  },
  {
   "cell_type": "markdown",
   "id": "d0c58c22",
   "metadata": {},
   "source": [
    "# 4. Write a Python program to convert key-values list to flat dictionary?"
   ]
  },
  {
   "cell_type": "code",
   "execution_count": 54,
   "id": "65f9546b",
   "metadata": {},
   "outputs": [
    {
     "name": "stdout",
     "output_type": "stream",
     "text": [
      "The original dictionary is : {'name': ['santh', 'sai', 'venkat'], 'age': [24, 22, 22]}\n",
      "Flattened dictionary : {'santh': 24, 'sai': 22, 'venkat': 22}\n"
     ]
    }
   ],
   "source": [
    "test_dict = {'name' : ['santh' ,'sai' ,'venkat' ],\n",
    "             'age' : [24,22,22]}\n",
    "  \n",
    "\n",
    "print(\"The original dictionary is : \" + str(test_dict))\n",
    "  \n",
    "res = dict(zip(test_dict['name'] , test_dict['age']))\n",
    "\n",
    "print(\"Flattened dictionary : \" + str(res)) "
   ]
  },
  {
   "cell_type": "markdown",
   "id": "3d301eaa",
   "metadata": {},
   "source": [
    "# 5. Write a Python program to insertion at the beginning in OrderedDict?"
   ]
  },
  {
   "cell_type": "code",
   "execution_count": 57,
   "id": "b2e07eda",
   "metadata": {},
   "outputs": [
    {
     "name": "stdout",
     "output_type": "stream",
     "text": [
      "Ordered Dictionary after insertion : OrderedDict([('venkat', '22'), ('sanath', '24'), ('sai', '22')])\n"
     ]
    }
   ],
   "source": [
    "from collections import OrderedDict\n",
    "iniordered_dict = OrderedDict([('sanath', '24'), ('sai', '22')])\n",
    "iniordered_dict.update({'venkat':'22'})\n",
    "iniordered_dict.move_to_end('venkat', last = False)\n",
    "print (\"Ordered Dictionary after insertion : \"+str(iniordered_dict))"
   ]
  },
  {
   "cell_type": "markdown",
   "id": "4beaba74",
   "metadata": {},
   "source": [
    "# 6. Write a Python program to check order of character in string using OrderedDict()?"
   ]
  },
  {
   "cell_type": "code",
   "execution_count": 63,
   "id": "b4a362c6",
   "metadata": {},
   "outputs": [
    {
     "name": "stdout",
     "output_type": "stream",
     "text": [
      "Enter the string:sanath\n",
      "enter the  pattern g\n"
     ]
    },
    {
     "data": {
      "text/plain": [
       "'The order of pattern is incorrect'"
      ]
     },
     "execution_count": 63,
     "metadata": {},
     "output_type": "execute_result"
    }
   ],
   "source": [
    "from collections import OrderedDict\n",
    "def check_order(my_input, my_pattern):\n",
    "    my_dict = OrderedDict.fromkeys(my_input)\n",
    "    pattern_length = 0\n",
    "    for key,value in my_dict.items():\n",
    "        if (key == my_pattern[pattern_length]):\n",
    "            pattern_length = pattern_length + 1\n",
    "\n",
    "        if (pattern_length == (len(my_pattern))):\n",
    "            return 'The order of pattern is correct'\n",
    "\n",
    "    return 'The order of pattern is incorrect'\n",
    "my_input = input(\"Enter the string:\")\n",
    "input_pattern = input(\"enter the  pattern \")\n",
    "check_order(my_input, input_pattern)"
   ]
  },
  {
   "cell_type": "markdown",
   "id": "9a7031c0",
   "metadata": {},
   "source": [
    "# 7. Write a Python program to sort Python Dictionaries by Key or Value?"
   ]
  },
  {
   "cell_type": "code",
   "execution_count": 64,
   "id": "ffa62702",
   "metadata": {},
   "outputs": [
    {
     "name": "stdout",
     "output_type": "stream",
     "text": [
      "[1, 2, 3, 4, 5, 6]\n",
      "[(1, 2), (2, 1), (3, 4), (4, 3), (5, 6), (6, 5)]\n"
     ]
    }
   ],
   "source": [
    "a = {1:2 ,2:1 ,4:3 ,3:4 ,6:5 ,5:6 }\n",
    "#this will print a sorted list of the keys\n",
    "print(sorted(a.keys()))\n",
    "#this will print the sorted list with items.\n",
    "print(sorted(a.items()))\n"
   ]
  },
  {
   "cell_type": "code",
   "execution_count": 65,
   "id": "310463c4",
   "metadata": {},
   "outputs": [
    {
     "name": "stdout",
     "output_type": "stream",
     "text": [
      "[1, 2, 3, 4, 5, 6]\n"
     ]
    }
   ],
   "source": [
    "a = {1:2 ,2:1 ,4:3 ,3:4 ,6:5 ,5:6 }\n",
    "print(sorted(a.values()))\n",
    "#this will print a sorted list of values.\n"
   ]
  }
 ],
 "metadata": {
  "kernelspec": {
   "display_name": "Python 3 (ipykernel)",
   "language": "python",
   "name": "python3"
  },
  "language_info": {
   "codemirror_mode": {
    "name": "ipython",
    "version": 3
   },
   "file_extension": ".py",
   "mimetype": "text/x-python",
   "name": "python",
   "nbconvert_exporter": "python",
   "pygments_lexer": "ipython3",
   "version": "3.9.12"
  }
 },
 "nbformat": 4,
 "nbformat_minor": 5
}
