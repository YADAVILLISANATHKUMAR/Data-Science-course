{
 "cells": [
  {
   "cell_type": "markdown",
   "id": "ff69fa16",
   "metadata": {},
   "source": [
    "# 1. Write a Python Program to Find the Factorial of a Number?"
   ]
  },
  {
   "cell_type": "code",
   "execution_count": 2,
   "id": "70cec3c8",
   "metadata": {},
   "outputs": [
    {
     "name": "stdout",
     "output_type": "stream",
     "text": [
      "enter the number to calculate its factorial number:10\n",
      "Factorial of 10 :  3628800\n"
     ]
    }
   ],
   "source": [
    "def factorial(n):\n",
    "    if (n==1 or n==0):\n",
    "        return 1\n",
    "    else:\n",
    "        return (n * factorial(n - 1))\n",
    "\n",
    "num = int(input(\"enter the number to calculate its factorial number:\"))\n",
    "\n",
    "print(f\"Factorial of {num} : \",factorial(num))\n"
   ]
  },
  {
   "cell_type": "markdown",
   "id": "92d5be66",
   "metadata": {},
   "source": [
    "# 2. Write a Python Program to Display the multiplication Table?"
   ]
  },
  {
   "cell_type": "code",
   "execution_count": 4,
   "id": "1a3ef497",
   "metadata": {},
   "outputs": [
    {
     "name": "stdout",
     "output_type": "stream",
     "text": [
      "Enter the number you want to generate a multiplication table for: 10\n",
      "10 X 1 = 10\n",
      "10 X 2 = 20\n",
      "10 X 3 = 30\n",
      "10 X 4 = 40\n",
      "10 X 5 = 50\n",
      "10 X 6 = 60\n",
      "10 X 7 = 70\n",
      "10 X 8 = 80\n",
      "10 X 9 = 90\n",
      "10 X 10 = 100\n"
     ]
    }
   ],
   "source": [
    "Number = int(input(\"Enter the number you want to generate a multiplication table for: \"))\n",
    "for i in range(1,11):\n",
    "    print(f\"{Number} X {i} = {Number * i}\")"
   ]
  },
  {
   "cell_type": "markdown",
   "id": "01ef9bfe",
   "metadata": {},
   "source": [
    "# 3. Write a Python Program to Print the Fibonacci sequence?"
   ]
  },
  {
   "cell_type": "code",
   "execution_count": 7,
   "id": "b99b299e",
   "metadata": {},
   "outputs": [
    {
     "name": "stdout",
     "output_type": "stream",
     "text": [
      "How many terms to print in the Fibonacci sequence : 10\n",
      "Fibonacci sequence:\n",
      "0 1 1 2 3 5 8 13 21 34 "
     ]
    }
   ],
   "source": [
    "numterms = int(input(\"How many terms to print in the Fibonacci sequence : \"))\n",
    "n1 , n2 = 0 ,1\n",
    "count = 0\n",
    "if numterms <=0:\n",
    "    print(f\"We have to enter a positive integer\")\n",
    "elif numterms == 1:\n",
    "    print(f\"Fibonacci sequence upto\",numterms,\":\")   \n",
    "    print(n1)\n",
    "else:\n",
    "    print(\"Fibonacci sequence:\")\n",
    "    while count < numterms:\n",
    "        print(n1,end=\" \")\n",
    "        nth = n1 + n2\n",
    "        n1 = n2\n",
    "        n2 = nth\n",
    "        count += 1"
   ]
  },
  {
   "cell_type": "markdown",
   "id": "b1dad0ff",
   "metadata": {},
   "source": [
    "# 4. Write a Python Program to Check Armstrong Number?"
   ]
  },
  {
   "cell_type": "code",
   "execution_count": 8,
   "id": "8f6a806b",
   "metadata": {},
   "outputs": [
    {
     "name": "stdout",
     "output_type": "stream",
     "text": [
      "Enter a number:153\n",
      "153 is an Armstrong number\n"
     ]
    }
   ],
   "source": [
    "#Armstrong number is a number that is equal to the sum of cubes of its digits i.e 153 =1^3 +5^3+3^3 =1+125+27 = 153\n",
    "Num = int(input(\"Enter a number:\"))\n",
    "sum = 0\n",
    "temp = Num\n",
    "while temp > 0:\n",
    "    digit = temp % 10\n",
    "    sum += digit**3\n",
    "    temp //=10\n",
    "if Num == sum:\n",
    "    print(Num, \"is an Armstrong number\")\n",
    "else:\n",
    "    print(Num, \"is not an Armstrong number\")"
   ]
  },
  {
   "cell_type": "markdown",
   "id": "fe2aa0ec",
   "metadata": {},
   "source": [
    "# 5. Write a Python Program to Find Armstrong Number in an Interval?"
   ]
  },
  {
   "cell_type": "code",
   "execution_count": 14,
   "id": "be33df9b",
   "metadata": {},
   "outputs": [
    {
     "name": "stdout",
     "output_type": "stream",
     "text": [
      "Enter a number: 1\n",
      "Enter a number: 1000\n",
      "Armstrong Number in an Interval 1 to 1000 \n",
      "1 2 3 4 5 6 7 8 9 153 370 371 407 "
     ]
    }
   ],
   "source": [
    "lower_num= int(input(\"Enter a number: \"))\n",
    "Upper_num= int(input(\"Enter a number: \"))\n",
    "print(f\"Armstrong Number in an Interval {lower_num} to {Upper_num} \")     \n",
    "for num in range(lower_num, Upper_num + 1):\n",
    "    order = len(str(num))\n",
    "    sum = 0\n",
    "    temp = num\n",
    "    while temp > 0:\n",
    "        digit = temp % 10\n",
    "        sum += digit ** order\n",
    "        temp //= 10\n",
    "    if num == sum:\n",
    "        print(num ,end=\" \")\n"
   ]
  },
  {
   "cell_type": "markdown",
   "id": "e8b3e8ed",
   "metadata": {},
   "source": [
    "# 6. Write a Python Program to Find the Sum of Natural Numbers?"
   ]
  },
  {
   "cell_type": "code",
   "execution_count": 18,
   "id": "64cb0ca6",
   "metadata": {},
   "outputs": [
    {
     "name": "stdout",
     "output_type": "stream",
     "text": [
      "enter the number to caluculate the Sum of  Natural Numbers :10\n",
      "the sum of first 10 numbers is \n",
      "55.0\n"
     ]
    }
   ],
   "source": [
    "num = int(input(\"enter the number to caluculate the Sum of  Natural Numbers :\"))\n",
    "print(f\"the sum of first {num} numbers is \")\n",
    "d= (num*(num+1))/2\n",
    "print(d)"
   ]
  }
 ],
 "metadata": {
  "kernelspec": {
   "display_name": "Python 3 (ipykernel)",
   "language": "python",
   "name": "python3"
  },
  "language_info": {
   "codemirror_mode": {
    "name": "ipython",
    "version": 3
   },
   "file_extension": ".py",
   "mimetype": "text/x-python",
   "name": "python",
   "nbconvert_exporter": "python",
   "pygments_lexer": "ipython3",
   "version": "3.9.12"
  }
 },
 "nbformat": 4,
 "nbformat_minor": 5
}
