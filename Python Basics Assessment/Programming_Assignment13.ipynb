{
 "cells": [
  {
   "cell_type": "markdown",
   "id": "f33f7b77",
   "metadata": {},
   "source": [
    "# Write a program that calculates and prints the value according to the given formula: \n",
    "## Q = Square root of [(2 * C * D)/H]\n",
    "## Following are the fixed values of C and H:\n",
    "## C is 50. H is 30.\n",
    "## D is the variable whose values should be input to your program in a comma-separated sequence.\n",
    "## Example\n",
    "## Let us assume the following comma separated input sequence is given to the program:\n",
    "## 100,150,180\n",
    "## The output of the program should be:\n",
    "## 18,22,24"
   ]
  },
  {
   "cell_type": "code",
   "execution_count": 1,
   "id": "af567414",
   "metadata": {},
   "outputs": [
    {
     "name": "stdout",
     "output_type": "stream",
     "text": [
      "Provide D in with comma separated: 100,150,180\n",
      "18,22,24\n"
     ]
    }
   ],
   "source": [
    "import math\n",
    "\n",
    "numbers = input(\"Provide D in with comma separated: \")\n",
    "numbers = numbers.split(',')\n",
    "\n",
    "result_list = []\n",
    "result_string = ''\n",
    "for D in numbers:\n",
    "    Q = round(math.sqrt(2 * 50 * int(D) / 30))\n",
    "    result_list.append(str(Q))\n",
    "    \n",
    "print(','.join(result_list))"
   ]
  },
  {
   "cell_type": "markdown",
   "id": "ebe96d7f",
   "metadata": {},
   "source": [
    "# 2.Write a program which takes 2 digits, X,Y as input and generates a 2-dimensional array. The element value in the i-th row and j-th column of the array should be i*j.\n",
    "## Note: i=0,1.., X-1; j=0,1,¡Y-1.\n",
    "## Example\n",
    "## Suppose the following inputs are given to the program:\n",
    "## 3,5\n",
    "## Then, the output of the program should be:\n",
    "## [[0, 0, 0, 0, 0], [0, 1, 2, 3, 4], [0, 2, 4, 6, 8]]"
   ]
  },
  {
   "cell_type": "code",
   "execution_count": 3,
   "id": "e205da13",
   "metadata": {},
   "outputs": [
    {
     "name": "stdout",
     "output_type": "stream",
     "text": [
      "Enter x : 4\n",
      "enter y : 5\n",
      "Enter the element :\n"
     ]
    },
    {
     "data": {
      "text/plain": [
       "[[0, 0, 0, 0, 0], [0, 1, 2, 3, 4], [0, 2, 4, 6, 8], [0, 3, 6, 9, 12]]"
      ]
     },
     "execution_count": 3,
     "metadata": {},
     "output_type": "execute_result"
    }
   ],
   "source": [
    "def Matrix(n,m):\n",
    "    \n",
    "    M=[]             \n",
    "    print(\"Enter the element :\")\n",
    "    for i in range(n):\n",
    "        #stor row\n",
    "        row =[]\n",
    "        for j in range(m):\n",
    "            row.append(i*j)\n",
    "        M.append(row)\n",
    "    return(M)\n",
    "\n",
    "x = int(input(\"Enter x : \"))\n",
    "y = int(input(\"enter y : \"))\n",
    "createMatrix(x,y)"
   ]
  },
  {
   "cell_type": "markdown",
   "id": "10142e17",
   "metadata": {},
   "source": [
    "# 3 .Write a program that accepts a comma separated sequence of words as input and prints the words in a comma-separated sequence after sorting them alphabetically. Suppose the following input is supplied to the program:\n",
    "## without,hello,bag,world\n",
    "## Then, the output should be:\n",
    "## bag,hello,without,world"
   ]
  },
  {
   "cell_type": "code",
   "execution_count": 13,
   "id": "ffe56ec8",
   "metadata": {},
   "outputs": [
    {
     "name": "stdout",
     "output_type": "stream",
     "text": [
      "accepts a comma separated sequence of words:\n",
      "without,hello,bag,world\n",
      "the words in a comma-separated sequence after sorting them alphabetically:\n",
      "bag,hello,without,world\n"
     ]
    }
   ],
   "source": [
    "print(\"accepts a comma separated sequence of words:\")\n",
    "a=input(\"\").split(\",\")\n",
    "b=sorted(a)\n",
    "print(\"the words in a comma-separated sequence after sorting them alphabetically:\")\n",
    "print(','.join(b))"
   ]
  },
  {
   "cell_type": "markdown",
   "id": "ea40c48d",
   "metadata": {},
   "source": [
    "# 4.Write a program that accepts a sequence of whitespace separated words as input and prints the words after removing all duplicate words and sorting them alphanumerically. Suppose the following input is supplied to the program:\n",
    "## hello world and practice makes perfect and hello world again Then, the output should be: again and hello makes perfect practice world"
   ]
  },
  {
   "cell_type": "code",
   "execution_count": 19,
   "id": "09460dd0",
   "metadata": {},
   "outputs": [
    {
     "name": "stdout",
     "output_type": "stream",
     "text": [
      "accepts a space separated sequence of words:\n",
      "hello world and practice makes perfect and hello world again\n",
      "the words after removing all duplicate words and sorting them alphanumerically :\n",
      "again and hello makes perfect practice world\n"
     ]
    }
   ],
   "source": [
    "print(\"accepts a space separated sequence of words:\")\n",
    "a=input(\"\").split(\" \")\n",
    "b=[]\n",
    "for i in a:\n",
    "    if(i not in b):\n",
    "        b.append(i)\n",
    "print(\"the words after removing all duplicate words and sorting them alphanumerically :\")        \n",
    "print(' '.join(sorted(b)))        \n",
    "        "
   ]
  },
  {
   "cell_type": "markdown",
   "id": "a4cb784f",
   "metadata": {},
   "source": [
    "# 5 .Write a program that accepts a sentence and calculate the number of letters and digits. Suppose the following input is supplied to the program:\n",
    "## hello world! 123 Then, the output should be:LETTERS 10  DIGITS 3"
   ]
  },
  {
   "cell_type": "code",
   "execution_count": 21,
   "id": "6fc3de4a",
   "metadata": {},
   "outputs": [
    {
     "name": "stdout",
     "output_type": "stream",
     "text": [
      "hello world! 123\n",
      "number of letters in sentence: 10\n",
      "number of digits in sentence: 3\n"
     ]
    }
   ],
   "source": [
    "s=input()\n",
    "l=0\n",
    "d=0\n",
    "for i in s:\n",
    "    if(i in '0123456789' ):\n",
    "        d=d+1\n",
    "    elif(i not in \" !@#$%^&*()_-+={};:\\'\\\"<>/?\"): \n",
    "        l=l+1\n",
    "print(\"number of letters in sentence:\",l)\n",
    "print(\"number of digits in sentence:\",d)\n",
    "        "
   ]
  },
  {
   "cell_type": "markdown",
   "id": "cd787d5f",
   "metadata": {},
   "source": [
    " 6 .A website requires the users to input username and password to register. Write a program to check the validity of password input by users. Following are the criteria for checking the password:\n",
    "1. At least 1 letter between [a-z]\n",
    "2. At least 1 number between [0-9]\n",
    "3. At least 1 letter between [A-Z]\n",
    "4. At least 1 character from [$#@]\n",
    "5. Minimum length of transaction password: 6\n",
    "6. Maximum length of transaction password: 12\n",
    "Your program should accept a sequence of comma separated passwords and will check them\n",
    "according to the above criteria. Passwords that match the criteria are to be printed, each\n",
    "separated by a comma.\n",
    "Example\n",
    "If the following passwords are given as input to the program:\n",
    "ABd1234@1,a F1#,2w3E*,2We3345\n",
    "Then, the output of the program should be:\n",
    "ABd1234@1"
   ]
  },
  {
   "cell_type": "code",
   "execution_count": 41,
   "id": "18ae3544",
   "metadata": {},
   "outputs": [
    {
     "name": "stdout",
     "output_type": "stream",
     "text": [
      "Enter your password : ABd1234@1,a F1#,2w3E*,2We3345\n",
      "Valid password:\n",
      "['ABd1234@1']\n"
     ]
    }
   ],
   "source": [
    "import re\n",
    "password= input(\"Enter your password : \").split(\",\")\n",
    "v=[]\n",
    "x=True\n",
    "for i in password: \n",
    "    if (len(i) < 6 or len(i) > 12):\n",
    "        continue\n",
    "    elif not re.search(\"[a-z]\",i):\n",
    "        continue\n",
    "    elif not re.search(\"[0-9]\",i):\n",
    "        continue\n",
    "    elif not re.search(\"[A-Z]\",i):\n",
    "        continue\n",
    "        \n",
    "    elif not re.search(\"[$#@]\",i):\n",
    "        continue\n",
    "    elif re.search(\"\\s\",i):\n",
    "        continue\n",
    "    else:\n",
    "        x=False\n",
    "        v.append(i)\n",
    "\n",
    "if(len(v) >0 ):\n",
    "    print(\"Valid password:\")\n",
    "    print(v)\n",
    "else:\n",
    "    print(\" there is no valid password\")\n",
    "\n",
    "    "
   ]
  },
  {
   "cell_type": "code",
   "execution_count": null,
   "id": "2e1f19af",
   "metadata": {},
   "outputs": [],
   "source": []
  }
 ],
 "metadata": {
  "kernelspec": {
   "display_name": "Python 3 (ipykernel)",
   "language": "python",
   "name": "python3"
  },
  "language_info": {
   "codemirror_mode": {
    "name": "ipython",
    "version": 3
   },
   "file_extension": ".py",
   "mimetype": "text/x-python",
   "name": "python",
   "nbconvert_exporter": "python",
   "pygments_lexer": "ipython3",
   "version": "3.9.12"
  }
 },
 "nbformat": 4,
 "nbformat_minor": 5
}
