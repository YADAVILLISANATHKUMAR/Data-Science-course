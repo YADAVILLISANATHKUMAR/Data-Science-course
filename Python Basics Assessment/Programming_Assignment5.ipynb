{
 "cells": [
  {
   "cell_type": "markdown",
   "id": "023dde4b",
   "metadata": {},
   "source": [
    "# 1. Write a Python Program to Find LCM?"
   ]
  },
  {
   "cell_type": "code",
   "execution_count": 32,
   "id": "9cf6fe2a",
   "metadata": {},
   "outputs": [
    {
     "name": "stdout",
     "output_type": "stream",
     "text": [
      "Enter the number4\n",
      "Enter the number7\n",
      "LCM of 4 and 7 is 28\n"
     ]
    }
   ],
   "source": [
    "A=int(input(\"Enter the number\"))\n",
    "B=int(input(\"Enter the number\"))\n",
    "if(A > B):\n",
    "     max=A\n",
    "else:\n",
    "     max=B \n",
    "if(max % A == 0 and max % B==0):\n",
    "    print(f\"LCM of {A} and {B} is {max}\")\n",
    "else:\n",
    "    while(True):\n",
    "        if(max % A == 0 and max % B==0):\n",
    "            lcm=max\n",
    "            break\n",
    "        max=max+1   \n",
    "        \n",
    "    print(f\"LCM of {A} and {B} is {lcm}\")\n",
    "    \n"
   ]
  },
  {
   "cell_type": "markdown",
   "id": "103da0b8",
   "metadata": {},
   "source": [
    "# 2. Write a Python Program to Find HCF?"
   ]
  },
  {
   "cell_type": "code",
   "execution_count": 8,
   "id": "e9b44935",
   "metadata": {},
   "outputs": [
    {
     "name": "stdout",
     "output_type": "stream",
     "text": [
      "Enter the first number:56\n",
      "Enter the second number:49\n",
      "HCF of 56 and 49 is 7\n"
     ]
    }
   ],
   "source": [
    "A=int(input(\"Enter the first number:\"))\n",
    "B=int(input(\"Enter the second number:\"))\n",
    "if(A > B):\n",
    "    min=B        \n",
    "else:\n",
    "    min=A\n",
    "for i in range(1,min+1):\n",
    "    if((A % i == 0) and (B % i==0)):\n",
    "        hcf =i\n",
    "print(f\"HCF of {A} and {B} is {hcf}\")\n",
    "     \n",
    "        \n",
    "    "
   ]
  },
  {
   "cell_type": "markdown",
   "id": "73232240",
   "metadata": {},
   "source": [
    "# 3. Write a Python Program to Convert Decimal to Binary, Octal and Hexadecimal?"
   ]
  },
  {
   "cell_type": "code",
   "execution_count": 1,
   "id": "36fe81ed",
   "metadata": {},
   "outputs": [
    {
     "name": "stdout",
     "output_type": "stream",
     "text": [
      " Enter the Decimal Number: 12\n",
      "The given decimal number 12 in Binary number is:  0b1100\n",
      "The given decimal number 12 in Octal number is:  0o14\n",
      "The given decimal number 12  in Hexadecimal number is:  0xc\n"
     ]
    }
   ],
   "source": [
    "def decimal_into_binary(decimal_1):\n",
    "    decimal = int(decimal_1)      \n",
    "    print (\"The given decimal number\", decimal, \"in Binary number is: \", bin(decimal))  \n",
    "def decimal_into_octal(decimal_1):  \n",
    "    decimal = int(decimal_1)\n",
    "    print (\"The given decimal number\", decimal, \"in Octal number is: \", oct(decimal))  \n",
    "def decimal_into_hexadecimal(decimal_1):\n",
    "    decimal = int(decimal_1)  \n",
    "    print (\"The given decimal number\", decimal, \" in Hexadecimal number is: \", hex(decimal))     \n",
    "decimal= int (input (\" Enter the Decimal Number: \"))  \n",
    "decimal_into_binary(decimal)  \n",
    "decimal_into_octal(decimal)  \n",
    "decimal_into_hexadecimal(decimal)"
   ]
  },
  {
   "cell_type": "markdown",
   "id": "5b136fe7",
   "metadata": {},
   "source": [
    "# 4. Write a Python Program To Find ASCII value of a character?"
   ]
  },
  {
   "cell_type": "code",
   "execution_count": 4,
   "id": "fc94a31c",
   "metadata": {},
   "outputs": [
    {
     "name": "stdout",
     "output_type": "stream",
     "text": [
      "please enter a character:a\n",
      "The ASCII value of ais 97\n"
     ]
    }
   ],
   "source": [
    "n = input(\"please enter a character:\")\n",
    "print(\"The ASCII value of \"+n+\"is\",ord(n))"
   ]
  },
  {
   "cell_type": "markdown",
   "id": "a0964416",
   "metadata": {},
   "source": [
    "# 5. Write a Python Program to Make a Simple Calculator with 4 basic mathematical operations?"
   ]
  },
  {
   "cell_type": "code",
   "execution_count": 13,
   "id": "b6549d5d",
   "metadata": {},
   "outputs": [
    {
     "name": "stdout",
     "output_type": "stream",
     "text": [
      "Select operation.\n",
      "1.Add\n",
      "2.Subtract\n",
      "3.Multiply\n",
      "4.Divide\n",
      "Enter choice(1/2/3/4): 1\n",
      "Enter first number: 3\n",
      "Enter second number: 4\n",
      "3.0 + 4.0 = 7.0\n",
      "Let's do next calculation? (yes/no/y/n): n\n"
     ]
    }
   ],
   "source": [
    "### This function adds two numbers\n",
    "def add(x, y):\n",
    "    return x + y\n",
    "# This function subtracts two numbers\n",
    "def subtract(x, y):\n",
    "    return x - y\n",
    "# This function multiplies two numbers\n",
    "def multiply(x, y):\n",
    "    return x * y\n",
    "# This function divides two numbers\n",
    "def divide(x, y):\n",
    "    return x / y\n",
    "print(\"Select operation.\")\n",
    "print(\"1.Add\")\n",
    "print(\"2.Subtract\")\n",
    "print(\"3.Multiply\")\n",
    "print(\"4.Divide\")\n",
    "while True:\n",
    "    # take input from the user\n",
    "    choice = input(\"Enter choice(1/2/3/4): \")\n",
    "\n",
    "    # check if choice is one of the four options\n",
    "    if choice in ('1', '2', '3', '4','5'):\n",
    "        num1 = float(input(\"Enter first number: \"))\n",
    "        num2 = float(input(\"Enter second number: \"))\n",
    "\n",
    "        if choice == '1':\n",
    "            print(num1, \"+\", num2, \"=\", add(num1, num2))\n",
    "\n",
    "        elif choice == '2':\n",
    "            print(num1, \"-\", num2, \"=\", subtract(num1, num2))\n",
    "\n",
    "        elif choice == '3':\n",
    "            print(num1, \"*\", num2, \"=\", multiply(num1, num2))\n",
    "\n",
    "        elif choice == '4':\n",
    "            print(num1, \"/\", num2, \"=\", divide(num1, num2))\n",
    "        \n",
    "    # check if user wants another calculation\n",
    "    # break the while loop if answer is no\n",
    "    next_calculation = input(\"Let's do next calculation? (yes/no/y/n): \")\n",
    "    if next_calculation == \"n\" or next_calculation == \"no\" :\n",
    "        break\n",
    "    elif next_calculation == \"y\" or next_calculation == \"yes\" :\n",
    "        continue   \n",
    "    else:\n",
    "        print(\"Invalid Input\")"
   ]
  }
 ],
 "metadata": {
  "kernelspec": {
   "display_name": "Python 3 (ipykernel)",
   "language": "python",
   "name": "python3"
  },
  "language_info": {
   "codemirror_mode": {
    "name": "ipython",
    "version": 3
   },
   "file_extension": ".py",
   "mimetype": "text/x-python",
   "name": "python",
   "nbconvert_exporter": "python",
   "pygments_lexer": "ipython3",
   "version": "3.9.12"
  }
 },
 "nbformat": 4,
 "nbformat_minor": 5
}
