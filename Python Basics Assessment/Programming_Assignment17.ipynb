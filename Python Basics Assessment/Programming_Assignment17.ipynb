{
 "cells": [
  {
   "cell_type": "markdown",
   "id": "1fc37b92",
   "metadata": {},
   "source": [
    "# 1.Create a function that takes three arguments a, b, c and returns the sum of the numbers that are evenly divided by c from the range a, b inclusive.\n",
    "## Examples\n",
    "## evenly_divisible(1, 10, 20) ➞ 0\n",
    "## No number between 1 and 10 can be evenly divided by 20.\n",
    "# evenly_divisible(1, 10, 2) ➞ 30\n",
    "## 2 + 4 + 6 + 8 + 10 = 30\n",
    "## evenly_divisible(1, 10, 3) ➞ 18\n",
    "## 3 + 6 + 9 = 18\n"
   ]
  },
  {
   "cell_type": "code",
   "execution_count": 24,
   "id": "a2a9155b",
   "metadata": {},
   "outputs": [
    {
     "name": "stdout",
     "output_type": "stream",
     "text": [
      "enter the maximum number:10\n",
      "enter the number to divide evenly divide the range of 1 to 10 number 3\n",
      "sum of number between 1 and 10  which evenly divided by 3 is 18\n"
     ]
    }
   ],
   "source": [
    "def evenly_divisible(b,c,a=1):\n",
    "    s=0\n",
    "    for i in range(a-1,b+1,c):\n",
    "        s=s+i\n",
    "    if(s>0):\n",
    "        print(f\"sum of number between 1 and 10  which evenly divided by {c} is {s}\") \n",
    "    else : \n",
    "        print(f\"No number between {a}and {b} can be evenly divided by {c}\")\n",
    "b=int(input(\"enter the maximum number:\"))\n",
    "c=int(input(f\"enter the number to divide evenly divide the range of 1 to {b} number \"))\n",
    "evenly_divisible(b ,c ,a=1)        "
   ]
  },
  {
   "cell_type": "markdown",
   "id": "2a773f42",
   "metadata": {},
   "source": [
    "# 2. Create a function that returns True if a given inequality expression is correct and False otherwise.\n",
    "## Examples\n",
    "## correct_signs(\"3 < 7 < 11\") ➞ True\n",
    "## correct_signs(\"13 > 44 > 33 > 1\") ➞ False\n",
    "## correct_signs(\"1 < 2 < 6 < 9 > 3\") ➞ True"
   ]
  },
  {
   "cell_type": "code",
   "execution_count": 27,
   "id": "3a975431",
   "metadata": {},
   "outputs": [
    {
     "name": "stdout",
     "output_type": "stream",
     "text": [
      "True\n",
      "False\n",
      "True\n"
     ]
    }
   ],
   "source": [
    "def correct_signs ( txt ) : \n",
    "    return eval ( txt )\n",
    "print(correct_signs(\"3 < 7 < 11\"))\n",
    "print(correct_signs(\"13 > 44 > 33 > 1\"))\n",
    "print(correct_signs(\"1 < 2 < 6 < 9 > 3\"))"
   ]
  },
  {
   "cell_type": "markdown",
   "id": "81d9fbc1",
   "metadata": {},
   "source": [
    "# 3 .Create a function that replaces all the vowels in a string with a specified character.\n",
    "## Examples\n",
    "## replace_vowels('the aardvark', '#') ➞ 'th# ##rdv#rk'\n",
    "## replace_vowels('minnie mouse', '?') ➞ 'm?nn?? m??s?'\n",
    "## replace_vowels('shakespeare', '*') ➞ 'sh*k*sp**r* '\n"
   ]
  },
  {
   "cell_type": "code",
   "execution_count": 36,
   "id": "d9d40604",
   "metadata": {},
   "outputs": [
    {
     "name": "stdout",
     "output_type": "stream",
     "text": [
      "Enter the string :shakespeare\n",
      "enter the sysmbol to replace  it vowel characters in string*\n",
      "sh*k*sp**r*\n"
     ]
    }
   ],
   "source": [
    "def replace_vowels(s, sys):\n",
    "    vowels='aeiou' \n",
    "    s1=s\n",
    "    for i in s1:\n",
    "        if(i in vowels):\n",
    "             s1 = s1.replace(i, sys)  \n",
    "    print(s1) \n",
    "s=input(\"Enter the string :\").lower()\n",
    "sys=input(\"enter the sysmbol to replace  it vowel characters in string\")\n",
    "    \n",
    "replace_vowels(s, sys)   "
   ]
  },
  {
   "cell_type": "markdown",
   "id": "28bfdb31",
   "metadata": {},
   "source": [
    "# 4. Write a function that calculates the factorial of a number recursively.\n",
    "## Examples\n",
    "## factorial(5) ➞ 120\n",
    "## factorial(3) ➞ 6\n",
    "## factorial(1) ➞ 1\n",
    "## factorial(0) ➞ 1\n"
   ]
  },
  {
   "cell_type": "code",
   "execution_count": 37,
   "id": "fc2a73a1",
   "metadata": {},
   "outputs": [
    {
     "name": "stdout",
     "output_type": "stream",
     "text": [
      "enter a number :5\n",
      "Factorial of 5 is 120\n"
     ]
    }
   ],
   "source": [
    "def factorial(n):     \n",
    "    if n == 0:\n",
    "        return 1    \n",
    "    return n * factorial(n-1)\n",
    "\n",
    "num = int(input('enter a number :'))\n",
    "print(\"Factorial of\", num, \"is\", factorial(num))"
   ]
  },
  {
   "cell_type": "markdown",
   "id": "e32fd7c7",
   "metadata": {},
   "source": [
    "# 5. Hamming distance is the number of characters that differ between two strings. To illustrate:  String1: 'abcbba' String2: 'abcbda' Hamming Distance: 1 - 'b' vs. 'd' is the only difference. Create a function that computes the hamming distance between two strings.\n",
    "## Examples\n",
    "## hamming_distance('abcde', 'bcdef') ➞ 5\n",
    "## hamming_distance('abcde', 'abcde') ➞ 0\n",
    "## hamming_distance('strong', 'strung') ➞ 1"
   ]
  },
  {
   "cell_type": "code",
   "execution_count": 38,
   "id": "72e1ffef",
   "metadata": {},
   "outputs": [
    {
     "name": "stdout",
     "output_type": "stream",
     "text": [
      "enter the string1:abcde\n",
      "enter the string2:bcdef\n",
      "5\n"
     ]
    }
   ],
   "source": [
    "def hamming_distance(str1, str2):\n",
    "    i = 0\n",
    "    count = 0\n",
    " \n",
    "    while(i < len(str1)):\n",
    "        if(str1[i] != str2[i]):\n",
    "            count += 1\n",
    "        i += 1\n",
    "    return count\n",
    " \n",
    "# Driver code \n",
    "str1 = input(\"enter the string1:\")\n",
    "str2 = input(\"enter the string2:\")\n",
    " \n",
    "# function call\n",
    "print(hamming_distance(str1, str2))"
   ]
  },
  {
   "cell_type": "code",
   "execution_count": null,
   "id": "37c22ffa",
   "metadata": {},
   "outputs": [],
   "source": []
  }
 ],
 "metadata": {
  "kernelspec": {
   "display_name": "Python 3 (ipykernel)",
   "language": "python",
   "name": "python3"
  },
  "language_info": {
   "codemirror_mode": {
    "name": "ipython",
    "version": 3
   },
   "file_extension": ".py",
   "mimetype": "text/x-python",
   "name": "python",
   "nbconvert_exporter": "python",
   "pygments_lexer": "ipython3",
   "version": "3.9.12"
  }
 },
 "nbformat": 4,
 "nbformat_minor": 5
}
