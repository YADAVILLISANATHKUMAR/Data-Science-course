{
 "cells": [
  {
   "cell_type": "markdown",
   "id": "c9531339",
   "metadata": {},
   "source": [
    "# 1. Write a Python Program to Add Two Matrices?\n"
   ]
  },
  {
   "cell_type": "code",
   "execution_count": 50,
   "id": "29d68d5a",
   "metadata": {},
   "outputs": [
    {
     "name": "stdout",
     "output_type": "stream",
     "text": [
      "enter the number of rows in matrix2\n",
      "enter the number of columns in matrix2\n",
      "Enter the element of 0 row and 0 column in Matrix A : 1\n",
      "Enter the element of 0 row and 1 column in Matrix A : 1\n",
      "Enter the element of 1 row and 0 column in Matrix A : 1\n",
      "Enter the element of 1 row and 1 column in Matrix A : 1\n",
      "Enter the element of 0 row and 0 column in Matrix B : 1\n",
      "Enter the element of 0 row and 1 column in Matrix B : 1\n",
      "Enter the element of 1 row and 0 column in Matrix B : 1\n",
      "Enter the element of 1 row and 1 column in Matrix B : 1\n",
      "A  matrix is\n",
      "[1, 1]\n",
      "[1, 1]\n",
      "B  matrix is\n",
      "[1, 1]\n",
      "[1, 1]\n",
      " Sum of A and B matrix is\n",
      "[2, 2]\n",
      "[2, 2]\n"
     ]
    }
   ],
   "source": [
    "m = int(input(\"enter the number of rows in matrix\"))\n",
    "n = int(input(\"enter the number of columns in matrix\"))\n",
    "matrixA =[]\n",
    "matrixB =[]\n",
    "sumMatrix =[]\n",
    "for i in range(m):\n",
    "    matrixA.append([0 for  j in range(n)])\n",
    "    for j in range(n):\n",
    "        num = int(input(f\"Enter the element of {i} row and {j} column in Matrix A : \"))\n",
    "        matrixA[i][j] =num      \n",
    "for i in range(m):\n",
    "    matrixB.append([0 for  j in range(n)])\n",
    "    for j in range(n):\n",
    "        num = int(input(f\"Enter the element of {i} row and {j} column in Matrix B : \"))\n",
    "        matrixB[i][j] =num         \n",
    "for i in range(m):\n",
    "    sumMatrix.append([0 for  j in range(n)])\n",
    "    for j in range(n):\n",
    "        sumMatrix[i][j] = matrixA[i][j] + matrixB[i][j]               \n",
    "print(\"A  matrix is\") \n",
    "for i in matrixA:\n",
    "    print(i)\n",
    "print(\"B  matrix is\") \n",
    "for i in matrixB:\n",
    "    print(i) \n",
    "print(\" Sum of A and B matrix is\") \n",
    "for i in sumMatrix:\n",
    "    print(i)        "
   ]
  },
  {
   "cell_type": "markdown",
   "id": "6f1fdc9b",
   "metadata": {},
   "source": [
    "# 2. Write a Python Program to Multiply Two Matrices?\n"
   ]
  },
  {
   "cell_type": "code",
   "execution_count": 47,
   "id": "af706e0f",
   "metadata": {},
   "outputs": [
    {
     "name": "stdout",
     "output_type": "stream",
     "text": [
      "enter the number of rows in matrixA:2\n",
      "enter the number of columns in matrixA:2\n",
      "enter the number of rows in matrixB:1\n",
      "enter the number of columns in matrixB:1\n",
      "Enter the elements in matrix A\n",
      "Enter the element of 0 row and 0 column in Matrix A : 1\n",
      "Enter the element of 0 row and 1 column in Matrix A : 1\n",
      "Enter the element of 1 row and 0 column in Matrix A : 1\n",
      "Enter the element of 1 row and 1 column in Matrix A : 1\n",
      "Enter the elements in matrix B\n",
      "Enter the element of 0 row and 0 column in Matrix B : 2\n",
      "A  matrix is\n",
      "[1, 1]\n",
      "[1, 1]\n",
      "B  matrix is\n",
      "[2]\n",
      "Order of Matrix A and Matrix B not match for Matrix multiplication\n"
     ]
    }
   ],
   "source": [
    "import numpy\n",
    "m = int(input(\"enter the number of rows in matrixA:\"))\n",
    "n = int(input(\"enter the number of columns in matrixA:\"))\n",
    "\n",
    "p = int(input(\"enter the number of rows in matrixB:\"))\n",
    "q = int(input(\"enter the number of columns in matrixB:\"))\n",
    "matrixA =[]\n",
    "matrixB =[]\n",
    "print(\"Enter the elements in matrix A\")\n",
    "for i in range(m):\n",
    "    matrixA.append([0 for  j in range(n)])\n",
    "    for j in range(n):\n",
    "        num = int(input(f\"Enter the element of {i} row and {j} column in Matrix A : \"))\n",
    "        matrixA[i][j] =num   \n",
    "print(\"Enter the elements in matrix B\")        \n",
    "for i in range(p):\n",
    "    matrixB.append([0 for  j in range(q)])\n",
    "    for j in range(q):\n",
    "        num = int(input(f\"Enter the element of {i} row and {j} column in Matrix B : \"))\n",
    "        matrixB[i][j] =num   \n",
    "print(\"A  matrix is\") \n",
    "for i in matrixA:\n",
    "    print(i)\n",
    "print(\"B  matrix is\") \n",
    "for i in matrixB:\n",
    "    print(i) \n",
    "\"\"\"\"Condition of mulitiplication of two matrices is First matrix column order should equal to second matrix row order\n",
    "then we get output order in  first matrix row  and second matrix column   for example \" A matrix order is 1X2\" and \n",
    " \" B matrix order is 2X1\" then \"Output matrix order is 1X1\" \"\"\"\n",
    "if(n==p):\n",
    "    C = numpy.matmul(matrixA,matrixB)\n",
    "    print(\"Multiplication of A And B Matrices:\")\n",
    "    print(C)\n",
    "else:\n",
    "    print(\"Order of Matrix A and Matrix B not match for Matrix multiplication\")\n",
    "            \n",
    "\n",
    "            "
   ]
  },
  {
   "cell_type": "markdown",
   "id": "69968c6b",
   "metadata": {},
   "source": [
    "# 3. Write a Python Program to Transpose a Matrix?"
   ]
  },
  {
   "cell_type": "code",
   "execution_count": 51,
   "id": "d6bdef78",
   "metadata": {},
   "outputs": [
    {
     "name": "stdout",
     "output_type": "stream",
     "text": [
      "enter the number of rows in matrix2\n",
      "enter the number of columns in matrix1\n",
      "Enter the element of 0 row and 0 column : 1\n",
      "Enter the element of 1 row and 0 column : 2\n",
      "Before Transpose of matrix is\n",
      "[1]\n",
      "[2]\n",
      "\n",
      "\n",
      "After Transpose of matrix is\n",
      "[[1 2]]\n"
     ]
    }
   ],
   "source": [
    "import numpy \n",
    "m = int(input(\"enter the number of rows in matrix\"))\n",
    "n = int(input(\"enter the number of columns in matrix\"))\n",
    "matrix =[]\n",
    "for i in range(m):\n",
    "    matrix.append([0 for  j in range(n)])\n",
    "    for j in range(n):\n",
    "        num = int(input(f\"Enter the element of {i} row and {j} column : \"))\n",
    "        matrix[i][j] =num\n",
    "print(\"Before Transpose of matrix is\") \n",
    "for i in matrix:\n",
    "    print(i)\n",
    "\"\"\"matrix=[[1,2,3],[4,5,6]]\n",
    "print(matrix)\"\"\"\n",
    "print(\"\\n\")\n",
    "print(\"After Transpose of matrix is\") \n",
    "print(numpy.transpose(matrix))"
   ]
  },
  {
   "cell_type": "markdown",
   "id": "f9af8f64",
   "metadata": {},
   "source": [
    "# 4. Write a Python Program to Sort Words in Alphabetic Order?"
   ]
  },
  {
   "cell_type": "code",
   "execution_count": 49,
   "id": "f2abbafb",
   "metadata": {},
   "outputs": [
    {
     "name": "stdout",
     "output_type": "stream",
     "text": [
      "Enter the string to display the Sort Words in Alphabetic Orderhi hello how are you\n",
      "The sorted words are:\n",
      "are\n",
      "hello\n",
      "hi\n",
      "how\n",
      "you\n"
     ]
    }
   ],
   "source": [
    "string = input(\"Enter the string to display the Sort Words in Alphabetic Order\")\n",
    "words = [word.lower() for word in string.split()]\n",
    "words.sort()\n",
    "print(\"The sorted words are:\")\n",
    "for word in words:\n",
    "    print(word)\n"
   ]
  },
  {
   "cell_type": "markdown",
   "id": "f463ac8a",
   "metadata": {},
   "source": [
    "# 5. Write a Python Program to Remove Punctuation From a String?"
   ]
  },
  {
   "cell_type": "code",
   "execution_count": 54,
   "id": "826cfcb2",
   "metadata": {},
   "outputs": [
    {
     "name": "stdout",
     "output_type": "stream",
     "text": [
      "Enter a string: Hi,Hello how are you ?\n",
      "Displaying the before Removing punctuation from a string:\n",
      "Hi,Hello how are you ?\n",
      "Displaying the after Removing punctuation from a string:\n",
      " HiHello how are you \n"
     ]
    }
   ],
   "source": [
    "enter_str = input(\"Enter a string: \")\n",
    "print(\"Displaying the before Removing punctuation from a string:\")\n",
    "print(enter_str)\n",
    "punctuation = '''''!()-[]{};:'\"\\,<>./?@#$%^&*_~'''  \n",
    "\n",
    "without_punct=\" \"\n",
    "print(\"Displaying the after Removing punctuation from a string:\")\n",
    "for char in enter_str:\n",
    "    if char not in punctuation:\n",
    "        without_punct= without_punct+char\n",
    "print(without_punct)"
   ]
  }
 ],
 "metadata": {
  "kernelspec": {
   "display_name": "Python 3 (ipykernel)",
   "language": "python",
   "name": "python3"
  },
  "language_info": {
   "codemirror_mode": {
    "name": "ipython",
    "version": 3
   },
   "file_extension": ".py",
   "mimetype": "text/x-python",
   "name": "python",
   "nbconvert_exporter": "python",
   "pygments_lexer": "ipython3",
   "version": "3.9.12"
  }
 },
 "nbformat": 4,
 "nbformat_minor": 5
}
