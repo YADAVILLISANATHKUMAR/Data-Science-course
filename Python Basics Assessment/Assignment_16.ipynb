{
 "cells": [
  {
   "cell_type": "markdown",
   "id": "0b7647bd",
   "metadata": {},
   "source": [
    "# 1. Create a list called years_list, starting with the year of your birth, and each year thereafter until the year of your fifth birthday. For example, if you were born in 1980. the list would be years_list =[1980, 1981, 1982, 1983, 1984, 1985]."
   ]
  },
  {
   "cell_type": "code",
   "execution_count": 12,
   "id": "fb321f85",
   "metadata": {},
   "outputs": [
    {
     "name": "stdout",
     "output_type": "stream",
     "text": [
      "enter the your year of birth:1998\n",
      "Displaying  First five years of birth:\n",
      "[1998, 1999, 2000, 2001, 2002, 2003]\n"
     ]
    }
   ],
   "source": [
    "birth_of_year =int(input(\"enter the your year of birth:\"))\n",
    "# until 5th birth day\n",
    "n =5\n",
    "years_list =[]\n",
    "year =birth_of_year\n",
    "print(\"Displaying  First five years of birth:\")\n",
    "for i in range(n+1):\n",
    "    \n",
    "    years_list.append(birth_of_year + i)\n",
    "print(years_list)    \n",
    "    \n",
    "\n"
   ]
  },
  {
   "cell_type": "markdown",
   "id": "4de8f320",
   "metadata": {},
   "source": [
    "# 2. In which year in years_list was your third birthday? Remember, you were 0 years of age for your first year."
   ]
  },
  {
   "cell_type": "code",
   "execution_count": 11,
   "id": "5ea1ce56",
   "metadata": {},
   "outputs": [
    {
     "name": "stdout",
     "output_type": "stream",
     "text": [
      "enter the your year of birth:1998\n",
      "Displaying  First five years of birth:\n",
      "[1998, 1999, 2000, 2001, 2002, 2003]\n",
      "your third birthday is 2001 \n"
     ]
    }
   ],
   "source": [
    "birth_of_year =int(input(\"enter the your year of birth:\"))\n",
    "# until 5th birth day\n",
    "n =5\n",
    "years_list =[]\n",
    "year =birth_of_year\n",
    "print(\"Displaying  First five years of birth:\")\n",
    "for i in range(n+1):\n",
    "    \n",
    "    years_list.append(birth_of_year + i)\n",
    "print(years_list)    \n",
    "    \n",
    "print(f\"your third birthday is {years_list[3]} \")\n"
   ]
  },
  {
   "cell_type": "markdown",
   "id": "2f9a0dcc",
   "metadata": {},
   "source": [
    "# 3.In the years list, which year were you the oldest?\n"
   ]
  },
  {
   "cell_type": "code",
   "execution_count": 13,
   "id": "e116d78c",
   "metadata": {},
   "outputs": [
    {
     "name": "stdout",
     "output_type": "stream",
     "text": [
      "enter the your year of birth:1998\n",
      "Displaying  First five years of birth:\n",
      "[1998, 1999, 2000, 2001, 2002, 2003]\n",
      "your oldest year of birth in list is 2003 \n"
     ]
    }
   ],
   "source": [
    "birth_of_year =int(input(\"enter the your year of birth:\"))\n",
    "# until 5th birth day\n",
    "n =5\n",
    "years_list =[]\n",
    "year =birth_of_year\n",
    "print(\"Displaying  First five years of birth:\")\n",
    "for i in range(n+1):\n",
    "    \n",
    "    years_list.append(birth_of_year + i)\n",
    "print(years_list)    \n",
    "    \n",
    "print(f\"your oldest year of birth in list is {years_list[-1]} \")\n"
   ]
  },
  {
   "cell_type": "markdown",
   "id": "d039d507",
   "metadata": {},
   "source": [
    "# 4. Make a list called things with these three strings as elements: \"mozzarella\", \"cinderella\",\"salmonella\""
   ]
  },
  {
   "cell_type": "code",
   "execution_count": 14,
   "id": "3958690d",
   "metadata": {},
   "outputs": [],
   "source": [
    "things =[\"mozzarella\", \"cinderella\",\"salmonella\"]"
   ]
  },
  {
   "cell_type": "code",
   "execution_count": 15,
   "id": "427ec908",
   "metadata": {},
   "outputs": [
    {
     "name": "stdout",
     "output_type": "stream",
     "text": [
      "['mozzarella', 'cinderella', 'salmonella']\n"
     ]
    }
   ],
   "source": [
    "print(things)"
   ]
  },
  {
   "cell_type": "markdown",
   "id": "ca31e98b",
   "metadata": {},
   "source": [
    "# 5. Capitalize the element in things that refers to a person and then print the list. Did it change the element in the list?"
   ]
  },
  {
   "cell_type": "markdown",
   "id": "9c33101f",
   "metadata": {},
   "source": [
    "##  yes it change the element in the list when Capitalize the element in things that refers to a person and then print the list  as below ."
   ]
  },
  {
   "cell_type": "code",
   "execution_count": 26,
   "id": "95d2963f",
   "metadata": {},
   "outputs": [
    {
     "name": "stdout",
     "output_type": "stream",
     "text": [
      "before Capitalize elements in List are ['mozzarella', 'cinderella', 'salmonella']\n",
      "After Capitalize elements in List are  ['Mozzarella', 'Cinderella', 'Salmonella']\n"
     ]
    }
   ],
   "source": [
    "things =[\"mozzarella\", \"cinderella\",\"salmonella\"]\n",
    "print(\"before Capitalize elements in List are\",things)\n",
    "for i in range(len(things)):\n",
    "    things[i] = things[i].capitalize() \n",
    "print(\"After Capitalize elements in List are \",things)    \n",
    "   "
   ]
  },
  {
   "cell_type": "markdown",
   "id": "162bc5db",
   "metadata": {},
   "source": [
    "# 6. Make a surprise list with the elements \"Groucho\" ,\"Chico\" and \"Harpo\""
   ]
  },
  {
   "cell_type": "code",
   "execution_count": 28,
   "id": "42251e0c",
   "metadata": {},
   "outputs": [],
   "source": [
    "surprise_list =[\"Groucho\", \"Chico\",\"Harpo\"]"
   ]
  },
  {
   "cell_type": "code",
   "execution_count": 29,
   "id": "1f02e3f0",
   "metadata": {},
   "outputs": [
    {
     "name": "stdout",
     "output_type": "stream",
     "text": [
      "['Groucho', 'Chico', 'Harpo']\n"
     ]
    }
   ],
   "source": [
    "print(surprise_list)"
   ]
  },
  {
   "cell_type": "markdown",
   "id": "790ef784",
   "metadata": {},
   "source": [
    "# 7. Lowercase the last element of the surprise list, reverse it, and then capitalize it."
   ]
  },
  {
   "cell_type": "code",
   "execution_count": 56,
   "id": "6ac442d9",
   "metadata": {},
   "outputs": [
    {
     "data": {
      "text/plain": [
       "'harpo'"
      ]
     },
     "execution_count": 56,
     "metadata": {},
     "output_type": "execute_result"
    }
   ],
   "source": [
    "surprise_list =[\"Groucho\", \"Chico\",\"Harpo\"]\n",
    "surprise_list[-1].lower()"
   ]
  },
  {
   "cell_type": "code",
   "execution_count": 57,
   "id": "787a39e5",
   "metadata": {},
   "outputs": [
    {
     "data": {
      "text/plain": [
       "'opraH'"
      ]
     },
     "execution_count": 57,
     "metadata": {},
     "output_type": "execute_result"
    }
   ],
   "source": [
    "surprise_list[-1][::-1]"
   ]
  },
  {
   "cell_type": "code",
   "execution_count": 58,
   "id": "a2b5fd85",
   "metadata": {},
   "outputs": [
    {
     "data": {
      "text/plain": [
       "'Oprah'"
      ]
     },
     "execution_count": 58,
     "metadata": {},
     "output_type": "execute_result"
    }
   ],
   "source": [
    "surprise_list[-1][::-1].capitalize()"
   ]
  },
  {
   "cell_type": "markdown",
   "id": "9b50c48f",
   "metadata": {},
   "source": [
    "# 8. Make an English-to-French dictionary called e2f and print it. Here are your starter words: dog is chien, cat is chat, and walrus is morse."
   ]
  },
  {
   "cell_type": "code",
   "execution_count": 41,
   "id": "721bf3d3",
   "metadata": {},
   "outputs": [
    {
     "name": "stdout",
     "output_type": "stream",
     "text": [
      "{'dog': 'chien', 'cat': 'chat', 'walrus': 'morse'}\n"
     ]
    }
   ],
   "source": [
    "e2f ={\"dog\":\"chien\",\"cat\":\"chat\",\"walrus\":\"morse\"}\n",
    "print(e2f)"
   ]
  },
  {
   "cell_type": "markdown",
   "id": "398a2733",
   "metadata": {},
   "source": [
    "# 9. Write the French word for walrus in your three-word dictionary e2f."
   ]
  },
  {
   "cell_type": "code",
   "execution_count": 43,
   "id": "1267c625",
   "metadata": {},
   "outputs": [
    {
     "name": "stdout",
     "output_type": "stream",
     "text": [
      "{'dog': 'chien', 'cat': 'chat', 'walrus': 'huge'}\n"
     ]
    }
   ],
   "source": [
    "e2f ={\"dog\":\"chien\",\"cat\":\"chat\",\"walrus\":\"morse\"}\n",
    "e2f[\"walrus\"] = \"huge\"\n",
    "print(e2f)"
   ]
  },
  {
   "cell_type": "markdown",
   "id": "b3ef6ef2",
   "metadata": {},
   "source": [
    "# 10. Make a French-to-English dictionary called f2e from e2f. Use the items method."
   ]
  },
  {
   "cell_type": "code",
   "execution_count": 45,
   "id": "9c781b86",
   "metadata": {},
   "outputs": [
    {
     "name": "stdout",
     "output_type": "stream",
     "text": [
      "{'chien': 'dog', 'chat': 'cat', 'morse': 'walrus'}\n"
     ]
    }
   ],
   "source": [
    "e2f ={\"dog\":\"chien\",\"cat\":\"chat\",\"walrus\":\"morse\"}\n",
    "f2e =dict()\n",
    "for english, french in e2f.items():\n",
    "    f2e[french] = english\n",
    "print(f2e)"
   ]
  },
  {
   "cell_type": "markdown",
   "id": "548c34f6",
   "metadata": {},
   "source": [
    "# 11. Print the English version of the French word chien using f2e."
   ]
  },
  {
   "cell_type": "code",
   "execution_count": 52,
   "id": "7f99d5a9",
   "metadata": {},
   "outputs": [
    {
     "name": "stdout",
     "output_type": "stream",
     "text": [
      "English version of the French word chien is:  dog\n"
     ]
    }
   ],
   "source": [
    "f2e ={'chien': 'dog', 'chat': 'cat', 'morse': 'walrus'}\n",
    "print(\"English version of the French word chien is: \",f2e.get('chien'))"
   ]
  },
  {
   "cell_type": "markdown",
   "id": "eca4153d",
   "metadata": {},
   "source": [
    "# 12. Make and print a set of English words from the keys in e2f."
   ]
  },
  {
   "cell_type": "code",
   "execution_count": 53,
   "id": "2d9b293e",
   "metadata": {},
   "outputs": [
    {
     "data": {
      "text/plain": [
       "dict_keys(['dog', 'cat', 'walrus'])"
      ]
     },
     "execution_count": 53,
     "metadata": {},
     "output_type": "execute_result"
    }
   ],
   "source": [
    "e2f ={\"dog\":\"chien\",\"cat\":\"chat\",\"walrus\":\"morse\"}\n",
    "e2f.keys()"
   ]
  },
  {
   "cell_type": "markdown",
   "id": "b64a3645",
   "metadata": {},
   "source": [
    "# 13. Make a multilevel dictionary called life. Use these strings for the topmost keys: &#39;animals&#39;, &#39;plants&#39;,and &#39;other&#39;. Make the &#39;animals&#39; key refer to another dictionary with the keys &#39;cats&#39;, &#39;octopi&#39;, and&#39;emus&#39;. Make the &#39;cats&#39; key refer to a list of strings with the values &#39;Henri&#39;, &#39;Grumpy&#39;, and &#39;Lucy&#39;. Make all the other keys refer to empty dictionaries."
   ]
  },
  {
   "cell_type": "code",
   "execution_count": 54,
   "id": "4353e5fb",
   "metadata": {},
   "outputs": [
    {
     "name": "stdout",
     "output_type": "stream",
     "text": [
      "{'animals': {'cat': ['Henri', 'Grumpy', 'Lucy'], 'octopi': '', 'emus': ''}, 'plants': '', 'other': ''}\n"
     ]
    }
   ],
   "source": [
    "life ={'animals':{'cat':['Henri', 'Grumpy', 'Lucy'], 'octopi':'', 'emus':''},\n",
    "       'plants' :'',\n",
    "       'other' :'' }\n",
    "print(life)"
   ]
  },
  {
   "cell_type": "markdown",
   "id": "126d2232",
   "metadata": {},
   "source": [
    "# 14. Print the top-level keys of life."
   ]
  },
  {
   "cell_type": "code",
   "execution_count": 59,
   "id": "5540045c",
   "metadata": {},
   "outputs": [
    {
     "data": {
      "text/plain": [
       "dict_keys(['animals', 'plants', 'other'])"
      ]
     },
     "execution_count": 59,
     "metadata": {},
     "output_type": "execute_result"
    }
   ],
   "source": [
    "life.keys()"
   ]
  },
  {
   "cell_type": "markdown",
   "id": "459e8b75",
   "metadata": {},
   "source": [
    "# 15. Print the keys for life[&#39;animals&#39;]."
   ]
  },
  {
   "cell_type": "code",
   "execution_count": 61,
   "id": "3e17f524",
   "metadata": {},
   "outputs": [
    {
     "data": {
      "text/plain": [
       "dict_keys(['cat', 'octopi', 'emus'])"
      ]
     },
     "execution_count": 61,
     "metadata": {},
     "output_type": "execute_result"
    }
   ],
   "source": [
    "life['animals'].keys()"
   ]
  },
  {
   "cell_type": "markdown",
   "id": "416dfcc1",
   "metadata": {},
   "source": [
    "# 16. Print the values for life[&#39;animals&#39;][&#39;cats&#39;]"
   ]
  },
  {
   "cell_type": "code",
   "execution_count": 62,
   "id": "d9b7c4b1",
   "metadata": {},
   "outputs": [
    {
     "data": {
      "text/plain": [
       "['Henri', 'Grumpy', 'Lucy']"
      ]
     },
     "execution_count": 62,
     "metadata": {},
     "output_type": "execute_result"
    }
   ],
   "source": [
    "life['animals']['cat']"
   ]
  }
 ],
 "metadata": {
  "kernelspec": {
   "display_name": "Python 3 (ipykernel)",
   "language": "python",
   "name": "python3"
  },
  "language_info": {
   "codemirror_mode": {
    "name": "ipython",
    "version": 3
   },
   "file_extension": ".py",
   "mimetype": "text/x-python",
   "name": "python",
   "nbconvert_exporter": "python",
   "pygments_lexer": "ipython3",
   "version": "3.9.12"
  }
 },
 "nbformat": 4,
 "nbformat_minor": 5
}
