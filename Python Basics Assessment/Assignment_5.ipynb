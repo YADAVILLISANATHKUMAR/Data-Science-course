{
 "cells": [
  {
   "cell_type": "markdown",
   "id": "b402e3d3",
   "metadata": {},
   "source": [
    "# 1. What does an empty dictionary is code look like?"
   ]
  },
  {
   "cell_type": "code",
   "execution_count": null,
   "id": "a0498ed9",
   "metadata": {},
   "outputs": [],
   "source": [
    "Empty dictionary look like curly braces i.e {}"
   ]
  },
  {
   "cell_type": "code",
   "execution_count": 1,
   "id": "15a4413d",
   "metadata": {},
   "outputs": [
    {
     "name": "stdout",
     "output_type": "stream",
     "text": [
      "<class 'dict'>\n"
     ]
    }
   ],
   "source": [
    "a={}\n",
    "print(type(a))"
   ]
  },
  {
   "cell_type": "markdown",
   "id": "3cfb0473",
   "metadata": {},
   "source": [
    "# 2. What is the value of a dictionary value with the key \"foo\" and the value 42?"
   ]
  },
  {
   "cell_type": "code",
   "execution_count": null,
   "id": "1076d4c7",
   "metadata": {},
   "outputs": [],
   "source": [
    "the value of a dictionary value with the key \"foo\" and the value 42  is look like {\"foo\":42}"
   ]
  },
  {
   "cell_type": "code",
   "execution_count": 2,
   "id": "facc8355",
   "metadata": {},
   "outputs": [
    {
     "name": "stdout",
     "output_type": "stream",
     "text": [
      "{'foo': 42}\n"
     ]
    }
   ],
   "source": [
    "dictionary ={\"foo\":42}\n",
    "print(dictionary)"
   ]
  },
  {
   "cell_type": "markdown",
   "id": "a782a0ce",
   "metadata": {},
   "source": [
    "# 3. What is the most significant distinction between a dictionary and a list?"
   ]
  },
  {
   "cell_type": "code",
   "execution_count": null,
   "id": "e62e2eba",
   "metadata": {},
   "outputs": [],
   "source": [
    ".In python programming list is the collection of values and dictionary is  use to store data in the key -value pair.\n",
    ".Data in list access by index position of data  and  Data in dictionary access by key value/"
   ]
  },
  {
   "cell_type": "code",
   "execution_count": 13,
   "id": "18f24a19",
   "metadata": {},
   "outputs": [
    {
     "name": "stdout",
     "output_type": "stream",
     "text": [
      "1\n",
      "1\n"
     ]
    }
   ],
   "source": [
    "a=[1,2,3]\n",
    "print(a[0])# accessing first element by its index position . in python index position starts with 0.\n",
    "D={'A':1,'B':2}\n",
    "print(D['A']) # accessing first element by its key value ."
   ]
  },
  {
   "cell_type": "markdown",
   "id": "f8564658",
   "metadata": {},
   "source": [
    "# 4.What happens if you try to access spam[\"foo\"] if spam is {\"bar\": 100}?"
   ]
  },
  {
   "cell_type": "markdown",
   "id": "bcc6fd3a",
   "metadata": {},
   "source": [
    "We get KeyError because of \"foo\" is not in dictionary {\"bar\":100}"
   ]
  },
  {
   "cell_type": "code",
   "execution_count": 15,
   "id": "b03ccbc0",
   "metadata": {},
   "outputs": [
    {
     "ename": "KeyError",
     "evalue": "'foo'",
     "output_type": "error",
     "traceback": [
      "\u001b[1;31m---------------------------------------------------------------------------\u001b[0m",
      "\u001b[1;31mKeyError\u001b[0m                                  Traceback (most recent call last)",
      "Input \u001b[1;32mIn [15]\u001b[0m, in \u001b[0;36m<cell line: 2>\u001b[1;34m()\u001b[0m\n\u001b[0;32m      1\u001b[0m spam \u001b[38;5;241m=\u001b[39m {\u001b[38;5;124m\"\u001b[39m\u001b[38;5;124mbar\u001b[39m\u001b[38;5;124m\"\u001b[39m:\u001b[38;5;241m100\u001b[39m}\n\u001b[1;32m----> 2\u001b[0m \u001b[38;5;28mprint\u001b[39m(\u001b[43mspam\u001b[49m\u001b[43m[\u001b[49m\u001b[38;5;124;43m\"\u001b[39;49m\u001b[38;5;124;43mfoo\u001b[39;49m\u001b[38;5;124;43m\"\u001b[39;49m\u001b[43m]\u001b[49m)\n",
      "\u001b[1;31mKeyError\u001b[0m: 'foo'"
     ]
    }
   ],
   "source": [
    "spam = {\"bar\":100}\n",
    "print(spam[\"foo\"])"
   ]
  },
  {
   "cell_type": "markdown",
   "id": "90b92f64",
   "metadata": {},
   "source": [
    "# 5.If a dictionary is stored in spam, what is the difference between the expressions 'cat' in spam and 'cat' in spam.keys()?\n"
   ]
  },
  {
   "cell_type": "markdown",
   "id": "545a4893",
   "metadata": {},
   "source": [
    "There is no difference. The in operator checks whether a value exists as a key in the dictionary.\n",
    "\n"
   ]
  },
  {
   "cell_type": "code",
   "execution_count": 16,
   "id": "d156f00d",
   "metadata": {},
   "outputs": [
    {
     "name": "stdout",
     "output_type": "stream",
     "text": [
      "True\n"
     ]
    }
   ],
   "source": [
    "spam ={'cat' :1}\n",
    "print('cat' in spam)"
   ]
  },
  {
   "cell_type": "code",
   "execution_count": 17,
   "id": "22776bef",
   "metadata": {},
   "outputs": [
    {
     "name": "stdout",
     "output_type": "stream",
     "text": [
      "True\n"
     ]
    }
   ],
   "source": [
    "spam ={'cat' :1}\n",
    "print('cat' in spam.keys())"
   ]
  },
  {
   "cell_type": "markdown",
   "id": "ecdd8675",
   "metadata": {},
   "source": [
    "# 6 If a dictionary is stored in spam, what is the difference between the expressions 'cat' in spam and 'cat' in spam.values()?¶\n"
   ]
  },
  {
   "cell_type": "markdown",
   "id": "dc7cf801",
   "metadata": {},
   "source": [
    "'cat' in spam checks whether there is a 'cat' key in the dictionary, while 'cat' in spam.keys() checks whether there is a value 'cat' for one of the values in spam."
   ]
  },
  {
   "cell_type": "code",
   "execution_count": 18,
   "id": "8bd37262",
   "metadata": {},
   "outputs": [
    {
     "name": "stdout",
     "output_type": "stream",
     "text": [
      "True\n"
     ]
    }
   ],
   "source": [
    "spam ={'cat' :1}\n",
    "print('cat' in spam)"
   ]
  },
  {
   "cell_type": "code",
   "execution_count": 19,
   "id": "9c9c52ed",
   "metadata": {},
   "outputs": [
    {
     "name": "stdout",
     "output_type": "stream",
     "text": [
      "False\n"
     ]
    }
   ],
   "source": [
    "spam ={'cat' :1}\n",
    "print('cat' in spam.values())"
   ]
  },
  {
   "cell_type": "markdown",
   "id": "25e5ffa3",
   "metadata": {},
   "source": [
    "# 7. What is a shortcut for the following code? \n",
    "if 'color' not in spam:\n",
    "\n",
    "spam['color'] = 'black'"
   ]
  },
  {
   "cell_type": "code",
   "execution_count": 20,
   "id": "abb1c131",
   "metadata": {},
   "outputs": [
    {
     "data": {
      "text/plain": [
       "'black'"
      ]
     },
     "execution_count": 20,
     "metadata": {},
     "output_type": "execute_result"
    }
   ],
   "source": [
    "spam.setdefault('color', 'black')"
   ]
  },
  {
   "cell_type": "markdown",
   "id": "d848a72f",
   "metadata": {},
   "source": [
    "\n",
    "# 8.How do you &quot;pretty print&quot; dictionary values using which module and function?"
   ]
  },
  {
   "cell_type": "markdown",
   "id": "ac56a76d",
   "metadata": {},
   "source": [
    "use pprint()  to \"pretty print\" dictionary values  in python."
   ]
  },
  {
   "cell_type": "code",
   "execution_count": 22,
   "id": "83547fe1",
   "metadata": {},
   "outputs": [
    {
     "name": "stdout",
     "output_type": "stream",
     "text": [
      "{'a': 1, 'b': 2, 'c': 3}\n"
     ]
    }
   ],
   "source": [
    "import pprint\n",
    "d ={'a':1,'b':2,'c':3}\n",
    "pprint.pprint(d)\n"
   ]
  },
  {
   "cell_type": "code",
   "execution_count": null,
   "id": "d45a2dc3",
   "metadata": {},
   "outputs": [],
   "source": []
  }
 ],
 "metadata": {
  "kernelspec": {
   "display_name": "Python 3 (ipykernel)",
   "language": "python",
   "name": "python3"
  },
  "language_info": {
   "codemirror_mode": {
    "name": "ipython",
    "version": 3
   },
   "file_extension": ".py",
   "mimetype": "text/x-python",
   "name": "python",
   "nbconvert_exporter": "python",
   "pygments_lexer": "ipython3",
   "version": "3.9.12"
  }
 },
 "nbformat": 4,
 "nbformat_minor": 5
}
