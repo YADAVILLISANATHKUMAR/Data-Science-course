{
 "cells": [
  {
   "cell_type": "markdown",
   "id": "ff390d29",
   "metadata": {},
   "source": [
    "# 1.Create a function that takes an integer and returns a list from 1 to the given number, where: \n",
    "## 1. If the number can be divided evenly by 4, amplify it by 10 (i.e. return 10 times the number).\n",
    "## 2. If the number cannot be divided evenly by 4, simply return the number.\n",
    "## Examples\n",
    "## amplify(4) ➞ [1, 2, 3, 40]\n",
    "## amplify(3) ➞ [1, 2, 3]\n",
    "## amplify(25) ➞ [1, 2, 3, 40, 5, 6, 7, 80, 9, 10, 11, 120, 13, 14, 15, 160, 17, 18, 19, 200, 21, 22, 23, 240, 25]\n",
    "## Notes\n",
    "## 1.The given integer will always be equal to or greater than 1.\n",
    "## 2.Include the number (see example above).\n",
    "## 3.To perform this problem with its intended purpose, try doing it with list comprehensions. If that's too difficult, just solve the challenge any way you can"
   ]
  },
  {
   "cell_type": "code",
   "execution_count": 7,
   "id": "f7e9c0a3",
   "metadata": {},
   "outputs": [],
   "source": [
    "def amplify(n):\n",
    "    return [i*10 if i % 4 == 0 else i for i in range(1,n+1)]"
   ]
  },
  {
   "cell_type": "code",
   "execution_count": 8,
   "id": "2009c66a",
   "metadata": {},
   "outputs": [
    {
     "data": {
      "text/plain": [
       "[1, 2, 3, 40]"
      ]
     },
     "execution_count": 8,
     "metadata": {},
     "output_type": "execute_result"
    }
   ],
   "source": [
    "amplify(4) "
   ]
  },
  {
   "cell_type": "code",
   "execution_count": 9,
   "id": "45b4264f",
   "metadata": {},
   "outputs": [
    {
     "data": {
      "text/plain": [
       "[1, 2, 3]"
      ]
     },
     "execution_count": 9,
     "metadata": {},
     "output_type": "execute_result"
    }
   ],
   "source": [
    "\n",
    "amplify(3) "
   ]
  },
  {
   "cell_type": "code",
   "execution_count": 10,
   "id": "697299cc",
   "metadata": {},
   "outputs": [
    {
     "name": "stdout",
     "output_type": "stream",
     "text": [
      "[1, 2, 3, 40, 5, 6, 7, 80, 9, 10, 11, 120, 13, 14, 15, 160, 17, 18, 19, 200, 21, 22, 23, 240, 25]\n"
     ]
    }
   ],
   "source": [
    "print(amplify(25))"
   ]
  },
  {
   "cell_type": "markdown",
   "id": "20032a46",
   "metadata": {},
   "source": [
    "# 2.Create a function that takes a list of numbers and return the number that's unique.\n",
    "## Examples\n",
    "## unique([3, 3, 3, 7, 3, 3]) ➞ 7\n",
    "## unique([0, 0, 0.77, 0, 0]) ➞ 0.77\n",
    "## unique([0, 1, 1, 1, 1, 1, 1, 1]) ➞ 0\n",
    "## Notes\n",
    "## Test cases will always have exactly one unique number while all others are the same.\n"
   ]
  },
  {
   "cell_type": "code",
   "execution_count": 11,
   "id": "7be34106",
   "metadata": {},
   "outputs": [],
   "source": [
    "def unique(lst):\n",
    "    s = list(set(lst))# give us unique value\n",
    "    for i in s:\n",
    "        if lst.count(i) == 1:\n",
    "            return i"
   ]
  },
  {
   "cell_type": "code",
   "execution_count": 13,
   "id": "404faed6",
   "metadata": {},
   "outputs": [
    {
     "data": {
      "text/plain": [
       "7"
      ]
     },
     "execution_count": 13,
     "metadata": {},
     "output_type": "execute_result"
    }
   ],
   "source": [
    "unique([3, 3, 3, 7, 3, 3]) "
   ]
  },
  {
   "cell_type": "code",
   "execution_count": 14,
   "id": "169fb31f",
   "metadata": {},
   "outputs": [
    {
     "data": {
      "text/plain": [
       "0.77"
      ]
     },
     "execution_count": 14,
     "metadata": {},
     "output_type": "execute_result"
    }
   ],
   "source": [
    "unique([0, 0, 0.77, 0, 0]) "
   ]
  },
  {
   "cell_type": "markdown",
   "id": "387bd814",
   "metadata": {},
   "source": [
    "# 3. Your task is to create a Circle constructor that creates a circle with a radius provided by an argument. \n",
    "## The circles constructed must have two getters getArea() (PIr^2) and getPerimeter() (2PI*r) which give both respective areas and perimeter (circumference). For help with this class, I have provided you with a Rectangle constructor which you can use as a base example.\n",
    "## Examples\n",
    "## circy = Circle(11)\n",
    "## circy.getArea()\n",
    "## Should return 380.132711084365\n",
    "## circy = Circle(4.44)\n",
    "## circy.getPerimeter()\n",
    "## Should return 27.897342763877365\n",
    "## Notes\n",
    "## 1.Round results up to the nearest integer.\n"
   ]
  },
  {
   "cell_type": "code",
   "execution_count": 27,
   "id": "b5e9a855",
   "metadata": {},
   "outputs": [],
   "source": [
    "class Circle():\n",
    "    def __init__(self, r):\n",
    "        self.radius = r\n",
    "\n",
    "    def getArea(self):\n",
    "        return round(self.radius**2*3.14)\n",
    "    \n",
    "    def getPerimeter(self):\n",
    "        return 2*self.radius*3.14"
   ]
  },
  {
   "cell_type": "code",
   "execution_count": 28,
   "id": "f9154a5c",
   "metadata": {},
   "outputs": [
    {
     "data": {
      "text/plain": [
       "380"
      ]
     },
     "execution_count": 28,
     "metadata": {},
     "output_type": "execute_result"
    }
   ],
   "source": [
    "circy = Circle(11)\n",
    "circy.getArea()"
   ]
  },
  {
   "cell_type": "code",
   "execution_count": 29,
   "id": "a47a1537",
   "metadata": {},
   "outputs": [
    {
     "data": {
      "text/plain": [
       "27.883200000000002"
      ]
     },
     "execution_count": 29,
     "metadata": {},
     "output_type": "execute_result"
    }
   ],
   "source": [
    "circy = Circle(4.44)\n",
    "circy.getPerimeter()"
   ]
  },
  {
   "cell_type": "markdown",
   "id": "bcff6f0e",
   "metadata": {},
   "source": [
    "# 4. Create a function that takes a list of strings and return a list, sorted from shortest to longest.\n",
    "## Examples\n",
    "## sort_by_length(['Google', 'Apple', 'Microsoft'])➞ ['Apple', 'Google', 'Microsoft']\n",
    "## sort_by_length(['Leonardo', 'Michelangelo', 'Raphael', 'Donatello'])➞ ['Raphael', 'Leonardo', 'Donatello', 'Michelangelo']\n",
    "## sort_by_length(['Turing', 'Einstein', 'Jung']) ➞ ['Jung', 'Turing', 'Einstein']\n",
    "## Notes\n",
    "## 1.All test cases contain lists with strings of different lengths, so you won't have to deal with multiple strings of the same length."
   ]
  },
  {
   "cell_type": "code",
   "execution_count": 31,
   "id": "e41ab3a9",
   "metadata": {},
   "outputs": [],
   "source": [
    "def sort_by_length(lst):\n",
    "    return sorted(lst, key = len)\n"
   ]
  },
  {
   "cell_type": "code",
   "execution_count": 32,
   "id": "0dde25b0",
   "metadata": {},
   "outputs": [
    {
     "data": {
      "text/plain": [
       "['Apple', 'Google', 'Microsoft']"
      ]
     },
     "execution_count": 32,
     "metadata": {},
     "output_type": "execute_result"
    }
   ],
   "source": [
    "sort_by_length(['Google', 'Apple', 'Microsoft'])"
   ]
  },
  {
   "cell_type": "code",
   "execution_count": 33,
   "id": "2c74fadd",
   "metadata": {},
   "outputs": [
    {
     "data": {
      "text/plain": [
       "['Raphael', 'Leonardo', 'Donatello', 'Michelangelo']"
      ]
     },
     "execution_count": 33,
     "metadata": {},
     "output_type": "execute_result"
    }
   ],
   "source": [
    "sort_by_length(['Leonardo', 'Michelangelo', 'Raphael', 'Donatello'])"
   ]
  },
  {
   "cell_type": "markdown",
   "id": "5c2618d6",
   "metadata": {},
   "source": [
    "# 5.Create a function that validates whether three given integers form a Pythagorean triplet. The sum of the squares of the two smallest integers must equal the square of the largest number to  be validated.\n",
    "\n",
    "## Examples\n",
    "## is_triplet(3, 4, 5) ➞ True\n",
    "##  3² + 4² = 25\n",
    "## 5² = 25\n",
    "## is_triplet(13, 5, 12) ➞ True\n",
    "## 5² + 12² = 169\n",
    "## 13² = 169\n",
    "## is_triplet(1, 2, 3) ➞ False\n",
    "## 1² + 2² = 5\n",
    "## 3² = 9\n",
    "## Notes\n",
    "## Numbers may not be given in a sorted order."
   ]
  },
  {
   "cell_type": "code",
   "execution_count": 37,
   "id": "93298897",
   "metadata": {},
   "outputs": [],
   "source": [
    "def is_triplet(a,b,c):\n",
    "    lst = []\n",
    "    lst.extend((a,b,c))\n",
    "    lst = sorted(lst)\n",
    "\n",
    "    if lst[0]**2 + lst[1]**2 == lst[2]**2:\n",
    "        #print('Triplets')\n",
    "        return True\n",
    "    else:\n",
    "        #print(\"not triplet\")\n",
    "        return False"
   ]
  },
  {
   "cell_type": "code",
   "execution_count": 38,
   "id": "7f48c1a6",
   "metadata": {},
   "outputs": [
    {
     "data": {
      "text/plain": [
       "True"
      ]
     },
     "execution_count": 38,
     "metadata": {},
     "output_type": "execute_result"
    }
   ],
   "source": [
    "is_triplet(3, 4, 5)"
   ]
  },
  {
   "cell_type": "code",
   "execution_count": 39,
   "id": "882c49d0",
   "metadata": {},
   "outputs": [
    {
     "data": {
      "text/plain": [
       "False"
      ]
     },
     "execution_count": 39,
     "metadata": {},
     "output_type": "execute_result"
    }
   ],
   "source": [
    "is_triplet(1, 2, 3)"
   ]
  },
  {
   "cell_type": "code",
   "execution_count": null,
   "id": "0a7078e7",
   "metadata": {},
   "outputs": [],
   "source": []
  }
 ],
 "metadata": {
  "kernelspec": {
   "display_name": "Python 3 (ipykernel)",
   "language": "python",
   "name": "python3"
  },
  "language_info": {
   "codemirror_mode": {
    "name": "ipython",
    "version": 3
   },
   "file_extension": ".py",
   "mimetype": "text/x-python",
   "name": "python",
   "nbconvert_exporter": "python",
   "pygments_lexer": "ipython3",
   "version": "3.9.12"
  }
 },
 "nbformat": 4,
 "nbformat_minor": 5
}
