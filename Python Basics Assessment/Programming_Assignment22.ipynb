{
 "cells": [
  {
   "cell_type": "markdown",
   "id": "6e01bb6e",
   "metadata": {},
   "source": [
    "# 1. Create a function that takes three parameters where:\n",
    " ## x is the start of the range (inclusive).\n",
    " ## y is the end of the range (inclusive).\n",
    " ## n is the divisor to be checked against.\n",
    "## Return an ordered list with numbers in the range that are divisible by the third parameter n. Return an empty list if there are no numbers that are divisible by n.\n",
    "## Examples\n",
    "## list_operation(1, 10, 3) ➞ [3, 6, 9]\n",
    "## list_operation(7, 9, 2) ➞ [8]\n",
    "## list_operation(15, 20, 7) ➞ []"
   ]
  },
  {
   "cell_type": "code",
   "execution_count": 1,
   "id": "d9c878ab",
   "metadata": {},
   "outputs": [],
   "source": [
    "def list_operation(x,y,n):\n",
    "    divisor = []\n",
    "    for i in range(x,y+1):\n",
    "        if i % n == 0:\n",
    "            divisor.append(i)\n",
    "    return divisor     "
   ]
  },
  {
   "cell_type": "code",
   "execution_count": 2,
   "id": "b9f8eb9d",
   "metadata": {},
   "outputs": [
    {
     "data": {
      "text/plain": [
       "[3, 6, 9]"
      ]
     },
     "execution_count": 2,
     "metadata": {},
     "output_type": "execute_result"
    }
   ],
   "source": [
    "list_operation(1, 10, 3) \n"
   ]
  },
  {
   "cell_type": "code",
   "execution_count": 4,
   "id": "ff3b715d",
   "metadata": {},
   "outputs": [
    {
     "data": {
      "text/plain": [
       "[8]"
      ]
     },
     "execution_count": 4,
     "metadata": {},
     "output_type": "execute_result"
    }
   ],
   "source": [
    "list_operation(7, 9, 2)\n"
   ]
  },
  {
   "cell_type": "markdown",
   "id": "b6b4ebf1",
   "metadata": {},
   "source": [
    "# 2.Create a function that takes in two lists and returns True if the second list follows the first list by one element, and False otherwise. In other words, determine if the second list is the first list shifted to the right by 1.\n",
    "## Examples\n",
    "## simon_says([1, 2], [5, 1]) ➞ True\n",
    "## simon_says([1, 2], [5, 5]) ➞ False\n",
    "## simon_says([1, 2, 3, 4, 5], [0, 1, 2, 3, 4]) ➞ True\n",
    "## simon_says([1, 2, 3, 4, 5], [5, 5, 1, 2, 3]) ➞ False\n",
    "## Notes\n",
    "## 1. Both input lists will be of the same length, and will have a minimum length of 2.\n",
    "## 2.The values of the 0-indexed element in the second list and the n-1th indexed element in the first list do not matter."
   ]
  },
  {
   "cell_type": "code",
   "execution_count": 5,
   "id": "a247d0be",
   "metadata": {},
   "outputs": [],
   "source": [
    "def simon_says(ls,ls2):\n",
    "    if ls[0:len(ls)-1] == ls2[1:len(ls2)]:\n",
    "        return True\n",
    "    return False"
   ]
  },
  {
   "cell_type": "code",
   "execution_count": 6,
   "id": "8a2da462",
   "metadata": {},
   "outputs": [
    {
     "data": {
      "text/plain": [
       "True"
      ]
     },
     "execution_count": 6,
     "metadata": {},
     "output_type": "execute_result"
    }
   ],
   "source": [
    "simon_says([1, 2], [5, 1])"
   ]
  },
  {
   "cell_type": "code",
   "execution_count": 7,
   "id": "791e3ef2",
   "metadata": {},
   "outputs": [
    {
     "data": {
      "text/plain": [
       "False"
      ]
     },
     "execution_count": 7,
     "metadata": {},
     "output_type": "execute_result"
    }
   ],
   "source": [
    "simon_says([1, 2], [5, 5])"
   ]
  },
  {
   "cell_type": "markdown",
   "id": "7eb6e526",
   "metadata": {},
   "source": [
    "# 3.A group of friends have decided to start a secret society. The name will be the first letter of each of their names, sorted in alphabetical order. Create a function that takes in a list of names and returns the name of the secret society.\n",
    "\n",
    "## Examples\n",
    "## society_name(['Adam', 'Sarah', 'Malcolm']) ➞ 'AMS'\n",
    "## society_name(['Harry', 'Newt', 'Luna', 'Cho']) ➞ 'CHLN'\n",
    "## society_name(['Phoebe', 'Chandler', 'Rachel', 'Ross', 'Monica', 'Joey'])"
   ]
  },
  {
   "cell_type": "code",
   "execution_count": 8,
   "id": "4465d0ce",
   "metadata": {},
   "outputs": [],
   "source": [
    "def society_name(lst):\n",
    "    return ''.join([i[0] for i in sorted(lst)])"
   ]
  },
  {
   "cell_type": "code",
   "execution_count": 9,
   "id": "a7a16c5b",
   "metadata": {},
   "outputs": [
    {
     "data": {
      "text/plain": [
       "'AMS'"
      ]
     },
     "execution_count": 9,
     "metadata": {},
     "output_type": "execute_result"
    }
   ],
   "source": [
    "society_name(['Adam', 'Sarah', 'Malcolm'])"
   ]
  },
  {
   "cell_type": "markdown",
   "id": "18edf592",
   "metadata": {},
   "source": [
    "# 4. An isogram is a word that has no duplicate letters. Create a function that takes a string and returns either True or False depending on whether or not it's an 'isogram'.\n",
    "## Examples\n",
    "## is_isogram('Algorism') ➞ True\n",
    "## is_isogram('PasSword') ➞ False\n",
    "##  Not case sensitive.\n",
    "## Notes\n",
    "## 1.Ignore letter case (should not be case sensitive).\n",
    "## 2. All test cases contain valid one word strings.\n"
   ]
  },
  {
   "cell_type": "code",
   "execution_count": 10,
   "id": "430915e6",
   "metadata": {},
   "outputs": [],
   "source": [
    "def is_isogram(s):\n",
    "    for i in range(len(s)):\n",
    "        if s.lower().count(s[i]) > 1:\n",
    "            return False\n",
    "    else:\n",
    "        return True"
   ]
  },
  {
   "cell_type": "code",
   "execution_count": 11,
   "id": "a21d5ed6",
   "metadata": {},
   "outputs": [
    {
     "data": {
      "text/plain": [
       "True"
      ]
     },
     "execution_count": 11,
     "metadata": {},
     "output_type": "execute_result"
    }
   ],
   "source": [
    "is_isogram('Algorism')"
   ]
  },
  {
   "cell_type": "code",
   "execution_count": 12,
   "id": "306045e7",
   "metadata": {},
   "outputs": [
    {
     "data": {
      "text/plain": [
       "False"
      ]
     },
     "execution_count": 12,
     "metadata": {},
     "output_type": "execute_result"
    }
   ],
   "source": [
    "is_isogram('PasSword')"
   ]
  },
  {
   "cell_type": "markdown",
   "id": "43e00c8b",
   "metadata": {},
   "source": [
    "# 5. Create a function that takes a string and returns True or False, depending on whether the characters are in order or not.\n",
    "## Examples\n",
    "## is_in_order('abc') ➞ True\n",
    "## is_in_order('edabit') ➞ False\n",
    "## is_in_order('123') ➞ True\n",
    "## is_in_order('xyzz') ➞ True\n",
    "## Notes\n",
    "## You don't have to handle empty strings."
   ]
  },
  {
   "cell_type": "code",
   "execution_count": 13,
   "id": "5a0fbc3c",
   "metadata": {},
   "outputs": [],
   "source": [
    "def is_in_order(s):\n",
    "    n = len(s)\n",
    "    c = [s[i] for i in range(len(s))]\n",
    "    c.sort()\n",
    "    for i in range(n):\n",
    "        if c[i] != s[i]:\n",
    "            return False\n",
    "    return True"
   ]
  },
  {
   "cell_type": "code",
   "execution_count": 14,
   "id": "04eee97b",
   "metadata": {},
   "outputs": [
    {
     "data": {
      "text/plain": [
       "True"
      ]
     },
     "execution_count": 14,
     "metadata": {},
     "output_type": "execute_result"
    }
   ],
   "source": [
    "is_in_order('abc') "
   ]
  },
  {
   "cell_type": "code",
   "execution_count": 15,
   "id": "aa1fc7fc",
   "metadata": {},
   "outputs": [
    {
     "data": {
      "text/plain": [
       "False"
      ]
     },
     "execution_count": 15,
     "metadata": {},
     "output_type": "execute_result"
    }
   ],
   "source": [
    "is_in_order('edabit')"
   ]
  },
  {
   "cell_type": "code",
   "execution_count": null,
   "id": "dbd136ae",
   "metadata": {},
   "outputs": [],
   "source": []
  }
 ],
 "metadata": {
  "kernelspec": {
   "display_name": "Python 3 (ipykernel)",
   "language": "python",
   "name": "python3"
  },
  "language_info": {
   "codemirror_mode": {
    "name": "ipython",
    "version": 3
   },
   "file_extension": ".py",
   "mimetype": "text/x-python",
   "name": "python",
   "nbconvert_exporter": "python",
   "pygments_lexer": "ipython3",
   "version": "3.9.12"
  }
 },
 "nbformat": 4,
 "nbformat_minor": 5
}
