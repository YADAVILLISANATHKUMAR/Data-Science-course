{
 "cells": [
  {
   "cell_type": "markdown",
   "id": "f4ec2b69",
   "metadata": {},
   "source": [
    "# 1. Create an assert statement that throws an AssertionError if the variable spam is a negative integer."
   ]
  },
  {
   "cell_type": "code",
   "execution_count": 7,
   "id": "259a6af9",
   "metadata": {},
   "outputs": [
    {
     "name": "stdout",
     "output_type": "stream",
     "text": [
      "Enter the Number:-1\n"
     ]
    },
    {
     "ename": "AssertionError",
     "evalue": "The variable spam is a negative integer so Enter positive number",
     "output_type": "error",
     "traceback": [
      "\u001b[1;31m---------------------------------------------------------------------------\u001b[0m",
      "\u001b[1;31mAssertionError\u001b[0m                            Traceback (most recent call last)",
      "Input \u001b[1;32mIn [7]\u001b[0m, in \u001b[0;36m<cell line: 2>\u001b[1;34m()\u001b[0m\n\u001b[0;32m      1\u001b[0m spam\u001b[38;5;241m=\u001b[39m\u001b[38;5;28mint\u001b[39m(\u001b[38;5;28minput\u001b[39m(\u001b[38;5;124m\"\u001b[39m\u001b[38;5;124mEnter the Number:\u001b[39m\u001b[38;5;124m\"\u001b[39m))\n\u001b[1;32m----> 2\u001b[0m \u001b[38;5;28;01massert\u001b[39;00m spam \u001b[38;5;241m>\u001b[39m\u001b[38;5;241m0\u001b[39m, \u001b[38;5;124m'\u001b[39m\u001b[38;5;124mThe variable spam is a negative integer so Enter positive number\u001b[39m\u001b[38;5;124m'\u001b[39m\n",
      "\u001b[1;31mAssertionError\u001b[0m: The variable spam is a negative integer so Enter positive number"
     ]
    }
   ],
   "source": [
    "spam=int(input(\"Enter the Number:\"))\n",
    "assert spam >0, 'The variable spam is a negative integer so Enter positive number'\n",
    "\n"
   ]
  },
  {
   "cell_type": "markdown",
   "id": "a3381714",
   "metadata": {},
   "source": [
    "# 2. Write an assert statement that triggers an AssertionError if the variables eggs and bacon contain strings that are the same as each other, even if their cases are different (that is, 'hello' and 'hello' are considered the same, and 'goodbye' and 'GOODbye' are also considered the same)."
   ]
  },
  {
   "cell_type": "code",
   "execution_count": 22,
   "id": "837c86b9",
   "metadata": {},
   "outputs": [
    {
     "name": "stdout",
     "output_type": "stream",
     "text": [
      "enter the string:Hi\n",
      "enter the string:hi\n"
     ]
    },
    {
     "ename": "AssertionError",
     "evalue": "The eggs and bacon variables are the same!",
     "output_type": "error",
     "traceback": [
      "\u001b[1;31m---------------------------------------------------------------------------\u001b[0m",
      "\u001b[1;31mAssertionError\u001b[0m                            Traceback (most recent call last)",
      "Input \u001b[1;32mIn [22]\u001b[0m, in \u001b[0;36m<cell line: 3>\u001b[1;34m()\u001b[0m\n\u001b[0;32m      1\u001b[0m eggs \u001b[38;5;241m=\u001b[39m\u001b[38;5;28minput\u001b[39m(\u001b[38;5;124m\"\u001b[39m\u001b[38;5;124menter the string:\u001b[39m\u001b[38;5;124m\"\u001b[39m)\n\u001b[0;32m      2\u001b[0m bacon \u001b[38;5;241m=\u001b[39m\u001b[38;5;28minput\u001b[39m(\u001b[38;5;124m\"\u001b[39m\u001b[38;5;124menter the string:\u001b[39m\u001b[38;5;124m\"\u001b[39m)\n\u001b[1;32m----> 3\u001b[0m \u001b[38;5;28;01massert\u001b[39;00m eggs\u001b[38;5;241m.\u001b[39mlower() \u001b[38;5;241m!=\u001b[39m bacon\u001b[38;5;241m.\u001b[39mlower(), \u001b[38;5;124m'\u001b[39m\u001b[38;5;124mThe eggs and bacon variables are the same!\u001b[39m\u001b[38;5;124m'\u001b[39m \n\u001b[0;32m      4\u001b[0m \u001b[38;5;28mprint\u001b[39m(\u001b[38;5;124mf\u001b[39m\u001b[38;5;124m\"\u001b[39m\u001b[38;5;124mstring \u001b[39m\u001b[38;5;132;01m{\u001b[39;00meggs\u001b[38;5;132;01m}\u001b[39;00m\u001b[38;5;124m is not equal to string \u001b[39m\u001b[38;5;132;01m{\u001b[39;00mbacon\u001b[38;5;132;01m}\u001b[39;00m\u001b[38;5;124m\"\u001b[39m)\n",
      "\u001b[1;31mAssertionError\u001b[0m: The eggs and bacon variables are the same!"
     ]
    }
   ],
   "source": [
    "eggs =input(\"enter the string:\")\n",
    "bacon =input(\"enter the string:\")\n",
    "assert eggs.lower() != bacon.lower(), 'The eggs and bacon variables are the same!' \n",
    "print(f\"string {eggs} is not equal to string {bacon}\")"
   ]
  },
  {
   "cell_type": "markdown",
   "id": "380ab5b4",
   "metadata": {},
   "source": [
    "#  3. Create an assert statement that throws an AssertionError every time."
   ]
  },
  {
   "cell_type": "code",
   "execution_count": 24,
   "id": "6936d314",
   "metadata": {},
   "outputs": [
    {
     "ename": "AssertionError",
     "evalue": "This assertion always triggers.",
     "output_type": "error",
     "traceback": [
      "\u001b[1;31m---------------------------------------------------------------------------\u001b[0m",
      "\u001b[1;31mAssertionError\u001b[0m                            Traceback (most recent call last)",
      "Input \u001b[1;32mIn [24]\u001b[0m, in \u001b[0;36m<cell line: 1>\u001b[1;34m()\u001b[0m\n\u001b[1;32m----> 1\u001b[0m \u001b[38;5;28;01massert\u001b[39;00m \u001b[38;5;28;01mFalse\u001b[39;00m, \u001b[38;5;124m'\u001b[39m\u001b[38;5;124mThis assertion always triggers.\u001b[39m\u001b[38;5;124m'\u001b[39m\n",
      "\u001b[1;31mAssertionError\u001b[0m: This assertion always triggers."
     ]
    }
   ],
   "source": [
    "assert False, 'This assertion always triggers.'\n",
    "\n"
   ]
  },
  {
   "cell_type": "markdown",
   "id": "7f79ea0e",
   "metadata": {},
   "source": [
    "# 4. What are the two lines that must be present in your software in order to call logging.debug()?"
   ]
  },
  {
   "cell_type": "markdown",
   "id": "c94637de",
   "metadata": {},
   "source": [
    "## To be able to call logging.debug(), you must have these two lines at the start of your program:\n"
   ]
  },
  {
   "cell_type": "code",
   "execution_count": 35,
   "id": "aaa5ba13",
   "metadata": {},
   "outputs": [
    {
     "name": "stderr",
     "output_type": "stream",
     "text": [
      " 2022-10-19 22:32:28,620 -DEBUG -  Harmless debug Message\n"
     ]
    }
   ],
   "source": [
    "\n",
    "import logging\n",
    " \n",
    "# Create and configure logger\n",
    "logging.basicConfig(filename=\"newfile.log\",\n",
    "                    format='%(asctime)s %(message)s',\n",
    "                    filemode='w')\n",
    " \n",
    "#Test messages\n",
    "logger.debug(\"Harmless debug Message\")\n"
   ]
  },
  {
   "cell_type": "markdown",
   "id": "c25e0b8a",
   "metadata": {},
   "source": [
    "# 5. What are the two lines that your program must have in order to have logging.debug() send a logging message to a file named programLog.txt?"
   ]
  },
  {
   "cell_type": "markdown",
   "id": "17d1997e",
   "metadata": {},
   "source": [
    "To be able to send logging messages to a file named programLog.txt with logging.debug(), you must have these two lines at the start of your program:\n",
    "\n",
    "\n",
    "import logging\n",
    "logging.basicConfig(filename='programLog.txt', level=logging.DEBUG,\n",
    "format=' %(asctime)s -  %(levelname)s -  %(message)s')"
   ]
  },
  {
   "cell_type": "code",
   "execution_count": 37,
   "id": "56754ef5",
   "metadata": {},
   "outputs": [
    {
     "name": "stderr",
     "output_type": "stream",
     "text": [
      " 2022-10-19 22:38:49,650 -DEBUG -  Harmless debug Message\n"
     ]
    }
   ],
   "source": [
    "import logging\n",
    "logging.basicConfig(filename='programLog.txt', level=logging.DEBUG,\n",
    "format=' %(asctime)s -  %(levelname)s -  %(message)s')\n",
    " \n",
    "#Test messages\n",
    "logger.debug(\"Harmless debug Message\")\n"
   ]
  },
  {
   "cell_type": "markdown",
   "id": "27c8c5a4",
   "metadata": {},
   "source": [
    "# 6. What are the five levels of logging?"
   ]
  },
  {
   "cell_type": "markdown",
   "id": "984a614f",
   "metadata": {},
   "source": [
    "The five levels of logging are DEBUG, INFO, WARNING, ERROR, and CRITICAL\n",
    "\n",
    "1.DEBUG - Detailed information, typically of interest when diagnosing problems.\n",
    "\n",
    "2.INFO - Confirmation of things working as expected.\n",
    "\n",
    "3.WARNING - Indication of something unexpected or a problem in the near future e.g. 'disk space low'.\n",
    "\n",
    "4.ERROR - A more serious problem due to which the program was unable to perform a function.\n",
    "\n",
    "5.CRITICAL - A serious error, indicating that the program itself may not be able to continue executing.\n"
   ]
  },
  {
   "cell_type": "markdown",
   "id": "3cbc594b",
   "metadata": {},
   "source": [
    "# 7. What line of code would you add to your software to disable all logging messages?"
   ]
  },
  {
   "cell_type": "markdown",
   "id": "64952328",
   "metadata": {},
   "source": [
    "logging.disable(logging.CRITICAL) is add to our  software to disable all logging messages"
   ]
  },
  {
   "cell_type": "markdown",
   "id": "98fb3b6c",
   "metadata": {},
   "source": [
    "# 8.Why is using logging messages better than using print() to display the same message?"
   ]
  },
  {
   "cell_type": "markdown",
   "id": "83433aa9",
   "metadata": {},
   "source": [
    "using logging messages better than using print() to display the same message because of following points.\n",
    "\n",
    "1.print will just print the text to console. console. log() actually records it and we can use it for many purposes like email it for bug report.\n",
    "\n",
    "2.The print() statement fails if your code does not have access to the console.\n",
    "\n",
    "3.To define basic logging needs, several lines of code are needed.\n",
    "\n",
    "4.Including additional logging information is not easy.\n",
    "\n",
    "5.The print() statement only displays messages on the console. Recording logging data inside a file or sending it over the internet needs additional works.\n"
   ]
  },
  {
   "cell_type": "markdown",
   "id": "ff3b907e",
   "metadata": {},
   "source": [
    "# 9. What are the differences between the Step Over, Step In, and Step Out buttons in the debugger?"
   ]
  },
  {
   "cell_type": "markdown",
   "id": "274d1715",
   "metadata": {},
   "source": [
    "1.The Step button will move the debugger into a function call. \n",
    "\n",
    "2.The Over button will quickly execute the function call without stepping into it.\n",
    "\n",
    "3.The Out button will quickly execute the rest of the code until it steps out of the function it currently is in."
   ]
  },
  {
   "cell_type": "markdown",
   "id": "930ade47",
   "metadata": {},
   "source": [
    "# 10.After you click Continue, when will the debugger stop ?"
   ]
  },
  {
   "cell_type": "markdown",
   "id": "9862c9b2",
   "metadata": {},
   "source": [
    "Continue execution, only stop when a breakpoint is encountered."
   ]
  },
  {
   "cell_type": "markdown",
   "id": "ccb492b8",
   "metadata": {},
   "source": [
    "# 11. What is the concept of a breakpoint?"
   ]
  },
  {
   "cell_type": "markdown",
   "id": "1cb08e8d",
   "metadata": {},
   "source": [
    "A breakpoint is a setting on a line of code that causes the debugger to pause when the program execution reaches the line.\n",
    "\n"
   ]
  }
 ],
 "metadata": {
  "kernelspec": {
   "display_name": "Python 3 (ipykernel)",
   "language": "python",
   "name": "python3"
  },
  "language_info": {
   "codemirror_mode": {
    "name": "ipython",
    "version": 3
   },
   "file_extension": ".py",
   "mimetype": "text/x-python",
   "name": "python",
   "nbconvert_exporter": "python",
   "pygments_lexer": "ipython3",
   "version": "3.9.12"
  }
 },
 "nbformat": 4,
 "nbformat_minor": 5
}
