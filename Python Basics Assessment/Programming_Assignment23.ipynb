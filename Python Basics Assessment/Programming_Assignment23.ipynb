{
 "cells": [
  {
   "cell_type": "markdown",
   "id": "cb3648df",
   "metadata": {},
   "source": [
    "# 1.Create a function that takes a number as an argument and returns True or False dependingon whether the number is symmetrical or not. A number is symmetrical when it is the same as reverse.\n",
    "## Examples\n",
    "## is_symmetrical(7227) ➞ True\n",
    "## is_symmetrical(12567) ➞ False\n",
    "## is_symmetrical(44444444) ➞ True\n",
    "## is_symmetrical(9939) ➞ False\n",
    "## is_symmetrical(1112111) ➞ True"
   ]
  },
  {
   "cell_type": "code",
   "execution_count": 53,
   "id": "c1faa95b",
   "metadata": {},
   "outputs": [
    {
     "name": "stdout",
     "output_type": "stream",
     "text": [
      "Enter the number whether the number is symmetrical or not:1222221\n",
      "True\n"
     ]
    }
   ],
   "source": [
    "def is_symmetrical(s1):\n",
    "    s=str(s1)\n",
    "    n=len(s)//2\n",
    "    #print(s[:n])\n",
    "    #print(s[:-n-1:-1])\n",
    "    if(s[:n] ==s[:-n-1:-1]):\n",
    "        print(\"True\")\n",
    "    else:\n",
    "        print(\"False\")   \n",
    "s=int(input(\"Enter the number whether the number is symmetrical or not:\"))\n",
    "is_symmetrical(s)"
   ]
  },
  {
   "cell_type": "code",
   "execution_count": 54,
   "id": "573acd0c",
   "metadata": {},
   "outputs": [
    {
     "name": "stdout",
     "output_type": "stream",
     "text": [
      "False\n"
     ]
    }
   ],
   "source": [
    "is_symmetrical(12567)"
   ]
  },
  {
   "cell_type": "code",
   "execution_count": 55,
   "id": "e0b7eba8",
   "metadata": {},
   "outputs": [
    {
     "name": "stdout",
     "output_type": "stream",
     "text": [
      "True\n"
     ]
    }
   ],
   "source": [
    "is_symmetrical(11111)"
   ]
  },
  {
   "cell_type": "code",
   "execution_count": 56,
   "id": "a2f9ea7b",
   "metadata": {},
   "outputs": [
    {
     "name": "stdout",
     "output_type": "stream",
     "text": [
      "True\n"
     ]
    }
   ],
   "source": [
    "is_symmetrical(1112111)"
   ]
  },
  {
   "cell_type": "markdown",
   "id": "52af760e",
   "metadata": {},
   "source": [
    "# 2. Given a string of numbers separated by a comma and space, return the product of the numbers.\n",
    "## Examples\n",
    "## multiply_nums('2, 3') ➞ 6\n",
    "## multiply_nums('1, 2, 3, 4') ➞ 24\n",
    "## multiply_nums('54, 75, 453, 0') ➞ 0\n",
    "## multiply_nums('10, -2') ➞ -20"
   ]
  },
  {
   "cell_type": "code",
   "execution_count": 66,
   "id": "2a125fd1",
   "metadata": {},
   "outputs": [],
   "source": [
    "def multiply_nums(s):\n",
    "    s1 = s.split(',')\n",
    "    sum = 1\n",
    "    for i in s1:\n",
    "        sum = sum * int(i)\n",
    "    return sum"
   ]
  },
  {
   "cell_type": "code",
   "execution_count": 67,
   "id": "344449f4",
   "metadata": {},
   "outputs": [
    {
     "data": {
      "text/plain": [
       "-20"
      ]
     },
     "execution_count": 67,
     "metadata": {},
     "output_type": "execute_result"
    }
   ],
   "source": [
    "multiply_nums('10, -2')"
   ]
  },
  {
   "cell_type": "code",
   "execution_count": 68,
   "id": "cec294cd",
   "metadata": {},
   "outputs": [
    {
     "data": {
      "text/plain": [
       "6"
      ]
     },
     "execution_count": 68,
     "metadata": {},
     "output_type": "execute_result"
    }
   ],
   "source": [
    "multiply_nums('2, 3')"
   ]
  },
  {
   "cell_type": "markdown",
   "id": "22a14624",
   "metadata": {},
   "source": [
    "# 3.Create a function that squares every digit of a number.\n",
    "## Examples\n",
    "## square_digits(9119) ➞ 811181\n",
    "## square_digits(2483) ➞ 416649\n",
    "## square_digits(3212) ➞ 9414\n",
    "## Notes\n",
    "## The function receives an integer and must return an integer.\n"
   ]
  },
  {
   "cell_type": "code",
   "execution_count": 72,
   "id": "a17e3823",
   "metadata": {},
   "outputs": [],
   "source": [
    "def square_digits(n):\n",
    "    s=str(n)\n",
    "    s1=''\n",
    "    for i in s:\n",
    "        s1=s1 + str(int(i)**2)\n",
    "    return int(s1)\n"
   ]
  },
  {
   "cell_type": "code",
   "execution_count": 73,
   "id": "b9ec8ecf",
   "metadata": {},
   "outputs": [
    {
     "data": {
      "text/plain": [
       "811181"
      ]
     },
     "execution_count": 73,
     "metadata": {},
     "output_type": "execute_result"
    }
   ],
   "source": [
    "square_digits(9119) "
   ]
  },
  {
   "cell_type": "code",
   "execution_count": 75,
   "id": "e39fb132",
   "metadata": {},
   "outputs": [
    {
     "data": {
      "text/plain": [
       "416649"
      ]
     },
     "execution_count": 75,
     "metadata": {},
     "output_type": "execute_result"
    }
   ],
   "source": [
    "square_digits(2483)"
   ]
  },
  {
   "cell_type": "markdown",
   "id": "80f30756",
   "metadata": {},
   "source": [
    "# 4. Create a function that sorts a list and removes all duplicate items from it.\n",
    "## Examples\n",
    "## setify([1, 3, 3, 5, 5]) ➞ [1, 3, 5]\n",
    "## setify([4, 4, 4, 4]) ➞ [4]\n",
    "## setify([5, 7, 8, 9, 10, 15]) ➞ [5, 7, 8, 9, 10, 15]\n",
    "## setify([3, 3, 3, 2, 1]) ➞ [1, 2, 3]\n"
   ]
  },
  {
   "cell_type": "code",
   "execution_count": 76,
   "id": "3b72bcd3",
   "metadata": {},
   "outputs": [],
   "source": [
    "def setify(l):\n",
    "    return list(set(l))"
   ]
  },
  {
   "cell_type": "code",
   "execution_count": 77,
   "id": "9f6a1bff",
   "metadata": {},
   "outputs": [
    {
     "data": {
      "text/plain": [
       "[1, 3, 5]"
      ]
     },
     "execution_count": 77,
     "metadata": {},
     "output_type": "execute_result"
    }
   ],
   "source": [
    "setify([1, 3, 3, 5, 5]) "
   ]
  },
  {
   "cell_type": "code",
   "execution_count": 78,
   "id": "f69c53c0",
   "metadata": {},
   "outputs": [
    {
     "data": {
      "text/plain": [
       "[4]"
      ]
     },
     "execution_count": 78,
     "metadata": {},
     "output_type": "execute_result"
    }
   ],
   "source": [
    "setify([4, 4, 4, 4])"
   ]
  },
  {
   "cell_type": "code",
   "execution_count": 79,
   "id": "ce14039b",
   "metadata": {},
   "outputs": [
    {
     "data": {
      "text/plain": [
       "[5, 7, 8, 9, 10, 15]"
      ]
     },
     "execution_count": 79,
     "metadata": {},
     "output_type": "execute_result"
    }
   ],
   "source": [
    "setify([5, 7, 8, 9, 10, 15])"
   ]
  },
  {
   "cell_type": "markdown",
   "id": "cebbc699",
   "metadata": {},
   "source": [
    "# 5.Create a function that returns the mean of all digits.\n",
    "## Examples\n",
    "## mean(42) ➞ 3\n",
    "## mean(12345) ➞ 3\n",
    "## mean(666) ➞ 6\n",
    "## Notes\n",
    "## 1.The mean of all digits is the sum of digits / how many digits there are (e.g. mean of digits in 512 is (5+1+2)/3(number of digits) = 8/3=2).\n",
    "## 2.The mean will always be an integer."
   ]
  },
  {
   "cell_type": "code",
   "execution_count": 98,
   "id": "7f9c32f5",
   "metadata": {},
   "outputs": [],
   "source": [
    "def mean(n):\n",
    "    s=str(n)\n",
    "    sum=0\n",
    "    l=len(s)\n",
    "    for i in s:\n",
    "        sum=sum +int(i) \n",
    "    return sum//l    "
   ]
  },
  {
   "cell_type": "code",
   "execution_count": 99,
   "id": "7eb97c9d",
   "metadata": {},
   "outputs": [
    {
     "data": {
      "text/plain": [
       "3"
      ]
     },
     "execution_count": 99,
     "metadata": {},
     "output_type": "execute_result"
    }
   ],
   "source": [
    "mean(42)"
   ]
  },
  {
   "cell_type": "code",
   "execution_count": 100,
   "id": "b7c043ae",
   "metadata": {},
   "outputs": [
    {
     "data": {
      "text/plain": [
       "3"
      ]
     },
     "execution_count": 100,
     "metadata": {},
     "output_type": "execute_result"
    }
   ],
   "source": [
    "mean(12345)"
   ]
  },
  {
   "cell_type": "code",
   "execution_count": 101,
   "id": "95595539",
   "metadata": {},
   "outputs": [
    {
     "data": {
      "text/plain": [
       "6"
      ]
     },
     "execution_count": 101,
     "metadata": {},
     "output_type": "execute_result"
    }
   ],
   "source": [
    "mean(666)"
   ]
  },
  {
   "cell_type": "code",
   "execution_count": null,
   "id": "68bfa64f",
   "metadata": {},
   "outputs": [],
   "source": []
  }
 ],
 "metadata": {
  "kernelspec": {
   "display_name": "Python 3 (ipykernel)",
   "language": "python",
   "name": "python3"
  },
  "language_info": {
   "codemirror_mode": {
    "name": "ipython",
    "version": 3
   },
   "file_extension": ".py",
   "mimetype": "text/x-python",
   "name": "python",
   "nbconvert_exporter": "python",
   "pygments_lexer": "ipython3",
   "version": "3.9.12"
  }
 },
 "nbformat": 4,
 "nbformat_minor": 5
}
